{
 "cells": [
  {
   "cell_type": "markdown",
   "source": [
    "***Attention this dataloader requires almost 400GB of free harddisk space!!!!***\n",
    "\n",
    "***And takes on a powerfull machine around 4 hours to run!***"
   ],
   "metadata": {
    "collapsed": false
   },
   "id": "44626d9521e3e90f"
  },
  {
   "cell_type": "code",
   "execution_count": 72,
   "id": "initial_id",
   "metadata": {
    "collapsed": true,
    "ExecuteTime": {
     "end_time": "2023-11-29T06:24:42.064064500Z",
     "start_time": "2023-11-29T06:24:41.914282100Z"
    }
   },
   "outputs": [],
   "source": [
    "import os\n",
    "from os import path\n",
    "import numpy as np\n",
    "import db_builder.db_handler as dbh\n",
    "from getpass import getpass\n",
    "from datetime import datetime\n",
    "import datetime\n",
    "from torchvision import transforms\n",
    "import cv2\n",
    "from tqdm import tqdm"
   ]
  },
  {
   "cell_type": "code",
   "execution_count": 73,
   "outputs": [
    {
     "name": "stdout",
     "output_type": "stream",
     "text": [
      "Connected to PostgreSQL, DB: ttdatabase\n"
     ]
    }
   ],
   "source": [
    "db_params = {\n",
    "    'user': 'postgres',\n",
    "    'password': getpass('Please enter DB pw'),  # enter your DB password\n",
    "    'host': 'localhost',  # 'localhost' or IP address\n",
    "    'port': '5432',  # '5432'\n",
    "    'database': 'ttdatabase',  #tensionTerminator\n",
    "}\n",
    "toolcheck = dbh.DB_Conn(db_params)\n",
    "toolcheck.connect()\n",
    "engine = toolcheck.get_engine()"
   ],
   "metadata": {
    "collapsed": false,
    "ExecuteTime": {
     "end_time": "2023-11-29T06:24:46.247312400Z",
     "start_time": "2023-11-29T06:24:41.918096300Z"
    }
   },
   "id": "44c0f80f0a7759e2"
  },
  {
   "cell_type": "code",
   "execution_count": 74,
   "outputs": [
    {
     "name": "stdout",
     "output_type": "stream",
     "text": [
      "2023-11-29 07:24:46,204 INFO sqlalchemy.engine.Engine select pg_catalog.version()\n",
      "2023-11-29 07:24:46,205 INFO sqlalchemy.engine.Engine [raw sql] {}\n",
      "2023-11-29 07:24:46,206 INFO sqlalchemy.engine.Engine select current_schema()\n",
      "2023-11-29 07:24:46,207 INFO sqlalchemy.engine.Engine [raw sql] {}\n",
      "2023-11-29 07:24:46,208 INFO sqlalchemy.engine.Engine show standard_conforming_strings\n",
      "2023-11-29 07:24:46,208 INFO sqlalchemy.engine.Engine [raw sql] {}\n",
      "2023-11-29 07:24:46,209 INFO sqlalchemy.engine.Engine BEGIN (implicit)\n",
      "2023-11-29 07:24:46,209 INFO sqlalchemy.engine.Engine \n",
      "            SELECT l.id AS loop_id, v.file_path, u.name, u.surename\n",
      "            FROM loop l\n",
      "            LEFT JOIN video v ON l.id = v.loop_id AND v.device = 'rgbCam'\n",
      "            LEFT JOIN users u ON l.user_id = u.id\n",
      "            WHERE l.human_labeled = true\n",
      "        \n",
      "2023-11-29 07:24:46,210 INFO sqlalchemy.engine.Engine [generated in 0.00076s] {}\n",
      "2023-11-29 07:24:46,215 INFO sqlalchemy.engine.Engine ROLLBACK\n",
      "Connection to ttdatabase closed\n"
     ]
    }
   ],
   "source": [
    "data_df = toolcheck.get_combined_labeled_data()\n",
    "toolcheck.disconnect()"
   ],
   "metadata": {
    "collapsed": false,
    "ExecuteTime": {
     "end_time": "2023-11-29T06:24:46.249223500Z",
     "start_time": "2023-11-29T06:24:46.170665300Z"
    }
   },
   "id": "59cc500eeb2e1229"
  },
  {
   "cell_type": "code",
   "execution_count": 75,
   "outputs": [
    {
     "data": {
      "text/plain": "     loop_id                                          file_path       name  \\\n0          1  D:/BigBlock_01/tt_video_data/videos-2023-09-08...     Martin   \n1          2  D:/BigBlock_01/tt_video_data/videos-2023-09-08...    Juergen   \n2          3  D:/BigBlock_01/tt_video_data/videos-2023-09-08...  Christina   \n3          4  D:/BigBlock_01/tt_video_data/videos-2023-09-08...    Philipp   \n4          5  D:/BigBlock_01/tt_video_data/videos-2023-09-08...      Lukas   \n..       ...                                                ...        ...   \n123      124  D:/BigBlock_01/tt_video_data/videos-2023-09-18...    Juergen   \n124      125  D:/BigBlock_01/tt_video_data/videos-2023-09-18...    Juergen   \n125      126  D:/BigBlock_01/tt_video_data/videos-2023-09-18...    Juergen   \n126      127  D:/BigBlock_01/tt_video_data/videos-2023-09-18...    Juergen   \n127      128  D:/BigBlock_01/tt_video_data/videos-2023-09-18...    Juergen   \n\n      surename  \n0        Hofer  \n1      Zangerl  \n2    Greiderer  \n3        Egger  \n4      Prenner  \n..         ...  \n123    Zangerl  \n124    Zangerl  \n125    Zangerl  \n126    Zangerl  \n127    Zangerl  \n\n[128 rows x 4 columns]",
      "text/html": "<div>\n<style scoped>\n    .dataframe tbody tr th:only-of-type {\n        vertical-align: middle;\n    }\n\n    .dataframe tbody tr th {\n        vertical-align: top;\n    }\n\n    .dataframe thead th {\n        text-align: right;\n    }\n</style>\n<table border=\"1\" class=\"dataframe\">\n  <thead>\n    <tr style=\"text-align: right;\">\n      <th></th>\n      <th>loop_id</th>\n      <th>file_path</th>\n      <th>name</th>\n      <th>surename</th>\n    </tr>\n  </thead>\n  <tbody>\n    <tr>\n      <th>0</th>\n      <td>1</td>\n      <td>D:/BigBlock_01/tt_video_data/videos-2023-09-08...</td>\n      <td>Martin</td>\n      <td>Hofer</td>\n    </tr>\n    <tr>\n      <th>1</th>\n      <td>2</td>\n      <td>D:/BigBlock_01/tt_video_data/videos-2023-09-08...</td>\n      <td>Juergen</td>\n      <td>Zangerl</td>\n    </tr>\n    <tr>\n      <th>2</th>\n      <td>3</td>\n      <td>D:/BigBlock_01/tt_video_data/videos-2023-09-08...</td>\n      <td>Christina</td>\n      <td>Greiderer</td>\n    </tr>\n    <tr>\n      <th>3</th>\n      <td>4</td>\n      <td>D:/BigBlock_01/tt_video_data/videos-2023-09-08...</td>\n      <td>Philipp</td>\n      <td>Egger</td>\n    </tr>\n    <tr>\n      <th>4</th>\n      <td>5</td>\n      <td>D:/BigBlock_01/tt_video_data/videos-2023-09-08...</td>\n      <td>Lukas</td>\n      <td>Prenner</td>\n    </tr>\n    <tr>\n      <th>...</th>\n      <td>...</td>\n      <td>...</td>\n      <td>...</td>\n      <td>...</td>\n    </tr>\n    <tr>\n      <th>123</th>\n      <td>124</td>\n      <td>D:/BigBlock_01/tt_video_data/videos-2023-09-18...</td>\n      <td>Juergen</td>\n      <td>Zangerl</td>\n    </tr>\n    <tr>\n      <th>124</th>\n      <td>125</td>\n      <td>D:/BigBlock_01/tt_video_data/videos-2023-09-18...</td>\n      <td>Juergen</td>\n      <td>Zangerl</td>\n    </tr>\n    <tr>\n      <th>125</th>\n      <td>126</td>\n      <td>D:/BigBlock_01/tt_video_data/videos-2023-09-18...</td>\n      <td>Juergen</td>\n      <td>Zangerl</td>\n    </tr>\n    <tr>\n      <th>126</th>\n      <td>127</td>\n      <td>D:/BigBlock_01/tt_video_data/videos-2023-09-18...</td>\n      <td>Juergen</td>\n      <td>Zangerl</td>\n    </tr>\n    <tr>\n      <th>127</th>\n      <td>128</td>\n      <td>D:/BigBlock_01/tt_video_data/videos-2023-09-18...</td>\n      <td>Juergen</td>\n      <td>Zangerl</td>\n    </tr>\n  </tbody>\n</table>\n<p>128 rows × 4 columns</p>\n</div>"
     },
     "execution_count": 75,
     "metadata": {},
     "output_type": "execute_result"
    }
   ],
   "source": [
    "data_df"
   ],
   "metadata": {
    "collapsed": false,
    "ExecuteTime": {
     "end_time": "2023-11-29T06:24:46.249223500Z",
     "start_time": "2023-11-29T06:24:46.221171Z"
    }
   },
   "id": "3cc018fde5618952"
  },
  {
   "cell_type": "code",
   "execution_count": 76,
   "outputs": [],
   "source": [
    "def trigger_crop(image):\n",
    "    crop_box = (400, 450, 550, 550)\n",
    "    cropped_image = transforms.functional.crop(image, *crop_box)\n",
    "    return cropped_image"
   ],
   "metadata": {
    "collapsed": false,
    "ExecuteTime": {
     "end_time": "2023-11-29T06:24:46.249223500Z",
     "start_time": "2023-11-29T06:24:46.229015300Z"
    }
   },
   "id": "5fbfb7543624166c"
  },
  {
   "cell_type": "code",
   "execution_count": 77,
   "outputs": [],
   "source": [
    "def get_time():\n",
    "    return datetime.datetime.now().strftime(\"%d_%m_%Y_%H_%M_%S\")"
   ],
   "metadata": {
    "collapsed": false,
    "ExecuteTime": {
     "end_time": "2023-11-29T06:24:46.250229500Z",
     "start_time": "2023-11-29T06:24:46.234018700Z"
    }
   },
   "id": "28eabb4780fdc48e"
  },
  {
   "cell_type": "code",
   "execution_count": 78,
   "outputs": [],
   "source": [
    "def video_to_image_converter(source_path: str, output_path: str, crop=False):\n",
    "    vidcap = cv2.VideoCapture(source_path)\n",
    "    os.makedirs(output_path, exist_ok=True)\n",
    "    count = 0\n",
    "\n",
    "    total_frames = int(vidcap.get(cv2.CAP_PROP_FRAME_COUNT))\n",
    "    fps = 1\n",
    "\n",
    "    while count < total_frames:\n",
    "        success, image = vidcap.read()\n",
    "\n",
    "        if count % int(fps) == 0:\n",
    "            if not image is None and not image.size == 0:\n",
    "                transform_test = transforms.ToPILImage()\n",
    "                image = transform_test(image)\n",
    "                if crop:\n",
    "                    image = trigger_crop(image)\n",
    "                image = np.asarray(image)\n",
    "                cv2.imwrite(f\"{output_path}/{get_time()}_{count}.png\", image)  # save frame as PNG file\n",
    "\n",
    "        count += 1\n",
    "\n",
    "    vidcap.release()\n",
    "    cv2.destroyAllWindows()"
   ],
   "metadata": {
    "collapsed": false,
    "ExecuteTime": {
     "end_time": "2023-11-29T06:24:46.250229500Z",
     "start_time": "2023-11-29T06:24:46.241538300Z"
    }
   },
   "id": "d442d12aa4f47d38"
  },
  {
   "cell_type": "code",
   "execution_count": 79,
   "outputs": [],
   "source": [
    "def save_path(label: str, time):\n",
    "    abs_path = os.getcwd()\n",
    "    two_up =  path.abspath(path.join(abs_path ,\"../..\"))\n",
    "    return path.join(two_up, 'data', f'{os.path.basename(abs_path)}', f'{time}', label)"
   ],
   "metadata": {
    "collapsed": false,
    "ExecuteTime": {
     "end_time": "2023-11-29T06:24:46.395718Z",
     "start_time": "2023-11-29T06:24:46.246314500Z"
    }
   },
   "id": "1c3005ae0b222e7b"
  },
  {
   "cell_type": "code",
   "execution_count": 80,
   "outputs": [],
   "source": [
    "current_time = get_time()"
   ],
   "metadata": {
    "collapsed": false,
    "ExecuteTime": {
     "end_time": "2023-11-29T06:24:46.396624400Z",
     "start_time": "2023-11-29T06:24:46.251228400Z"
    }
   },
   "id": "f9b56d83f4602207"
  },
  {
   "cell_type": "code",
   "execution_count": 80,
   "outputs": [],
   "source": [],
   "metadata": {
    "collapsed": false,
    "ExecuteTime": {
     "end_time": "2023-11-29T06:24:46.396624400Z",
     "start_time": "2023-11-29T06:24:46.259626Z"
    }
   },
   "id": "d48fb6381ca559d9"
  },
  {
   "cell_type": "markdown",
   "source": [
    "for index, row in tqdm(data_df.iterrows()):\n",
    "    \n",
    "    video_to_image_converter(row['file_path'],save_path(f\"{row['name']}_{row['surename']}\",current_time))\n",
    "    # Accessing row data\n",
    "    #print(f\"Index: {index}\")\n",
    "    #print(f\"Loop ID: {row['loop_id']}, Name: {row['name']}, Surname: {row['surename']}\")\n"
   ],
   "metadata": {
    "collapsed": false
   },
   "id": "456713a1547c6360"
  },
  {
   "cell_type": "code",
   "execution_count": 81,
   "outputs": [
    {
     "name": "stderr",
     "output_type": "stream",
     "text": [
      "100%|██████████| 128/128 [4:03:30<00:00, 114.14s/it] \n"
     ]
    }
   ],
   "source": [
    "for index in tqdm(range(len(data_df))):\n",
    "    row = data_df.iloc[index] \n",
    "    video_to_image_converter(row['file_path'], save_path(f\"{row['name']}_{row['surename']}\", current_time))\n"
   ],
   "metadata": {
    "collapsed": false,
    "ExecuteTime": {
     "end_time": "2023-11-29T10:28:16.434600400Z",
     "start_time": "2023-11-29T06:24:46.263625600Z"
    }
   },
   "id": "356a01890726e29c"
  }
 ],
 "metadata": {
  "kernelspec": {
   "display_name": "Python 3",
   "language": "python",
   "name": "python3"
  },
  "language_info": {
   "codemirror_mode": {
    "name": "ipython",
    "version": 2
   },
   "file_extension": ".py",
   "mimetype": "text/x-python",
   "name": "python",
   "nbconvert_exporter": "python",
   "pygments_lexer": "ipython2",
   "version": "2.7.6"
  }
 },
 "nbformat": 4,
 "nbformat_minor": 5
}
