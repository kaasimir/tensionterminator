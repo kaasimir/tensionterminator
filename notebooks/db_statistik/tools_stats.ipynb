{
 "cells": [
  {
   "cell_type": "code",
   "execution_count": null,
   "id": "initial_id",
   "metadata": {
    "collapsed": true
   },
   "outputs": [],
   "source": [
    "import numpy as np\n",
    "import matplotlib.pyplot as plt\n",
    "import pandas as pd\n",
    "import db_builder.db_handler as dbh\n",
    "import logging\n",
    "\n",
    "logging.getLogger('sqlalchemy').setLevel(logging.WARNING)\n",
    "db_params = {\n",
    "    'user': 'postgres',\n",
    "    'password': input('Please enter DB pw'),  # enter your DB password\n",
    "    'host': 'localhost',  # 'localhost' or IP address\n",
    "    'port': '5432',  # '5432'\n",
    "    'database': 'ttdatabase',  #tensionTerminator\n",
    "}\n",
    "toolcheck = dbh.DB_Conn(db_params)\n",
    "toolcheck.connect()\n",
    "engine = toolcheck.get_engine()"
   ]
  },
  {
   "cell_type": "code",
   "execution_count": null,
   "outputs": [],
   "source": [
    "def table_to_df(tabel_name: str):\n",
    "    return pd.read_sql_table(tabel_name, con=engine)"
   ],
   "metadata": {
    "collapsed": false
   },
   "id": "c079bff9b2f05bc1"
  },
  {
   "cell_type": "code",
   "execution_count": null,
   "outputs": [],
   "source": [
    "def get_tools(id):\n",
    "    tools_df = table_to_df('tools')\n",
    "    tool_loc = tools_df.loc[tools_df['id'] == id].values\n",
    "    return f\"{tool_loc[0][1]}\""
   ],
   "metadata": {
    "collapsed": false
   },
   "id": "1c32b203773c6ed"
  },
  {
   "cell_type": "code",
   "execution_count": null,
   "outputs": [],
   "source": [
    "tools_loop_association_df = table_to_df('tools_loop_association')\n",
    "tools_df = table_to_df('tools')"
   ],
   "metadata": {
    "collapsed": false
   },
   "id": "ed62b35db9c7a1e7"
  },
  {
   "cell_type": "code",
   "execution_count": null,
   "outputs": [],
   "source": [
    "value_count_tools = tools_loop_association_df['tool_id'].value_counts()\n",
    "tool_ids = [get_tools(x) for x in value_count_tools.index]\n",
    "tool_counts = value_count_tools.values\n",
    "\n",
    "plt.figure(figsize=(12, 10))\n",
    "\n",
    "plt.bar(tool_ids, tool_counts)\n",
    "plt.xlabel('Tool IDs')\n",
    "plt.ylabel('Count')\n",
    "plt.title('Count of each Tool')\n",
    "\n",
    "plt.show()"
   ],
   "metadata": {
    "collapsed": false
   },
   "id": "5a7e29db0ba85b80"
  }
 ],
 "metadata": {
  "kernelspec": {
   "display_name": "Python 3",
   "language": "python",
   "name": "python3"
  },
  "language_info": {
   "codemirror_mode": {
    "name": "ipython",
    "version": 2
   },
   "file_extension": ".py",
   "mimetype": "text/x-python",
   "name": "python",
   "nbconvert_exporter": "python",
   "pygments_lexer": "ipython2",
   "version": "2.7.6"
  }
 },
 "nbformat": 4,
 "nbformat_minor": 5
}
