{
 "cells": [
  {
   "cell_type": "code",
   "execution_count": null,
   "id": "initial_id",
   "metadata": {
    "collapsed": true
   },
   "outputs": [],
   "source": [
    "from getpass import getpass\n",
    "import numpy as np\n",
    "import matplotlib.pyplot as plt\n",
    "import pandas as pd\n",
    "import db_builder.db_handler as dbh\n",
    "import logging\n",
    "import seaborn as sns \n",
    "\n",
    "logging.getLogger('sqlalchemy').setLevel(logging.WARNING)\n",
    "db_params = {\n",
    "    'user': 'postgres',\n",
    "    'password': getpass('Please enter DB pw'),  # enter your DB password\n",
    "    'host': 'localhost',  # 'localhost' or IP address\n",
    "    'port': '5432',  # '5432'\n",
    "    'database': 'ttdatabase',  #tensionTerminator\n",
    "}\n",
    "toolcheck = dbh.DB_Conn(db_params)\n",
    "toolcheck.connect()\n",
    "engine = toolcheck.get_engine()"
   ]
  },
  {
   "cell_type": "code",
   "execution_count": null,
   "outputs": [],
   "source": [
    "def table_to_df(tabel_name: str):\n",
    "    return pd.read_sql_table(tabel_name, con=engine)"
   ],
   "metadata": {
    "collapsed": false
   },
   "id": "73fa9c28d20b2992"
  },
  {
   "cell_type": "code",
   "execution_count": null,
   "outputs": [],
   "source": [
    "def get_tools(id):\n",
    "    tools_df = table_to_df('bodyside')\n",
    "    tool_loc = tools_df.loc[tools_df['id'] == id].values\n",
    "    return f\"{tool_loc[0][1]}\""
   ],
   "metadata": {
    "collapsed": false
   },
   "id": "67409a898fa90166"
  },
  {
   "cell_type": "code",
   "execution_count": null,
   "outputs": [],
   "source": [
    "bodyside_loop_association_df = table_to_df('bodyside_loop_association').dropna()\n",
    "bodyside_df = table_to_df('bodyside').dropna()"
   ],
   "metadata": {
    "collapsed": false
   },
   "id": "74c19cd7d2a4dbe6"
  },
  {
   "cell_type": "code",
   "execution_count": null,
   "outputs": [],
   "source": [
    "bodyside_df"
   ],
   "metadata": {
    "collapsed": false
   },
   "id": "fab75d4f965272a9"
  },
  {
   "cell_type": "code",
   "execution_count": null,
   "outputs": [],
   "source": [
    "count = bodyside_df.groupby(['side', 'time_in_use']).size().reset_index(name='Count')\n",
    "count"
   ],
   "metadata": {
    "collapsed": false
   },
   "id": "319fd989be839035"
  },
  {
   "cell_type": "code",
   "execution_count": null,
   "outputs": [],
   "source": [
    "bodyside_df['time_in_use'] = pd.to_datetime(bodyside_df['time_in_use'], format='%H:%M:%S')\n",
    "bodyside_df['time_in_use_seconds'] = bodyside_df['time_in_use'].dt.hour * 3600 + bodyside_df['time_in_use'].dt.minute * 60 + bodyside_df['time_in_use'].dt.second\n",
    "\n",
    "bodyside_df"
   ],
   "metadata": {
    "collapsed": false
   },
   "id": "6feb3fdf9b24f3e4"
  },
  {
   "cell_type": "code",
   "execution_count": null,
   "outputs": [],
   "source": [
    "time_sum_per_bodyside = bodyside_df.groupby('side')['time_in_use_seconds'].sum().reset_index()\n",
    "time_sum_per_bodyside"
   ],
   "metadata": {
    "collapsed": false
   },
   "id": "ef5c41e08923a524"
  },
  {
   "cell_type": "code",
   "execution_count": null,
   "outputs": [],
   "source": [
    "colors = sns.color_palette('husl', n_colors=len(time_sum_per_bodyside))\n",
    "\n",
    "plt.figure(figsize=(12, 10))\n",
    "\n",
    "plt.bar(time_sum_per_bodyside['side'], time_sum_per_bodyside['time_in_use_seconds']/60, color=colors)\n",
    "\n",
    "plt.xlabel('Tools')\n",
    "plt.ylabel('Minuten')\n",
    "plt.title(f\"Count of each Tool, summarized time: {time_sum_per_bodyside['time_in_use_seconds'].sum()/60} min\")\n",
    "\n",
    "plt.show()"
   ],
   "metadata": {
    "collapsed": false
   },
   "id": "6e5449f428e44c42"
  },
  {
   "cell_type": "code",
   "execution_count": null,
   "outputs": [],
   "source": [],
   "metadata": {
    "collapsed": false
   },
   "id": "1adb609e8860ac62"
  }
 ],
 "metadata": {
  "kernelspec": {
   "display_name": "Python 3",
   "language": "python",
   "name": "python3"
  },
  "language_info": {
   "codemirror_mode": {
    "name": "ipython",
    "version": 2
   },
   "file_extension": ".py",
   "mimetype": "text/x-python",
   "name": "python",
   "nbconvert_exporter": "python",
   "pygments_lexer": "ipython2",
   "version": "2.7.6"
  }
 },
 "nbformat": 4,
 "nbformat_minor": 5
}
