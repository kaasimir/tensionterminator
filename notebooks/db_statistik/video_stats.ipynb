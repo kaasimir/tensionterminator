{
 "cells": [
  {
   "cell_type": "code",
   "execution_count": null,
   "id": "initial_id",
   "metadata": {
    "collapsed": true
   },
   "outputs": [],
   "source": [
    "import numpy as np\n",
    "import matplotlib.pyplot as plt\n",
    "import pandas as pd\n",
    "import db_builder.db_handler as dbh\n",
    "import logging"
   ]
  },
  {
   "cell_type": "code",
   "execution_count": null,
   "outputs": [],
   "source": [
    "logging.getLogger('sqlalchemy').setLevel(logging.WARNING)"
   ],
   "metadata": {
    "collapsed": false
   },
   "id": "605d43bd5041adbd"
  },
  {
   "cell_type": "code",
   "execution_count": null,
   "outputs": [],
   "source": [
    "db_params = {\n",
    "    'user': 'postgres',\n",
    "    'password': input('Please enter DB pw'),  # enter your DB password\n",
    "    'host': 'localhost',  # 'localhost' or IP address\n",
    "    'port': '5432',  # '5432'\n",
    "    'database': 'ttdatabase', #tensionTerminator\n",
    "}"
   ],
   "metadata": {
    "collapsed": false
   },
   "id": "8884afe306a72312"
  },
  {
   "cell_type": "code",
   "execution_count": null,
   "outputs": [],
   "source": [
    "toolcheck = dbh.DB_Conn(db_params)\n",
    "toolcheck.connect()\n",
    "engine  = toolcheck.get_engine()"
   ],
   "metadata": {
    "collapsed": false
   },
   "id": "e2cb6218f1a3bcde"
  },
  {
   "cell_type": "code",
   "execution_count": null,
   "outputs": [],
   "source": [
    "def table_to_df(tabel_name: str):\n",
    "    return pd.read_sql_table(tabel_name, con=engine)"
   ],
   "metadata": {
    "collapsed": false
   },
   "id": "c58dd535313be5c6"
  },
  {
   "cell_type": "code",
   "execution_count": null,
   "outputs": [],
   "source": [
    "loop_df = table_to_df('loop')"
   ],
   "metadata": {
    "collapsed": false
   },
   "id": "709d42498bcfbb12"
  },
  {
   "cell_type": "markdown",
   "source": [
    "table_name = 'loop'  # Replace 'your_table_name' with the actual name of the table\n",
    "df = pd.read_sql_table(table_name, con=engine)"
   ],
   "metadata": {
    "collapsed": false
   },
   "id": "34fc9f43d80744ea"
  },
  {
   "cell_type": "code",
   "execution_count": null,
   "outputs": [],
   "source": [
    "loop_df"
   ],
   "metadata": {
    "collapsed": false
   },
   "id": "28ee983d1304367d"
  },
  {
   "cell_type": "code",
   "execution_count": null,
   "outputs": [],
   "source": [
    "def overview():\n",
    "    print(f\"Die DB enthält {loop_df['timestamp'].count()} Aufzeichnungen, das entspricht {loop_df['session_length'].sum()} Sekunden an Videomaterial:\")\n",
    "    print(f\"\\t{loop_df['human_labeled'].sum()} Aufzeichnungen sind von Menschen gelabelt ({loop_df.loc[loop_df['human_labeled'] == True, 'session_length'].sum()} Sekunden) \")\n",
    "    print(f\"\\t{(loop_df['human_labeled'] == False).sum()} Aufzeichnungen sind von Menschen gelabelt ({loop_df.loc[loop_df['human_labeled'] == False, 'session_length'].sum()} Sekunden)\")\n",
    "    print(f\"Videolänge mean: {loop_df['session_length'].mean()} Sekunden\")\n",
    "    print(f\"Videolänge median: {loop_df['session_length'].median()} Sekunden\")\n",
    "    print(f\"Videolänge min: {loop_df['session_length'].min()} Sekunden\")\n",
    "    print(f\"Videolänge max: {loop_df['session_length'].max()} Sekunden\")"
   ],
   "metadata": {
    "collapsed": false
   },
   "id": "78b549611df502db"
  },
  {
   "cell_type": "code",
   "execution_count": null,
   "outputs": [],
   "source": [
    "overview()"
   ],
   "metadata": {
    "collapsed": false
   },
   "id": "12cea9fce667aec4"
  },
  {
   "cell_type": "code",
   "execution_count": null,
   "outputs": [],
   "source": [
    "grouped_df = loop_df.groupby(loop_df['timestamp'].dt.date)['session_length'].sum().reset_index()"
   ],
   "metadata": {
    "collapsed": false
   },
   "id": "1a0b79a82f0b8e80"
  },
  {
   "cell_type": "code",
   "execution_count": null,
   "outputs": [],
   "source": [
    "grouped_df['labeled'] = loop_df[loop_df['human_labeled'] == True].groupby(loop_df['timestamp'].dt.date)['session_length'].sum().reset_index()['session_length']\n",
    "\n"
   ],
   "metadata": {
    "collapsed": false
   },
   "id": "6c7565c01039615b"
  },
  {
   "cell_type": "code",
   "execution_count": null,
   "outputs": [],
   "source": [
    "grouped_df = grouped_df.fillna(0)"
   ],
   "metadata": {
    "collapsed": false
   },
   "id": "468fb773807dc857"
  },
  {
   "cell_type": "code",
   "execution_count": null,
   "outputs": [],
   "source": [
    "grouped_df"
   ],
   "metadata": {
    "collapsed": false
   },
   "id": "7383349548590f24"
  },
  {
   "cell_type": "code",
   "execution_count": null,
   "outputs": [],
   "source": [
    "loop_df.loc[loop_df['human_labeled'] == True, 'session_length'].sum()"
   ],
   "metadata": {
    "collapsed": false
   },
   "id": "cb6e9596359bdc36"
  },
  {
   "cell_type": "code",
   "execution_count": null,
   "outputs": [],
   "source": [
    "grouped_df['session_length']/60"
   ],
   "metadata": {
    "collapsed": false
   },
   "id": "111ae3d84ca56fa6"
  },
  {
   "cell_type": "markdown",
   "source": [],
   "metadata": {
    "collapsed": false
   },
   "id": "2fbe289b68059d0b"
  },
  {
   "cell_type": "code",
   "execution_count": null,
   "outputs": [],
   "source": [
    "label = ['label', 'no lable']\n",
    "plt.figure(figsize=(12, 10))\n",
    "\n",
    "plt.bar(grouped_df['timestamp'].astype(str), grouped_df['session_length']/60, label='no label')\n",
    "plt.bar(grouped_df['timestamp'].astype(str), grouped_df['labeled']/60, label='label')\n",
    "plt.xlabel('Datum')\n",
    "plt.ylabel('Videomaterial in Minuten')\n",
    "plt.title('Aufgezeichnete Daten pro Tag')\n",
    "plt.ylim(0,70)\n",
    "plt.legend()\n",
    "\n",
    "plt.show()\n",
    "\n"
   ],
   "metadata": {
    "collapsed": false
   },
   "id": "83982404518de205"
  },
  {
   "cell_type": "code",
   "execution_count": null,
   "outputs": [],
   "source": [
    "loop_df"
   ],
   "metadata": {
    "collapsed": false
   },
   "id": "d7097d4877305612"
  },
  {
   "cell_type": "code",
   "execution_count": null,
   "outputs": [],
   "source": [
    "session_user_id_df_test = loop_df.groupby(loop_df['timestamp'].dt.date)['user_id'].unique()"
   ],
   "metadata": {
    "collapsed": false
   },
   "id": "dabba5098f09e68"
  },
  {
   "cell_type": "code",
   "execution_count": null,
   "outputs": [],
   "source": [
    "session_user_id_df_test"
   ],
   "metadata": {
    "collapsed": false
   },
   "id": "65525a5c35e835af"
  },
  {
   "cell_type": "code",
   "execution_count": null,
   "outputs": [],
   "source": [
    "session_user_id_df_test1 = loop_df.groupby([loop_df['timestamp'].dt.date, 'user_id']).size().unstack(fill_value=0)"
   ],
   "metadata": {
    "collapsed": false
   },
   "id": "94ef956ec4ba5eca"
  },
  {
   "cell_type": "code",
   "execution_count": null,
   "outputs": [],
   "source": [
    "session_user_id_df_test1"
   ],
   "metadata": {
    "collapsed": false
   },
   "id": "8aca85deb6db24a1"
  },
  {
   "cell_type": "code",
   "execution_count": null,
   "outputs": [],
   "source": [
    "session_user_time_df = loop_df.groupby([loop_df['timestamp'].dt.date, 'user_id'])['session_length'].sum().unstack(fill_value=0)"
   ],
   "metadata": {
    "collapsed": false
   },
   "id": "4e28d1a67cccc65c"
  },
  {
   "cell_type": "code",
   "execution_count": null,
   "outputs": [],
   "source": [
    "session_user_time_df = session_user_time_df.reset_index()"
   ],
   "metadata": {
    "collapsed": false
   },
   "id": "87cacbc751a16f26"
  },
  {
   "cell_type": "code",
   "execution_count": null,
   "outputs": [],
   "source": [
    "session_user_time_df"
   ],
   "metadata": {
    "collapsed": false
   },
   "id": "3afe7536e4c1b388"
  },
  {
   "cell_type": "code",
   "execution_count": null,
   "outputs": [],
   "source": [
    "users_df = table_to_df('users')"
   ],
   "metadata": {
    "collapsed": false
   },
   "id": "9db9a21324208d0c"
  },
  {
   "cell_type": "code",
   "execution_count": null,
   "outputs": [],
   "source": [
    "def get_user(id):\n",
    "    user_df = table_to_df('users')\n",
    "    users_loc = user_df.loc[user_df['id']==id].values\n",
    "    return f\"{users_loc[0][1]} {users_loc[0][2]}\""
   ],
   "metadata": {
    "collapsed": false
   },
   "id": "cdf565de7874c714"
  },
  {
   "cell_type": "code",
   "execution_count": null,
   "outputs": [],
   "source": [
    "#label = ['label', 'no lable']\n",
    "plt.figure(figsize=(12, 10))\n",
    "bottom = np.zeros(3)\n",
    "\n",
    "for x in range(loop_df['user_id'].nunique()):\n",
    "    plt.bar(session_user_time_df['timestamp'].astype(str), session_user_time_df[x+1]/60, label=f\"{get_user(x+1)}\", bottom=bottom)\n",
    "    bottom += session_user_time_df[x+1]/60\n",
    "#plt.bar(grouped_df['timestamp'].astype(str), grouped_df['labeled']/60, label='label')\n",
    "plt.xlabel('Datum')\n",
    "plt.ylabel('Videomaterial in Minuten')\n",
    "plt.ylim(0,70)\n",
    "plt.title('Aufgezeichnete Daten pro Tag, pro Person')\n",
    "plt.legend()\n",
    "\n",
    "plt.show()"
   ],
   "metadata": {
    "collapsed": false
   },
   "id": "370be66c203b669a"
  },
  {
   "cell_type": "markdown",
   "source": [],
   "metadata": {
    "collapsed": false
   },
   "id": "92819eb07a23f2c"
  }
 ],
 "metadata": {
  "kernelspec": {
   "display_name": "Python 3",
   "language": "python",
   "name": "python3"
  },
  "language_info": {
   "codemirror_mode": {
    "name": "ipython",
    "version": 2
   },
   "file_extension": ".py",
   "mimetype": "text/x-python",
   "name": "python",
   "nbconvert_exporter": "python",
   "pygments_lexer": "ipython2",
   "version": "2.7.6"
  }
 },
 "nbformat": 4,
 "nbformat_minor": 5
}
