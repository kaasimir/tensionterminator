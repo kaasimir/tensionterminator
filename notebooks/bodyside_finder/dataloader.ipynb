{
 "cells": [
  {
   "cell_type": "code",
   "execution_count": 31,
   "metadata": {
    "tags": [],
    "ExecuteTime": {
     "end_time": "2023-11-20T05:14:44.702983200Z",
     "start_time": "2023-11-20T05:14:44.693972200Z"
    }
   },
   "outputs": [],
   "source": [
    "import os\n",
    "from os import path\n",
    "import sys\n",
    "sys.path.append(os.getcwd())\n",
    "sys.path.append(os.path.join(os.getcwd(), '../..'))\n",
    "\n",
    "import db_builder.db_handler as dbh\n",
    "\n",
    "import numpy as np\n",
    "import cv2\n",
    "from torchvision import transforms\n",
    "from tqdm import tqdm\n",
    "import datetime\n"
   ]
  },
  {
   "cell_type": "code",
   "execution_count": 32,
   "metadata": {
    "collapsed": false,
    "tags": [],
    "ExecuteTime": {
     "end_time": "2023-11-20T05:14:48.767446900Z",
     "start_time": "2023-11-20T05:14:45.227980100Z"
    }
   },
   "outputs": [],
   "source": [
    "db_params = {\n",
    "    'user': 'postgres',\n",
    "    'password': input('Please enter DB pw'),  # enter your DB password\n",
    "    'host': 'localhost',  # 'localhost' or IP address\n",
    "    'port': '5432',  # '5432'\n",
    "    'database': 'ttdatabase', #tensionTerminator\n",
    "}"
   ]
  },
  {
   "cell_type": "code",
   "execution_count": 33,
   "metadata": {
    "collapsed": false,
    "tags": [],
    "ExecuteTime": {
     "end_time": "2023-11-20T05:14:53.853412800Z",
     "start_time": "2023-11-20T05:14:53.758471600Z"
    }
   },
   "outputs": [
    {
     "name": "stdout",
     "output_type": "stream",
     "text": [
      "Connected to PostgreSQL, DB: ttdatabase\n",
      "2023-11-20 06:14:53,796 INFO sqlalchemy.engine.Engine select pg_catalog.version()\n",
      "2023-11-20 06:14:53,797 INFO sqlalchemy.engine.Engine [raw sql] {}\n",
      "2023-11-20 06:14:53,799 INFO sqlalchemy.engine.Engine select current_schema()\n",
      "2023-11-20 06:14:53,800 INFO sqlalchemy.engine.Engine [raw sql] {}\n",
      "2023-11-20 06:14:53,801 INFO sqlalchemy.engine.Engine show standard_conforming_strings\n",
      "2023-11-20 06:14:53,801 INFO sqlalchemy.engine.Engine [raw sql] {}\n",
      "2023-11-20 06:14:53,802 INFO sqlalchemy.engine.Engine BEGIN (implicit)\n",
      "2023-11-20 06:14:53,803 INFO sqlalchemy.engine.Engine SELECT loop.id AS loop_id, loop.timestamp AS loop_timestamp, loop.session_length AS loop_session_length, loop.location AS loop_location, loop.human_labeled AS loop_human_labeled, loop.user_id AS loop_user_id \n",
      "FROM loop JOIN bodyside_loop_association ON loop.id = bodyside_loop_association.loop_id \n",
      "WHERE loop.human_labeled = true AND bodyside_loop_association.bodyside_id = %(bodyside_id_1)s\n",
      "2023-11-20 06:14:53,804 INFO sqlalchemy.engine.Engine [generated in 0.00059s] {'bodyside_id_1': 2}\n",
      "2023-11-20 06:14:53,808 INFO sqlalchemy.engine.Engine SELECT video.id AS video_id, video.device AS video_device, video.file_path AS video_file_path, video.loop_id AS video_loop_id \n",
      "FROM video JOIN loop ON video.loop_id = loop.id \n",
      "WHERE video.device = %(device_1)s AND loop.id IN (%(id_1_1)s, %(id_1_2)s, %(id_1_3)s, %(id_1_4)s, %(id_1_5)s, %(id_1_6)s, %(id_1_7)s, %(id_1_8)s, %(id_1_9)s, %(id_1_10)s, %(id_1_11)s, %(id_1_12)s, %(id_1_13)s, %(id_1_14)s, %(id_1_15)s, %(id_1_16)s, %(id_1_17)s, %(id_1_18)s, %(id_1_19)s, %(id_1_20)s, %(id_1_21)s, %(id_1_22)s, %(id_1_23)s, %(id_1_24)s, %(id_1_25)s, %(id_1_26)s, %(id_1_27)s, %(id_1_28)s, %(id_1_29)s, %(id_1_30)s, %(id_1_31)s, %(id_1_32)s, %(id_1_33)s, %(id_1_34)s, %(id_1_35)s)\n",
      "2023-11-20 06:14:53,809 INFO sqlalchemy.engine.Engine [generated in 0.00072s] {'device_1': 'rgbCam', 'id_1_1': 1, 'id_1_2': 2, 'id_1_3': 3, 'id_1_4': 4, 'id_1_5': 5, 'id_1_6': 6, 'id_1_7': 8, 'id_1_8': 10, 'id_1_9': 18, 'id_1_10': 20, 'id_1_11': 21, 'id_1_12': 22, 'id_1_13': 28, 'id_1_14': 29, 'id_1_15': 34, 'id_1_16': 35, 'id_1_17': 51, 'id_1_18': 53, 'id_1_19': 55, 'id_1_20': 56, 'id_1_21': 58, 'id_1_22': 60, 'id_1_23': 84, 'id_1_24': 88, 'id_1_25': 89, 'id_1_26': 91, 'id_1_27': 93, 'id_1_28': 96, 'id_1_29': 99, 'id_1_30': 100, 'id_1_31': 106, 'id_1_32': 112, 'id_1_33': 118, 'id_1_34': 120, 'id_1_35': 127}\n",
      "2023-11-20 06:14:53,814 INFO sqlalchemy.engine.Engine SELECT loop.id AS loop_id, loop.timestamp AS loop_timestamp, loop.session_length AS loop_session_length, loop.location AS loop_location, loop.human_labeled AS loop_human_labeled, loop.user_id AS loop_user_id \n",
      "FROM loop JOIN bodyside_loop_association ON loop.id = bodyside_loop_association.loop_id \n",
      "WHERE loop.human_labeled = true AND bodyside_loop_association.bodyside_id = %(bodyside_id_1)s\n",
      "2023-11-20 06:14:53,814 INFO sqlalchemy.engine.Engine [cached since 0.01082s ago] {'bodyside_id_1': 3}\n",
      "2023-11-20 06:14:53,817 INFO sqlalchemy.engine.Engine SELECT video.id AS video_id, video.device AS video_device, video.file_path AS video_file_path, video.loop_id AS video_loop_id \n",
      "FROM video JOIN loop ON video.loop_id = loop.id \n",
      "WHERE video.device = %(device_1)s AND loop.id IN (%(id_1_1)s, %(id_1_2)s, %(id_1_3)s, %(id_1_4)s, %(id_1_5)s, %(id_1_6)s, %(id_1_7)s, %(id_1_8)s, %(id_1_9)s, %(id_1_10)s, %(id_1_11)s, %(id_1_12)s, %(id_1_13)s, %(id_1_14)s, %(id_1_15)s, %(id_1_16)s, %(id_1_17)s, %(id_1_18)s, %(id_1_19)s, %(id_1_20)s, %(id_1_21)s, %(id_1_22)s, %(id_1_23)s, %(id_1_24)s, %(id_1_25)s, %(id_1_26)s, %(id_1_27)s, %(id_1_28)s, %(id_1_29)s, %(id_1_30)s, %(id_1_31)s, %(id_1_32)s, %(id_1_33)s, %(id_1_34)s, %(id_1_35)s, %(id_1_36)s, %(id_1_37)s, %(id_1_38)s, %(id_1_39)s, %(id_1_40)s, %(id_1_41)s, %(id_1_42)s, %(id_1_43)s, %(id_1_44)s, %(id_1_45)s, %(id_1_46)s, %(id_1_47)s, %(id_1_48)s, %(id_1_49)s, %(id_1_50)s, %(id_1_51)s, %(id_1_52)s, %(id_1_53)s, %(id_1_54)s, %(id_1_55)s, %(id_1_56)s)\n",
      "2023-11-20 06:14:53,817 INFO sqlalchemy.engine.Engine [cached since 0.008853s ago] {'device_1': 'rgbCam', 'id_1_1': 24, 'id_1_2': 25, 'id_1_3': 30, 'id_1_4': 31, 'id_1_5': 32, 'id_1_6': 33, 'id_1_7': 38, 'id_1_8': 39, 'id_1_9': 40, 'id_1_10': 41, 'id_1_11': 42, 'id_1_12': 43, 'id_1_13': 44, 'id_1_14': 45, 'id_1_15': 46, 'id_1_16': 47, 'id_1_17': 48, 'id_1_18': 49, 'id_1_19': 62, 'id_1_20': 63, 'id_1_21': 64, 'id_1_22': 65, 'id_1_23': 66, 'id_1_24': 67, 'id_1_25': 68, 'id_1_26': 69, 'id_1_27': 70, 'id_1_28': 71, 'id_1_29': 72, 'id_1_30': 73, 'id_1_31': 74, 'id_1_32': 75, 'id_1_33': 76, 'id_1_34': 77, 'id_1_35': 78, 'id_1_36': 79, 'id_1_37': 80, 'id_1_38': 81, 'id_1_39': 82, 'id_1_40': 83, 'id_1_41': 102, 'id_1_42': 103, 'id_1_43': 104, 'id_1_44': 105, 'id_1_45': 109, 'id_1_46': 110, 'id_1_47': 114, 'id_1_48': 115, 'id_1_49': 116, 'id_1_50': 117, 'id_1_51': 121, 'id_1_52': 122, 'id_1_53': 123, 'id_1_54': 124, 'id_1_55': 125, 'id_1_56': 126}\n",
      "2023-11-20 06:14:53,819 INFO sqlalchemy.engine.Engine SELECT loop.id AS loop_id, loop.timestamp AS loop_timestamp, loop.session_length AS loop_session_length, loop.location AS loop_location, loop.human_labeled AS loop_human_labeled, loop.user_id AS loop_user_id \n",
      "FROM loop JOIN bodyside_loop_association ON loop.id = bodyside_loop_association.loop_id \n",
      "WHERE loop.human_labeled = true AND bodyside_loop_association.bodyside_id = %(bodyside_id_1)s\n",
      "2023-11-20 06:14:53,820 INFO sqlalchemy.engine.Engine [cached since 0.01616s ago] {'bodyside_id_1': 1}\n",
      "2023-11-20 06:14:53,821 INFO sqlalchemy.engine.Engine SELECT video.id AS video_id, video.device AS video_device, video.file_path AS video_file_path, video.loop_id AS video_loop_id \n",
      "FROM video JOIN loop ON video.loop_id = loop.id \n",
      "WHERE video.device = %(device_1)s AND loop.id IN (NULL) AND (1 != 1)\n",
      "2023-11-20 06:14:53,821 INFO sqlalchemy.engine.Engine [cached since 0.01295s ago] {'device_1': 'rgbCam'}\n",
      "2023-11-20 06:14:53,822 INFO sqlalchemy.engine.Engine ROLLBACK\n",
      "Connection to ttdatabase closed\n"
     ]
    }
   ],
   "source": [
    "toolcheck = dbh.DB_Conn(db_params)\n",
    "toolcheck.connect()\n",
    "filepath_with_middle = toolcheck.get_filepath_with_middle()\n",
    "filepath_with_rightside = toolcheck.get_filepath_with_rightside()\n",
    "filepath_with_leftside = toolcheck.get_filepath_with_leftside()\n",
    "toolcheck.disconnect()"
   ]
  },
  {
   "cell_type": "code",
   "execution_count": 34,
   "metadata": {
    "collapsed": false,
    "ExecuteTime": {
     "end_time": "2023-11-20T05:14:54.572999500Z",
     "start_time": "2023-11-20T05:14:54.562413900Z"
    }
   },
   "outputs": [],
   "source": [
    "def trigger_crop(image):\n",
    "    crop_box = (400, 450, 550, 550)\n",
    "    cropped_image = transforms.functional.crop(image, *crop_box)\n",
    "    return cropped_image"
   ]
  },
  {
   "cell_type": "code",
   "execution_count": 35,
   "metadata": {
    "collapsed": false,
    "ExecuteTime": {
     "end_time": "2023-11-20T05:14:55.093682800Z",
     "start_time": "2023-11-20T05:14:55.091005900Z"
    }
   },
   "outputs": [],
   "source": [
    "def video_to_image_converter(source_path: str, output_path: str, crop=False):\n",
    "    vidcap = cv2.VideoCapture(source_path)\n",
    "    os.makedirs(output_path, exist_ok=True)\n",
    "    count = 0\n",
    "\n",
    "    total_frames = int(vidcap.get(cv2.CAP_PROP_FRAME_COUNT))\n",
    "    fps = int(vidcap.get(cv2.CAP_PROP_FPS))\n",
    "    fps = 1\n",
    "\n",
    "    while count < total_frames:\n",
    "        success, image = vidcap.read()\n",
    "\n",
    "        if count % int(fps) == 0:\n",
    "            if not image is None and not image.size == 0:\n",
    "                transform_test = transforms.ToPILImage()\n",
    "                image = transform_test(image)\n",
    "                if crop:\n",
    "                    image = trigger_crop(image)\n",
    "                image = np.asarray(image)\n",
    "                cv2.imwrite(f\"{output_path}/{count}.png\", image)  # save frame as PNG file\n",
    "\n",
    "        count += 1\n",
    "\n",
    "    vidcap.release()\n",
    "    cv2.destroyAllWindows()"
   ]
  },
  {
   "cell_type": "code",
   "execution_count": 36,
   "metadata": {
    "collapsed": false,
    "ExecuteTime": {
     "end_time": "2023-11-20T05:14:55.704468800Z",
     "start_time": "2023-11-20T05:14:55.691957200Z"
    }
   },
   "outputs": [],
   "source": [
    "def get_time():\n",
    "    return datetime.datetime.now().strftime(\"%d_%m_%Y_%H_%M_%S\")"
   ]
  },
  {
   "cell_type": "code",
   "execution_count": 37,
   "metadata": {
    "collapsed": false,
    "ExecuteTime": {
     "end_time": "2023-11-20T05:14:56.166449400Z",
     "start_time": "2023-11-20T05:14:56.162936100Z"
    }
   },
   "outputs": [],
   "source": [
    "def save_path(label: str, time):\n",
    "    abs_path = os.getcwd()\n",
    "    two_up =  path.abspath(path.join(abs_path ,\"../..\"))\n",
    "    return path.join(two_up, 'data', f'{os.path.basename(abs_path)}', f'{time}', label)"
   ]
  },
  {
   "cell_type": "code",
   "execution_count": 38,
   "metadata": {
    "collapsed": false,
    "ExecuteTime": {
     "end_time": "2023-11-20T05:14:56.688405800Z",
     "start_time": "2023-11-20T05:14:56.672448300Z"
    }
   },
   "outputs": [],
   "source": [
    "current_time = get_time()"
   ]
  },
  {
   "cell_type": "code",
   "execution_count": 39,
   "metadata": {
    "collapsed": false,
    "ExecuteTime": {
     "end_time": "2023-11-20T05:15:41.492195900Z",
     "start_time": "2023-11-20T05:14:57.410619400Z"
    }
   },
   "outputs": [
    {
     "name": "stderr",
     "output_type": "stream",
     "text": [
      "  0%|          | 0/56 [00:44<?, ?it/s]\n"
     ]
    },
    {
     "ename": "KeyboardInterrupt",
     "evalue": "",
     "output_type": "error",
     "traceback": [
      "\u001B[1;31m---------------------------------------------------------------------------\u001B[0m",
      "\u001B[1;31mKeyboardInterrupt\u001B[0m                         Traceback (most recent call last)",
      "Cell \u001B[1;32mIn[39], line 2\u001B[0m\n\u001B[0;32m      1\u001B[0m \u001B[38;5;28;01mfor\u001B[39;00m x \u001B[38;5;129;01min\u001B[39;00m tqdm(filepath_with_rightside):\n\u001B[1;32m----> 2\u001B[0m     \u001B[43mvideo_to_image_converter\u001B[49m\u001B[43m(\u001B[49m\u001B[43mx\u001B[49m\u001B[43m,\u001B[49m\u001B[43m \u001B[49m\u001B[43msave_path\u001B[49m\u001B[43m(\u001B[49m\u001B[38;5;124;43m'\u001B[39;49m\u001B[38;5;124;43mright\u001B[39;49m\u001B[38;5;124;43m'\u001B[39;49m\u001B[43m,\u001B[49m\u001B[43m \u001B[49m\u001B[43mcurrent_time\u001B[49m\u001B[43m)\u001B[49m\u001B[43m,\u001B[49m\u001B[43m \u001B[49m\u001B[38;5;28;43;01mFalse\u001B[39;49;00m\u001B[43m)\u001B[49m\n",
      "Cell \u001B[1;32mIn[35], line 20\u001B[0m, in \u001B[0;36mvideo_to_image_converter\u001B[1;34m(source_path, output_path, crop)\u001B[0m\n\u001B[0;32m     18\u001B[0m                 image \u001B[38;5;241m=\u001B[39m trigger_crop(image)\n\u001B[0;32m     19\u001B[0m             image \u001B[38;5;241m=\u001B[39m np\u001B[38;5;241m.\u001B[39masarray(image)\n\u001B[1;32m---> 20\u001B[0m             \u001B[43mcv2\u001B[49m\u001B[38;5;241;43m.\u001B[39;49m\u001B[43mimwrite\u001B[49m\u001B[43m(\u001B[49m\u001B[38;5;124;43mf\u001B[39;49m\u001B[38;5;124;43m\"\u001B[39;49m\u001B[38;5;132;43;01m{\u001B[39;49;00m\u001B[43moutput_path\u001B[49m\u001B[38;5;132;43;01m}\u001B[39;49;00m\u001B[38;5;124;43m/\u001B[39;49m\u001B[38;5;132;43;01m{\u001B[39;49;00m\u001B[43mcount\u001B[49m\u001B[38;5;132;43;01m}\u001B[39;49;00m\u001B[38;5;124;43m.png\u001B[39;49m\u001B[38;5;124;43m\"\u001B[39;49m\u001B[43m,\u001B[49m\u001B[43m \u001B[49m\u001B[43mimage\u001B[49m\u001B[43m)\u001B[49m  \u001B[38;5;66;03m# save frame as PNG file\u001B[39;00m\n\u001B[0;32m     22\u001B[0m     count \u001B[38;5;241m+\u001B[39m\u001B[38;5;241m=\u001B[39m \u001B[38;5;241m1\u001B[39m\n\u001B[0;32m     24\u001B[0m vidcap\u001B[38;5;241m.\u001B[39mrelease()\n",
      "\u001B[1;31mKeyboardInterrupt\u001B[0m: "
     ]
    }
   ],
   "source": [
    "for x in tqdm(filepath_with_rightside):\n",
    "    video_to_image_converter(x, save_path('right', current_time), False)"
   ]
  },
  {
   "cell_type": "code",
   "execution_count": null,
   "metadata": {
    "tags": [],
    "ExecuteTime": {
     "start_time": "2023-11-20T05:15:41.488197200Z"
    }
   },
   "outputs": [],
   "source": [
    "for x in tqdm(filepath_with_middle):\n",
    "    video_to_image_converter(x, save_path('middle', current_time), False)"
   ]
  },
  {
   "cell_type": "code",
   "execution_count": null,
   "metadata": {
    "collapsed": false,
    "ExecuteTime": {
     "start_time": "2023-11-20T05:15:41.489196800Z"
    }
   },
   "outputs": [],
   "source": [
    "for x in tqdm(filepath_with_leftside):\n",
    "    video_to_image_converter(x, save_path('left', current_time), False)"
   ]
  },
  {
   "cell_type": "code",
   "execution_count": null,
   "metadata": {
    "is_executing": true
   },
   "outputs": [],
   "source": []
  }
 ],
 "metadata": {
  "kernelspec": {
   "display_name": "Python 3 (ipykernel)",
   "language": "python",
   "name": "python3"
  },
  "language_info": {
   "codemirror_mode": {
    "name": "ipython",
    "version": 3
   },
   "file_extension": ".py",
   "mimetype": "text/x-python",
   "name": "python",
   "nbconvert_exporter": "python",
   "pygments_lexer": "ipython3",
   "version": "3.11.5"
  }
 },
 "nbformat": 4,
 "nbformat_minor": 4
}
