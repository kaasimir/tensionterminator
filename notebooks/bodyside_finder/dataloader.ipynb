{
 "cells": [
  {
   "cell_type": "code",

   "execution_count": 19,

   "metadata": {
    "ExecuteTime": {

     "end_time": "2023-11-20T19:33:26.838137400Z",
     "start_time": "2023-11-20T19:33:26.820357400Z"
    }

   },
   "outputs": [],
   "source": [
    "import os\n",
    "from os import path\n",
    "import sys\n",
    "sys.path.append(os.getcwd())\n",
    "sys.path.append(os.path.join(os.getcwd(), '../..'))\n",
    "\n",
    "import db_builder.db_handler as dbh\n",
    "\n",
    "import numpy as np\n",
    "import cv2\n",
    "from torchvision import transforms\n",
    "from tqdm import tqdm\n",
    "import datetime"
   ]
  },
  {
   "cell_type": "code",

   "execution_count": 20,

   "metadata": {
    "ExecuteTime": {

     "end_time": "2023-11-20T19:33:30.457765400Z",
     "start_time": "2023-11-20T19:33:26.822870100Z"
    }

   },
   "outputs": [
    {
     "name": "stdin",
     "output_type": "stream",
     "text": [
      "Please enter DB pw DiBSE21\n"
     ]
    }
   ],
   "source": [
    "db_params = {\n",
    "    'user': 'postgres',\n",
    "    'password': input('Please enter DB pw'),  # enter your DB password\n",
    "    'host': 'localhost',  # 'localhost' or IP address\n",
    "    'port': '5432',  # '5432'\n",
    "    'database': 'ttdatabase', #tensionTerminator\n",
    "}"
   ]
  },
  {
   "cell_type": "code",

   "execution_count": 21,

   "metadata": {
    "ExecuteTime": {

     "end_time": "2023-11-20T19:33:30.530613200Z",
     "start_time": "2023-11-20T19:33:30.406351700Z"
    }

   },
   "outputs": [
    {
     "name": "stdout",
     "output_type": "stream",
     "text": [
      "Connected to PostgreSQL, DB: ttdatabase\n",

      "2023-11-20 20:33:30,443 INFO sqlalchemy.engine.Engine select pg_catalog.version()\n",
      "2023-11-20 20:33:30,444 INFO sqlalchemy.engine.Engine [raw sql] {}\n",
      "2023-11-20 20:33:30,445 INFO sqlalchemy.engine.Engine select current_schema()\n",
      "2023-11-20 20:33:30,445 INFO sqlalchemy.engine.Engine [raw sql] {}\n",
      "2023-11-20 20:33:30,446 INFO sqlalchemy.engine.Engine show standard_conforming_strings\n",
      "2023-11-20 20:33:30,446 INFO sqlalchemy.engine.Engine [raw sql] {}\n",
      "2023-11-20 20:33:30,447 INFO sqlalchemy.engine.Engine BEGIN (implicit)\n",
      "2023-11-20 20:33:30,449 INFO sqlalchemy.engine.Engine SELECT loop.id AS loop_id, loop.timestamp AS loop_timestamp, loop.session_length AS loop_session_length, loop.location AS loop_location, loop.human_labeled AS loop_human_labeled, loop.user_id AS loop_user_id \n",
      "FROM loop JOIN bodyside_loop_association ON loop.id = bodyside_loop_association.loop_id \n",
      "WHERE loop.human_labeled = true AND bodyside_loop_association.bodyside_id = %(bodyside_id_1)s\n",
      "2023-11-20 20:33:30,449 INFO sqlalchemy.engine.Engine [generated in 0.00058s] {'bodyside_id_1': 3}\n",
      "2023-11-20 20:33:30,454 INFO sqlalchemy.engine.Engine SELECT video.id AS video_id, video.device AS video_device, video.file_path AS video_file_path, video.loop_id AS video_loop_id \n",
      "FROM video JOIN loop ON video.loop_id = loop.id \n",
      "WHERE video.device = %(device_1)s AND loop.id IN (%(id_1_1)s, %(id_1_2)s, %(id_1_3)s, %(id_1_4)s, %(id_1_5)s, %(id_1_6)s, %(id_1_7)s, %(id_1_8)s, %(id_1_9)s, %(id_1_10)s, %(id_1_11)s, %(id_1_12)s, %(id_1_13)s, %(id_1_14)s, %(id_1_15)s, %(id_1_16)s, %(id_1_17)s, %(id_1_18)s, %(id_1_19)s, %(id_1_20)s, %(id_1_21)s, %(id_1_22)s, %(id_1_23)s, %(id_1_24)s, %(id_1_25)s, %(id_1_26)s, %(id_1_27)s, %(id_1_28)s, %(id_1_29)s, %(id_1_30)s, %(id_1_31)s, %(id_1_32)s, %(id_1_33)s, %(id_1_34)s, %(id_1_35)s, %(id_1_36)s, %(id_1_37)s, %(id_1_38)s, %(id_1_39)s, %(id_1_40)s, %(id_1_41)s, %(id_1_42)s, %(id_1_43)s, %(id_1_44)s, %(id_1_45)s, %(id_1_46)s, %(id_1_47)s, %(id_1_48)s, %(id_1_49)s, %(id_1_50)s, %(id_1_51)s, %(id_1_52)s, %(id_1_53)s, %(id_1_54)s, %(id_1_55)s, %(id_1_56)s)\n",
      "2023-11-20 20:33:30,455 INFO sqlalchemy.engine.Engine [generated in 0.00085s] {'device_1': 'rgbCam', 'id_1_1': 24, 'id_1_2': 25, 'id_1_3': 30, 'id_1_4': 31, 'id_1_5': 32, 'id_1_6': 33, 'id_1_7': 38, 'id_1_8': 39, 'id_1_9': 40, 'id_1_10': 41, 'id_1_11': 42, 'id_1_12': 43, 'id_1_13': 44, 'id_1_14': 45, 'id_1_15': 46, 'id_1_16': 47, 'id_1_17': 48, 'id_1_18': 49, 'id_1_19': 62, 'id_1_20': 63, 'id_1_21': 64, 'id_1_22': 65, 'id_1_23': 66, 'id_1_24': 67, 'id_1_25': 68, 'id_1_26': 69, 'id_1_27': 70, 'id_1_28': 71, 'id_1_29': 72, 'id_1_30': 73, 'id_1_31': 74, 'id_1_32': 75, 'id_1_33': 76, 'id_1_34': 77, 'id_1_35': 78, 'id_1_36': 79, 'id_1_37': 80, 'id_1_38': 81, 'id_1_39': 82, 'id_1_40': 83, 'id_1_41': 102, 'id_1_42': 103, 'id_1_43': 104, 'id_1_44': 105, 'id_1_45': 109, 'id_1_46': 110, 'id_1_47': 114, 'id_1_48': 115, 'id_1_49': 116, 'id_1_50': 117, 'id_1_51': 121, 'id_1_52': 122, 'id_1_53': 123, 'id_1_54': 124, 'id_1_55': 125, 'id_1_56': 126}\n",
      "2023-11-20 20:33:30,458 INFO sqlalchemy.engine.Engine SELECT loop.id AS loop_id, loop.timestamp AS loop_timestamp, loop.session_length AS loop_session_length, loop.location AS loop_location, loop.human_labeled AS loop_human_labeled, loop.user_id AS loop_user_id \n",
      "FROM loop JOIN bodyside_loop_association ON loop.id = bodyside_loop_association.loop_id \n",
      "WHERE loop.human_labeled = true AND bodyside_loop_association.bodyside_id = %(bodyside_id_1)s\n",
      "2023-11-20 20:33:30,459 INFO sqlalchemy.engine.Engine [cached since 0.01051s ago] {'bodyside_id_1': 4}\n",
      "2023-11-20 20:33:30,460 INFO sqlalchemy.engine.Engine SELECT video.id AS video_id, video.device AS video_device, video.file_path AS video_file_path, video.loop_id AS video_loop_id \n",
      "FROM video JOIN loop ON video.loop_id = loop.id \n",
      "WHERE video.device = %(device_1)s AND loop.id IN (%(id_1_1)s, %(id_1_2)s, %(id_1_3)s, %(id_1_4)s, %(id_1_5)s, %(id_1_6)s, %(id_1_7)s, %(id_1_8)s, %(id_1_9)s, %(id_1_10)s, %(id_1_11)s, %(id_1_12)s, %(id_1_13)s, %(id_1_14)s, %(id_1_15)s, %(id_1_16)s, %(id_1_17)s, %(id_1_18)s, %(id_1_19)s, %(id_1_20)s, %(id_1_21)s, %(id_1_22)s, %(id_1_23)s, %(id_1_24)s, %(id_1_25)s, %(id_1_26)s, %(id_1_27)s, %(id_1_28)s, %(id_1_29)s, %(id_1_30)s, %(id_1_31)s, %(id_1_32)s, %(id_1_33)s, %(id_1_34)s, %(id_1_35)s, %(id_1_36)s, %(id_1_37)s)\n",
      "2023-11-20 20:33:30,460 INFO sqlalchemy.engine.Engine [cached since 0.006653s ago] {'device_1': 'rgbCam', 'id_1_1': 7, 'id_1_2': 9, 'id_1_3': 11, 'id_1_4': 12, 'id_1_5': 13, 'id_1_6': 14, 'id_1_7': 15, 'id_1_8': 16, 'id_1_9': 17, 'id_1_10': 19, 'id_1_11': 23, 'id_1_12': 26, 'id_1_13': 27, 'id_1_14': 36, 'id_1_15': 37, 'id_1_16': 50, 'id_1_17': 52, 'id_1_18': 54, 'id_1_19': 57, 'id_1_20': 59, 'id_1_21': 61, 'id_1_22': 85, 'id_1_23': 86, 'id_1_24': 87, 'id_1_25': 90, 'id_1_26': 92, 'id_1_27': 94, 'id_1_28': 95, 'id_1_29': 97, 'id_1_30': 98, 'id_1_31': 101, 'id_1_32': 107, 'id_1_33': 108, 'id_1_34': 111, 'id_1_35': 113, 'id_1_36': 119, 'id_1_37': 128}\n",
      "2023-11-20 20:33:30,462 INFO sqlalchemy.engine.Engine SELECT loop.id AS loop_id, loop.timestamp AS loop_timestamp, loop.session_length AS loop_session_length, loop.location AS loop_location, loop.human_labeled AS loop_human_labeled, loop.user_id AS loop_user_id \n",
      "FROM loop JOIN bodyside_loop_association ON loop.id = bodyside_loop_association.loop_id \n",
      "WHERE loop.human_labeled = true AND bodyside_loop_association.bodyside_id = %(bodyside_id_1)s\n",
      "2023-11-20 20:33:30,462 INFO sqlalchemy.engine.Engine [cached since 0.0142s ago] {'bodyside_id_1': 2}\n",
      "2023-11-20 20:33:30,464 INFO sqlalchemy.engine.Engine SELECT video.id AS video_id, video.device AS video_device, video.file_path AS video_file_path, video.loop_id AS video_loop_id \n",
      "FROM video JOIN loop ON video.loop_id = loop.id \n",
      "WHERE video.device = %(device_1)s AND loop.id IN (%(id_1_1)s, %(id_1_2)s, %(id_1_3)s, %(id_1_4)s, %(id_1_5)s, %(id_1_6)s, %(id_1_7)s, %(id_1_8)s, %(id_1_9)s, %(id_1_10)s, %(id_1_11)s, %(id_1_12)s, %(id_1_13)s, %(id_1_14)s, %(id_1_15)s, %(id_1_16)s, %(id_1_17)s, %(id_1_18)s, %(id_1_19)s, %(id_1_20)s, %(id_1_21)s, %(id_1_22)s, %(id_1_23)s, %(id_1_24)s, %(id_1_25)s, %(id_1_26)s, %(id_1_27)s, %(id_1_28)s, %(id_1_29)s, %(id_1_30)s, %(id_1_31)s, %(id_1_32)s, %(id_1_33)s, %(id_1_34)s, %(id_1_35)s)\n",
      "2023-11-20 20:33:30,465 INFO sqlalchemy.engine.Engine [cached since 0.0104s ago] {'device_1': 'rgbCam', 'id_1_1': 1, 'id_1_2': 2, 'id_1_3': 3, 'id_1_4': 4, 'id_1_5': 5, 'id_1_6': 6, 'id_1_7': 8, 'id_1_8': 10, 'id_1_9': 18, 'id_1_10': 20, 'id_1_11': 21, 'id_1_12': 22, 'id_1_13': 28, 'id_1_14': 29, 'id_1_15': 34, 'id_1_16': 35, 'id_1_17': 51, 'id_1_18': 53, 'id_1_19': 55, 'id_1_20': 56, 'id_1_21': 58, 'id_1_22': 60, 'id_1_23': 84, 'id_1_24': 88, 'id_1_25': 89, 'id_1_26': 91, 'id_1_27': 93, 'id_1_28': 96, 'id_1_29': 99, 'id_1_30': 100, 'id_1_31': 106, 'id_1_32': 112, 'id_1_33': 118, 'id_1_34': 120, 'id_1_35': 127}\n",
      "2023-11-20 20:33:30,466 INFO sqlalchemy.engine.Engine ROLLBACK\n",

      "Connection to ttdatabase closed\n"
     ]
    }
   ],
   "source": [
    "toolcheck = dbh.DB_Conn(db_params)\n",
    "toolcheck.connect()\n",
    "filepath_with_middle = toolcheck.get_filepath_with_middle()\n",
    "filepath_with_rightside = toolcheck.get_filepath_with_rightside()\n",
    "filepath_with_leftside = toolcheck.get_filepath_with_leftside()\n",
    "toolcheck.disconnect()"
   ]
  },
  {
   "cell_type": "code",

   "execution_count": 22,

   "metadata": {
    "ExecuteTime": {

     "end_time": "2023-11-20T19:33:30.530613200Z",
     "start_time": "2023-11-20T19:33:30.472712Z"

    }
   },
   "outputs": [],
   "source": [
    "def trigger_crop(image):\n",
    "    crop_box = (400, 450, 550, 550)\n",
    "    cropped_image = transforms.functional.crop(image, *crop_box)\n",
    "    return cropped_image"
   ]
  },
  {
   "cell_type": "code",

   "execution_count": 23,

   "metadata": {
    "ExecuteTime": {

     "end_time": "2023-11-20T19:33:30.567811800Z",
     "start_time": "2023-11-20T19:33:30.476225100Z"

    }
   },
   "outputs": [],
   "source": [
    "def video_to_image_converter(source_path: str, output_path: str, crop=False):\n",
    "    vidcap = cv2.VideoCapture(source_path)\n",
    "    os.makedirs(output_path, exist_ok=True)\n",
    "    count = 0\n",
    "\n",
    "    total_frames = int(vidcap.get(cv2.CAP_PROP_FRAME_COUNT))\n",
    "    fps = int(vidcap.get(cv2.CAP_PROP_FPS))\n",
    "    fps = 1\n",
    "\n",
    "    while count < total_frames:\n",
    "        success, image = vidcap.read()\n",
    "\n",
    "        if count % int(fps) == 0:\n",
    "            if not image is None and not image.size == 0:\n",
    "                transform_test = transforms.ToPILImage()\n",
    "                image = transform_test(image)\n",
    "                if crop:\n",
    "                    image = trigger_crop(image)\n",
    "                image = np.asarray(image)\n",
    "                cv2.imwrite(f\"{output_path}/{count}.png\", image)  # save frame as PNG file\n",
    "\n",
    "        count += 1\n",
    "\n",
    "    vidcap.release()\n",
    "    cv2.destroyAllWindows()"
   ]
  },
  {
   "cell_type": "code",

   "execution_count": 24,

   "metadata": {
    "ExecuteTime": {

     "end_time": "2023-11-20T19:33:30.569315100Z",
     "start_time": "2023-11-20T19:33:30.483153300Z"

    }
   },
   "outputs": [],
   "source": [
    "def get_time():\n",
    "    return datetime.datetime.now().strftime(\"%d_%m_%Y_%H_%M_%S\")"
   ]
  },
  {
   "cell_type": "code",

   "execution_count": 25,

   "metadata": {
    "ExecuteTime": {

     "end_time": "2023-11-20T19:33:30.569315100Z",
     "start_time": "2023-11-20T19:33:30.489081700Z"

    }
   },
   "outputs": [],
   "source": [
    "def save_path(label: str, time):\n",
    "    abs_path = os.getcwd()\n",
    "    two_up =  path.abspath(path.join(abs_path ,\"../..\"))\n",
    "    return path.join(two_up, 'data', f'{os.path.basename(abs_path)}', f'{time}', label)"
   ]
  },
  {
   "cell_type": "code",

   "execution_count": 26,

   "metadata": {
    "ExecuteTime": {

     "end_time": "2023-11-20T19:33:30.569315100Z",
     "start_time": "2023-11-20T19:33:30.493496Z"

    }
   },
   "outputs": [],
   "source": [
    "current_time = get_time()"
   ]
  },
  {
   "cell_type": "code",

   "execution_count": 27,

   "metadata": {
    "ExecuteTime": {

     "start_time": "2023-11-20T19:33:30.500465800Z"

    }
   },
   "outputs": [
    {
     "name": "stderr",
     "output_type": "stream",
     "text": [

      "100%|██████████| 37/37 [1:09:29<00:00, 112.69s/it]\n"

     ]
    }
   ],
   "source": [
    "for x in tqdm(filepath_with_rightside):\n",

    "    video_to_image_converter(x, save_path('right', current_time))"

   ]
  },
  {
   "cell_type": "code",

   "execution_count": 28,
   "metadata": {
    "tags": [],
    "ExecuteTime": {
     "start_time": "2023-11-20T20:42:59.853772300Z"
    }

   },
   "outputs": [
    {
     "name": "stderr",
     "output_type": "stream",
     "text": [

      "100%|██████████| 56/56 [1:08:50<00:00, 73.77s/it]\n"

     ]
    }
   ],
   "source": [
    "for x in tqdm(filepath_with_middle):\n",

    "    video_to_image_converter(x, save_path('middle', current_time))"

   ]
  },
  {
   "cell_type": "code",

   "execution_count": 29,
   "metadata": {
    "collapsed": false,
    "ExecuteTime": {
     "start_time": "2023-11-20T21:51:50.711246900Z"

    }
   },
   "outputs": [
    {
     "name": "stderr",
     "output_type": "stream",
     "text": [

      "100%|██████████| 35/35 [1:14:28<00:00, 127.68s/it]\n"

     ]
    }
   ],
   "source": [
    "for x in tqdm(filepath_with_leftside):\n",

    "    video_to_image_converter(x, save_path('left', current_time))"

   ]
  },
  {
   "cell_type": "code",

   "execution_count": 29,
   "metadata": {
    "ExecuteTime": {
     "start_time": "2023-11-20T23:06:19.523350Z"
    }
   },

   "outputs": [],
   "source": []
  }
 ],
 "metadata": {
  "kernelspec": {
   "display_name": "Python 3 (ipykernel)",
   "language": "python",
   "name": "python3"
  },
  "language_info": {
   "codemirror_mode": {
    "name": "ipython",
    "version": 3
   },
   "file_extension": ".py",
   "mimetype": "text/x-python",
   "name": "python",
   "nbconvert_exporter": "python",
   "pygments_lexer": "ipython3",
   "version": "3.11.5"
  }
 },
 "nbformat": 4,
 "nbformat_minor": 4
}
