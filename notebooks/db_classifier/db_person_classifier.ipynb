{
 "cells": [
  {
   "cell_type": "code",
   "execution_count": 18,
   "id": "initial_id",
   "metadata": {
    "collapsed": true,
    "ExecuteTime": {
     "end_time": "2023-11-29T19:11:09.510130200Z",
     "start_time": "2023-11-29T19:11:09.399112300Z"
    }
   },
   "outputs": [],
   "source": [
    "import db_builder.db_handler as dbh\n",
    "import numpy as np\n",
    "from torchvision import transforms, datasets\n",
    "from tqdm import tqdm\n",
    "import logging\n",
    "from getpass import getpass\n",
    "from PIL import Image\n",
    "import torchvision.models as models\n",
    "import torch.nn as nn\n",
    "import torch\n",
    "import os\n",
    "import cv2\n",
    "from collections import Counter\n",
    "from os import path"
   ]
  },
  {
   "cell_type": "code",
   "execution_count": 19,
   "outputs": [
    {
     "name": "stdout",
     "output_type": "stream",
     "text": [
      "Connected to PostgreSQL, DB: ttdatabase\n"
     ]
    }
   ],
   "source": [
    "logging.getLogger('sqlalchemy.engine').propagate = False\n",
    "\n",
    "db_params = {\n",
    "    'user': 'postgres',\n",
    "    'password': getpass('Please enter DB pw'),  # enter your DB password\n",
    "    'host': 'localhost',  # 'localhost' or IP address\n",
    "    'port': '5432',  # '5432'\n",
    "    'database': 'ttdatabase',  #tensionTerminator\n",
    "}\n",
    "toolcheck = dbh.DB_Conn(db_params)\n",
    "toolcheck.connect()\n",
    "engine = toolcheck.get_engine()"
   ],
   "metadata": {
    "collapsed": false,
    "ExecuteTime": {
     "end_time": "2023-11-29T19:11:12.855555200Z",
     "start_time": "2023-11-29T19:11:09.409443300Z"
    }
   },
   "id": "8046d1c576f9a7c8"
  },
  {
   "cell_type": "code",
   "execution_count": 20,
   "outputs": [
    {
     "name": "stdout",
     "output_type": "stream",
     "text": [
      "2023-11-29 20:11:12,807 INFO sqlalchemy.engine.Engine select pg_catalog.version()\n",
      "2023-11-29 20:11:12,808 INFO sqlalchemy.engine.Engine [raw sql] {}\n",
      "2023-11-29 20:11:12,810 INFO sqlalchemy.engine.Engine select current_schema()\n",
      "2023-11-29 20:11:12,811 INFO sqlalchemy.engine.Engine [raw sql] {}\n",
      "2023-11-29 20:11:12,812 INFO sqlalchemy.engine.Engine show standard_conforming_strings\n",
      "2023-11-29 20:11:12,812 INFO sqlalchemy.engine.Engine [raw sql] {}\n",
      "2023-11-29 20:11:12,814 INFO sqlalchemy.engine.Engine BEGIN (implicit)\n",
      "2023-11-29 20:11:12,815 INFO sqlalchemy.engine.Engine SELECT id FROM loop WHERE human_labeled = false\n",
      "2023-11-29 20:11:12,815 INFO sqlalchemy.engine.Engine [generated in 0.00070s] {}\n"
     ]
    }
   ],
   "source": [
    "unlabeled_loops = toolcheck.get_unlabeled_loop_id()"
   ],
   "metadata": {
    "collapsed": false,
    "ExecuteTime": {
     "end_time": "2023-11-29T19:11:12.915072800Z",
     "start_time": "2023-11-29T19:11:12.744357Z"
    }
   },
   "id": "4e7e322d21cf86b"
  },
  {
   "cell_type": "code",
   "execution_count": 21,
   "outputs": [
    {
     "data": {
      "text/plain": "[129,\n 130,\n 131,\n 132,\n 133,\n 134,\n 135,\n 136,\n 137,\n 138,\n 139,\n 140,\n 141,\n 142,\n 143,\n 144,\n 145,\n 146,\n 147,\n 148,\n 149,\n 150]"
     },
     "execution_count": 21,
     "metadata": {},
     "output_type": "execute_result"
    }
   ],
   "source": [
    "unlabeled_loops"
   ],
   "metadata": {
    "collapsed": false,
    "ExecuteTime": {
     "end_time": "2023-11-29T19:11:12.915072800Z",
     "start_time": "2023-11-29T19:11:12.828183800Z"
    }
   },
   "id": "aea17b692dcf7252"
  },
  {
   "cell_type": "code",
   "execution_count": 22,
   "outputs": [],
   "source": [
    "transforms_person = transforms.Compose([\n",
    "    transforms.Resize(150),\n",
    "    transforms.CenterCrop(224),\n",
    "    transforms.ToTensor(),\n",
    "    transforms.Normalize(\n",
    "        [0.485, 0.456, 0.406],\n",
    "        [0.229, 0.224, 0.225]\n",
    "    )\n",
    "])"
   ],
   "metadata": {
    "collapsed": false,
    "ExecuteTime": {
     "end_time": "2023-11-29T19:11:12.915072800Z",
     "start_time": "2023-11-29T19:11:12.836754300Z"
    }
   },
   "id": "5b073bdea18ab182"
  },
  {
   "cell_type": "code",
   "execution_count": 23,
   "outputs": [],
   "source": [
    "def dataset_path(model_folder: str,timestamp: str):\n",
    "    abs_path = os.getcwd()\n",
    "    two_up =  path.abspath(path.join(abs_path ,\"../..\"))\n",
    "    return path.join(two_up, 'data', model_folder, timestamp)"
   ],
   "metadata": {
    "collapsed": false,
    "ExecuteTime": {
     "end_time": "2023-11-29T19:11:12.915072800Z",
     "start_time": "2023-11-29T19:11:12.848287400Z"
    }
   },
   "id": "d34fdb3ef9df3d92"
  },
  {
   "cell_type": "code",
   "execution_count": 24,
   "outputs": [],
   "source": [
    "person_dataset = datasets.ImageFolder(\n",
    "    root=dataset_path('person_test', '29_11_2023_07_24_46'),\n",
    "    transform=transforms_person\n",
    ")"
   ],
   "metadata": {
    "collapsed": false,
    "ExecuteTime": {
     "end_time": "2023-11-29T19:11:13.789960Z",
     "start_time": "2023-11-29T19:11:12.852963100Z"
    }
   },
   "id": "4551dc02b9fdeb57"
  },
  {
   "cell_type": "code",
   "execution_count": 25,
   "outputs": [
    {
     "data": {
      "text/plain": "['Christina_Greiderer',\n 'Christine_Lackinger',\n 'Juergen_Zangerl',\n 'Lukas_Prenner',\n 'MartinPO_Feuerstein',\n 'Martin_Hofer',\n 'Philipp_Egger',\n 'Pirmin_Aster',\n 'Robert_Goller',\n 'Suganthi_Manoharan']"
     },
     "execution_count": 25,
     "metadata": {},
     "output_type": "execute_result"
    }
   ],
   "source": [
    "person_dataset.classes"
   ],
   "metadata": {
    "collapsed": false,
    "ExecuteTime": {
     "end_time": "2023-11-29T19:11:13.804217800Z",
     "start_time": "2023-11-29T19:11:13.791893300Z"
    }
   },
   "id": "8ea7dd847b89e0c2"
  },
  {
   "cell_type": "code",
   "execution_count": 26,
   "outputs": [
    {
     "data": {
      "text/plain": "ResNet(\n  (conv1): Conv2d(3, 64, kernel_size=(7, 7), stride=(2, 2), padding=(3, 3), bias=False)\n  (bn1): BatchNorm2d(64, eps=1e-05, momentum=0.1, affine=True, track_running_stats=True)\n  (relu): ReLU(inplace=True)\n  (maxpool): MaxPool2d(kernel_size=3, stride=2, padding=1, dilation=1, ceil_mode=False)\n  (layer1): Sequential(\n    (0): Bottleneck(\n      (conv1): Conv2d(64, 64, kernel_size=(1, 1), stride=(1, 1), bias=False)\n      (bn1): BatchNorm2d(64, eps=1e-05, momentum=0.1, affine=True, track_running_stats=True)\n      (conv2): Conv2d(64, 64, kernel_size=(3, 3), stride=(1, 1), padding=(1, 1), bias=False)\n      (bn2): BatchNorm2d(64, eps=1e-05, momentum=0.1, affine=True, track_running_stats=True)\n      (conv3): Conv2d(64, 256, kernel_size=(1, 1), stride=(1, 1), bias=False)\n      (bn3): BatchNorm2d(256, eps=1e-05, momentum=0.1, affine=True, track_running_stats=True)\n      (relu): ReLU(inplace=True)\n      (downsample): Sequential(\n        (0): Conv2d(64, 256, kernel_size=(1, 1), stride=(1, 1), bias=False)\n        (1): BatchNorm2d(256, eps=1e-05, momentum=0.1, affine=True, track_running_stats=True)\n      )\n    )\n    (1): Bottleneck(\n      (conv1): Conv2d(256, 64, kernel_size=(1, 1), stride=(1, 1), bias=False)\n      (bn1): BatchNorm2d(64, eps=1e-05, momentum=0.1, affine=True, track_running_stats=True)\n      (conv2): Conv2d(64, 64, kernel_size=(3, 3), stride=(1, 1), padding=(1, 1), bias=False)\n      (bn2): BatchNorm2d(64, eps=1e-05, momentum=0.1, affine=True, track_running_stats=True)\n      (conv3): Conv2d(64, 256, kernel_size=(1, 1), stride=(1, 1), bias=False)\n      (bn3): BatchNorm2d(256, eps=1e-05, momentum=0.1, affine=True, track_running_stats=True)\n      (relu): ReLU(inplace=True)\n    )\n    (2): Bottleneck(\n      (conv1): Conv2d(256, 64, kernel_size=(1, 1), stride=(1, 1), bias=False)\n      (bn1): BatchNorm2d(64, eps=1e-05, momentum=0.1, affine=True, track_running_stats=True)\n      (conv2): Conv2d(64, 64, kernel_size=(3, 3), stride=(1, 1), padding=(1, 1), bias=False)\n      (bn2): BatchNorm2d(64, eps=1e-05, momentum=0.1, affine=True, track_running_stats=True)\n      (conv3): Conv2d(64, 256, kernel_size=(1, 1), stride=(1, 1), bias=False)\n      (bn3): BatchNorm2d(256, eps=1e-05, momentum=0.1, affine=True, track_running_stats=True)\n      (relu): ReLU(inplace=True)\n    )\n  )\n  (layer2): Sequential(\n    (0): Bottleneck(\n      (conv1): Conv2d(256, 128, kernel_size=(1, 1), stride=(1, 1), bias=False)\n      (bn1): BatchNorm2d(128, eps=1e-05, momentum=0.1, affine=True, track_running_stats=True)\n      (conv2): Conv2d(128, 128, kernel_size=(3, 3), stride=(2, 2), padding=(1, 1), bias=False)\n      (bn2): BatchNorm2d(128, eps=1e-05, momentum=0.1, affine=True, track_running_stats=True)\n      (conv3): Conv2d(128, 512, kernel_size=(1, 1), stride=(1, 1), bias=False)\n      (bn3): BatchNorm2d(512, eps=1e-05, momentum=0.1, affine=True, track_running_stats=True)\n      (relu): ReLU(inplace=True)\n      (downsample): Sequential(\n        (0): Conv2d(256, 512, kernel_size=(1, 1), stride=(2, 2), bias=False)\n        (1): BatchNorm2d(512, eps=1e-05, momentum=0.1, affine=True, track_running_stats=True)\n      )\n    )\n    (1): Bottleneck(\n      (conv1): Conv2d(512, 128, kernel_size=(1, 1), stride=(1, 1), bias=False)\n      (bn1): BatchNorm2d(128, eps=1e-05, momentum=0.1, affine=True, track_running_stats=True)\n      (conv2): Conv2d(128, 128, kernel_size=(3, 3), stride=(1, 1), padding=(1, 1), bias=False)\n      (bn2): BatchNorm2d(128, eps=1e-05, momentum=0.1, affine=True, track_running_stats=True)\n      (conv3): Conv2d(128, 512, kernel_size=(1, 1), stride=(1, 1), bias=False)\n      (bn3): BatchNorm2d(512, eps=1e-05, momentum=0.1, affine=True, track_running_stats=True)\n      (relu): ReLU(inplace=True)\n    )\n    (2): Bottleneck(\n      (conv1): Conv2d(512, 128, kernel_size=(1, 1), stride=(1, 1), bias=False)\n      (bn1): BatchNorm2d(128, eps=1e-05, momentum=0.1, affine=True, track_running_stats=True)\n      (conv2): Conv2d(128, 128, kernel_size=(3, 3), stride=(1, 1), padding=(1, 1), bias=False)\n      (bn2): BatchNorm2d(128, eps=1e-05, momentum=0.1, affine=True, track_running_stats=True)\n      (conv3): Conv2d(128, 512, kernel_size=(1, 1), stride=(1, 1), bias=False)\n      (bn3): BatchNorm2d(512, eps=1e-05, momentum=0.1, affine=True, track_running_stats=True)\n      (relu): ReLU(inplace=True)\n    )\n    (3): Bottleneck(\n      (conv1): Conv2d(512, 128, kernel_size=(1, 1), stride=(1, 1), bias=False)\n      (bn1): BatchNorm2d(128, eps=1e-05, momentum=0.1, affine=True, track_running_stats=True)\n      (conv2): Conv2d(128, 128, kernel_size=(3, 3), stride=(1, 1), padding=(1, 1), bias=False)\n      (bn2): BatchNorm2d(128, eps=1e-05, momentum=0.1, affine=True, track_running_stats=True)\n      (conv3): Conv2d(128, 512, kernel_size=(1, 1), stride=(1, 1), bias=False)\n      (bn3): BatchNorm2d(512, eps=1e-05, momentum=0.1, affine=True, track_running_stats=True)\n      (relu): ReLU(inplace=True)\n    )\n    (4): Bottleneck(\n      (conv1): Conv2d(512, 128, kernel_size=(1, 1), stride=(1, 1), bias=False)\n      (bn1): BatchNorm2d(128, eps=1e-05, momentum=0.1, affine=True, track_running_stats=True)\n      (conv2): Conv2d(128, 128, kernel_size=(3, 3), stride=(1, 1), padding=(1, 1), bias=False)\n      (bn2): BatchNorm2d(128, eps=1e-05, momentum=0.1, affine=True, track_running_stats=True)\n      (conv3): Conv2d(128, 512, kernel_size=(1, 1), stride=(1, 1), bias=False)\n      (bn3): BatchNorm2d(512, eps=1e-05, momentum=0.1, affine=True, track_running_stats=True)\n      (relu): ReLU(inplace=True)\n    )\n    (5): Bottleneck(\n      (conv1): Conv2d(512, 128, kernel_size=(1, 1), stride=(1, 1), bias=False)\n      (bn1): BatchNorm2d(128, eps=1e-05, momentum=0.1, affine=True, track_running_stats=True)\n      (conv2): Conv2d(128, 128, kernel_size=(3, 3), stride=(1, 1), padding=(1, 1), bias=False)\n      (bn2): BatchNorm2d(128, eps=1e-05, momentum=0.1, affine=True, track_running_stats=True)\n      (conv3): Conv2d(128, 512, kernel_size=(1, 1), stride=(1, 1), bias=False)\n      (bn3): BatchNorm2d(512, eps=1e-05, momentum=0.1, affine=True, track_running_stats=True)\n      (relu): ReLU(inplace=True)\n    )\n    (6): Bottleneck(\n      (conv1): Conv2d(512, 128, kernel_size=(1, 1), stride=(1, 1), bias=False)\n      (bn1): BatchNorm2d(128, eps=1e-05, momentum=0.1, affine=True, track_running_stats=True)\n      (conv2): Conv2d(128, 128, kernel_size=(3, 3), stride=(1, 1), padding=(1, 1), bias=False)\n      (bn2): BatchNorm2d(128, eps=1e-05, momentum=0.1, affine=True, track_running_stats=True)\n      (conv3): Conv2d(128, 512, kernel_size=(1, 1), stride=(1, 1), bias=False)\n      (bn3): BatchNorm2d(512, eps=1e-05, momentum=0.1, affine=True, track_running_stats=True)\n      (relu): ReLU(inplace=True)\n    )\n    (7): Bottleneck(\n      (conv1): Conv2d(512, 128, kernel_size=(1, 1), stride=(1, 1), bias=False)\n      (bn1): BatchNorm2d(128, eps=1e-05, momentum=0.1, affine=True, track_running_stats=True)\n      (conv2): Conv2d(128, 128, kernel_size=(3, 3), stride=(1, 1), padding=(1, 1), bias=False)\n      (bn2): BatchNorm2d(128, eps=1e-05, momentum=0.1, affine=True, track_running_stats=True)\n      (conv3): Conv2d(128, 512, kernel_size=(1, 1), stride=(1, 1), bias=False)\n      (bn3): BatchNorm2d(512, eps=1e-05, momentum=0.1, affine=True, track_running_stats=True)\n      (relu): ReLU(inplace=True)\n    )\n  )\n  (layer3): Sequential(\n    (0): Bottleneck(\n      (conv1): Conv2d(512, 256, kernel_size=(1, 1), stride=(1, 1), bias=False)\n      (bn1): BatchNorm2d(256, eps=1e-05, momentum=0.1, affine=True, track_running_stats=True)\n      (conv2): Conv2d(256, 256, kernel_size=(3, 3), stride=(2, 2), padding=(1, 1), bias=False)\n      (bn2): BatchNorm2d(256, eps=1e-05, momentum=0.1, affine=True, track_running_stats=True)\n      (conv3): Conv2d(256, 1024, kernel_size=(1, 1), stride=(1, 1), bias=False)\n      (bn3): BatchNorm2d(1024, eps=1e-05, momentum=0.1, affine=True, track_running_stats=True)\n      (relu): ReLU(inplace=True)\n      (downsample): Sequential(\n        (0): Conv2d(512, 1024, kernel_size=(1, 1), stride=(2, 2), bias=False)\n        (1): BatchNorm2d(1024, eps=1e-05, momentum=0.1, affine=True, track_running_stats=True)\n      )\n    )\n    (1): Bottleneck(\n      (conv1): Conv2d(1024, 256, kernel_size=(1, 1), stride=(1, 1), bias=False)\n      (bn1): BatchNorm2d(256, eps=1e-05, momentum=0.1, affine=True, track_running_stats=True)\n      (conv2): Conv2d(256, 256, kernel_size=(3, 3), stride=(1, 1), padding=(1, 1), bias=False)\n      (bn2): BatchNorm2d(256, eps=1e-05, momentum=0.1, affine=True, track_running_stats=True)\n      (conv3): Conv2d(256, 1024, kernel_size=(1, 1), stride=(1, 1), bias=False)\n      (bn3): BatchNorm2d(1024, eps=1e-05, momentum=0.1, affine=True, track_running_stats=True)\n      (relu): ReLU(inplace=True)\n    )\n    (2): Bottleneck(\n      (conv1): Conv2d(1024, 256, kernel_size=(1, 1), stride=(1, 1), bias=False)\n      (bn1): BatchNorm2d(256, eps=1e-05, momentum=0.1, affine=True, track_running_stats=True)\n      (conv2): Conv2d(256, 256, kernel_size=(3, 3), stride=(1, 1), padding=(1, 1), bias=False)\n      (bn2): BatchNorm2d(256, eps=1e-05, momentum=0.1, affine=True, track_running_stats=True)\n      (conv3): Conv2d(256, 1024, kernel_size=(1, 1), stride=(1, 1), bias=False)\n      (bn3): BatchNorm2d(1024, eps=1e-05, momentum=0.1, affine=True, track_running_stats=True)\n      (relu): ReLU(inplace=True)\n    )\n    (3): Bottleneck(\n      (conv1): Conv2d(1024, 256, kernel_size=(1, 1), stride=(1, 1), bias=False)\n      (bn1): BatchNorm2d(256, eps=1e-05, momentum=0.1, affine=True, track_running_stats=True)\n      (conv2): Conv2d(256, 256, kernel_size=(3, 3), stride=(1, 1), padding=(1, 1), bias=False)\n      (bn2): BatchNorm2d(256, eps=1e-05, momentum=0.1, affine=True, track_running_stats=True)\n      (conv3): Conv2d(256, 1024, kernel_size=(1, 1), stride=(1, 1), bias=False)\n      (bn3): BatchNorm2d(1024, eps=1e-05, momentum=0.1, affine=True, track_running_stats=True)\n      (relu): ReLU(inplace=True)\n    )\n    (4): Bottleneck(\n      (conv1): Conv2d(1024, 256, kernel_size=(1, 1), stride=(1, 1), bias=False)\n      (bn1): BatchNorm2d(256, eps=1e-05, momentum=0.1, affine=True, track_running_stats=True)\n      (conv2): Conv2d(256, 256, kernel_size=(3, 3), stride=(1, 1), padding=(1, 1), bias=False)\n      (bn2): BatchNorm2d(256, eps=1e-05, momentum=0.1, affine=True, track_running_stats=True)\n      (conv3): Conv2d(256, 1024, kernel_size=(1, 1), stride=(1, 1), bias=False)\n      (bn3): BatchNorm2d(1024, eps=1e-05, momentum=0.1, affine=True, track_running_stats=True)\n      (relu): ReLU(inplace=True)\n    )\n    (5): Bottleneck(\n      (conv1): Conv2d(1024, 256, kernel_size=(1, 1), stride=(1, 1), bias=False)\n      (bn1): BatchNorm2d(256, eps=1e-05, momentum=0.1, affine=True, track_running_stats=True)\n      (conv2): Conv2d(256, 256, kernel_size=(3, 3), stride=(1, 1), padding=(1, 1), bias=False)\n      (bn2): BatchNorm2d(256, eps=1e-05, momentum=0.1, affine=True, track_running_stats=True)\n      (conv3): Conv2d(256, 1024, kernel_size=(1, 1), stride=(1, 1), bias=False)\n      (bn3): BatchNorm2d(1024, eps=1e-05, momentum=0.1, affine=True, track_running_stats=True)\n      (relu): ReLU(inplace=True)\n    )\n    (6): Bottleneck(\n      (conv1): Conv2d(1024, 256, kernel_size=(1, 1), stride=(1, 1), bias=False)\n      (bn1): BatchNorm2d(256, eps=1e-05, momentum=0.1, affine=True, track_running_stats=True)\n      (conv2): Conv2d(256, 256, kernel_size=(3, 3), stride=(1, 1), padding=(1, 1), bias=False)\n      (bn2): BatchNorm2d(256, eps=1e-05, momentum=0.1, affine=True, track_running_stats=True)\n      (conv3): Conv2d(256, 1024, kernel_size=(1, 1), stride=(1, 1), bias=False)\n      (bn3): BatchNorm2d(1024, eps=1e-05, momentum=0.1, affine=True, track_running_stats=True)\n      (relu): ReLU(inplace=True)\n    )\n    (7): Bottleneck(\n      (conv1): Conv2d(1024, 256, kernel_size=(1, 1), stride=(1, 1), bias=False)\n      (bn1): BatchNorm2d(256, eps=1e-05, momentum=0.1, affine=True, track_running_stats=True)\n      (conv2): Conv2d(256, 256, kernel_size=(3, 3), stride=(1, 1), padding=(1, 1), bias=False)\n      (bn2): BatchNorm2d(256, eps=1e-05, momentum=0.1, affine=True, track_running_stats=True)\n      (conv3): Conv2d(256, 1024, kernel_size=(1, 1), stride=(1, 1), bias=False)\n      (bn3): BatchNorm2d(1024, eps=1e-05, momentum=0.1, affine=True, track_running_stats=True)\n      (relu): ReLU(inplace=True)\n    )\n    (8): Bottleneck(\n      (conv1): Conv2d(1024, 256, kernel_size=(1, 1), stride=(1, 1), bias=False)\n      (bn1): BatchNorm2d(256, eps=1e-05, momentum=0.1, affine=True, track_running_stats=True)\n      (conv2): Conv2d(256, 256, kernel_size=(3, 3), stride=(1, 1), padding=(1, 1), bias=False)\n      (bn2): BatchNorm2d(256, eps=1e-05, momentum=0.1, affine=True, track_running_stats=True)\n      (conv3): Conv2d(256, 1024, kernel_size=(1, 1), stride=(1, 1), bias=False)\n      (bn3): BatchNorm2d(1024, eps=1e-05, momentum=0.1, affine=True, track_running_stats=True)\n      (relu): ReLU(inplace=True)\n    )\n    (9): Bottleneck(\n      (conv1): Conv2d(1024, 256, kernel_size=(1, 1), stride=(1, 1), bias=False)\n      (bn1): BatchNorm2d(256, eps=1e-05, momentum=0.1, affine=True, track_running_stats=True)\n      (conv2): Conv2d(256, 256, kernel_size=(3, 3), stride=(1, 1), padding=(1, 1), bias=False)\n      (bn2): BatchNorm2d(256, eps=1e-05, momentum=0.1, affine=True, track_running_stats=True)\n      (conv3): Conv2d(256, 1024, kernel_size=(1, 1), stride=(1, 1), bias=False)\n      (bn3): BatchNorm2d(1024, eps=1e-05, momentum=0.1, affine=True, track_running_stats=True)\n      (relu): ReLU(inplace=True)\n    )\n    (10): Bottleneck(\n      (conv1): Conv2d(1024, 256, kernel_size=(1, 1), stride=(1, 1), bias=False)\n      (bn1): BatchNorm2d(256, eps=1e-05, momentum=0.1, affine=True, track_running_stats=True)\n      (conv2): Conv2d(256, 256, kernel_size=(3, 3), stride=(1, 1), padding=(1, 1), bias=False)\n      (bn2): BatchNorm2d(256, eps=1e-05, momentum=0.1, affine=True, track_running_stats=True)\n      (conv3): Conv2d(256, 1024, kernel_size=(1, 1), stride=(1, 1), bias=False)\n      (bn3): BatchNorm2d(1024, eps=1e-05, momentum=0.1, affine=True, track_running_stats=True)\n      (relu): ReLU(inplace=True)\n    )\n    (11): Bottleneck(\n      (conv1): Conv2d(1024, 256, kernel_size=(1, 1), stride=(1, 1), bias=False)\n      (bn1): BatchNorm2d(256, eps=1e-05, momentum=0.1, affine=True, track_running_stats=True)\n      (conv2): Conv2d(256, 256, kernel_size=(3, 3), stride=(1, 1), padding=(1, 1), bias=False)\n      (bn2): BatchNorm2d(256, eps=1e-05, momentum=0.1, affine=True, track_running_stats=True)\n      (conv3): Conv2d(256, 1024, kernel_size=(1, 1), stride=(1, 1), bias=False)\n      (bn3): BatchNorm2d(1024, eps=1e-05, momentum=0.1, affine=True, track_running_stats=True)\n      (relu): ReLU(inplace=True)\n    )\n    (12): Bottleneck(\n      (conv1): Conv2d(1024, 256, kernel_size=(1, 1), stride=(1, 1), bias=False)\n      (bn1): BatchNorm2d(256, eps=1e-05, momentum=0.1, affine=True, track_running_stats=True)\n      (conv2): Conv2d(256, 256, kernel_size=(3, 3), stride=(1, 1), padding=(1, 1), bias=False)\n      (bn2): BatchNorm2d(256, eps=1e-05, momentum=0.1, affine=True, track_running_stats=True)\n      (conv3): Conv2d(256, 1024, kernel_size=(1, 1), stride=(1, 1), bias=False)\n      (bn3): BatchNorm2d(1024, eps=1e-05, momentum=0.1, affine=True, track_running_stats=True)\n      (relu): ReLU(inplace=True)\n    )\n    (13): Bottleneck(\n      (conv1): Conv2d(1024, 256, kernel_size=(1, 1), stride=(1, 1), bias=False)\n      (bn1): BatchNorm2d(256, eps=1e-05, momentum=0.1, affine=True, track_running_stats=True)\n      (conv2): Conv2d(256, 256, kernel_size=(3, 3), stride=(1, 1), padding=(1, 1), bias=False)\n      (bn2): BatchNorm2d(256, eps=1e-05, momentum=0.1, affine=True, track_running_stats=True)\n      (conv3): Conv2d(256, 1024, kernel_size=(1, 1), stride=(1, 1), bias=False)\n      (bn3): BatchNorm2d(1024, eps=1e-05, momentum=0.1, affine=True, track_running_stats=True)\n      (relu): ReLU(inplace=True)\n    )\n    (14): Bottleneck(\n      (conv1): Conv2d(1024, 256, kernel_size=(1, 1), stride=(1, 1), bias=False)\n      (bn1): BatchNorm2d(256, eps=1e-05, momentum=0.1, affine=True, track_running_stats=True)\n      (conv2): Conv2d(256, 256, kernel_size=(3, 3), stride=(1, 1), padding=(1, 1), bias=False)\n      (bn2): BatchNorm2d(256, eps=1e-05, momentum=0.1, affine=True, track_running_stats=True)\n      (conv3): Conv2d(256, 1024, kernel_size=(1, 1), stride=(1, 1), bias=False)\n      (bn3): BatchNorm2d(1024, eps=1e-05, momentum=0.1, affine=True, track_running_stats=True)\n      (relu): ReLU(inplace=True)\n    )\n    (15): Bottleneck(\n      (conv1): Conv2d(1024, 256, kernel_size=(1, 1), stride=(1, 1), bias=False)\n      (bn1): BatchNorm2d(256, eps=1e-05, momentum=0.1, affine=True, track_running_stats=True)\n      (conv2): Conv2d(256, 256, kernel_size=(3, 3), stride=(1, 1), padding=(1, 1), bias=False)\n      (bn2): BatchNorm2d(256, eps=1e-05, momentum=0.1, affine=True, track_running_stats=True)\n      (conv3): Conv2d(256, 1024, kernel_size=(1, 1), stride=(1, 1), bias=False)\n      (bn3): BatchNorm2d(1024, eps=1e-05, momentum=0.1, affine=True, track_running_stats=True)\n      (relu): ReLU(inplace=True)\n    )\n    (16): Bottleneck(\n      (conv1): Conv2d(1024, 256, kernel_size=(1, 1), stride=(1, 1), bias=False)\n      (bn1): BatchNorm2d(256, eps=1e-05, momentum=0.1, affine=True, track_running_stats=True)\n      (conv2): Conv2d(256, 256, kernel_size=(3, 3), stride=(1, 1), padding=(1, 1), bias=False)\n      (bn2): BatchNorm2d(256, eps=1e-05, momentum=0.1, affine=True, track_running_stats=True)\n      (conv3): Conv2d(256, 1024, kernel_size=(1, 1), stride=(1, 1), bias=False)\n      (bn3): BatchNorm2d(1024, eps=1e-05, momentum=0.1, affine=True, track_running_stats=True)\n      (relu): ReLU(inplace=True)\n    )\n    (17): Bottleneck(\n      (conv1): Conv2d(1024, 256, kernel_size=(1, 1), stride=(1, 1), bias=False)\n      (bn1): BatchNorm2d(256, eps=1e-05, momentum=0.1, affine=True, track_running_stats=True)\n      (conv2): Conv2d(256, 256, kernel_size=(3, 3), stride=(1, 1), padding=(1, 1), bias=False)\n      (bn2): BatchNorm2d(256, eps=1e-05, momentum=0.1, affine=True, track_running_stats=True)\n      (conv3): Conv2d(256, 1024, kernel_size=(1, 1), stride=(1, 1), bias=False)\n      (bn3): BatchNorm2d(1024, eps=1e-05, momentum=0.1, affine=True, track_running_stats=True)\n      (relu): ReLU(inplace=True)\n    )\n    (18): Bottleneck(\n      (conv1): Conv2d(1024, 256, kernel_size=(1, 1), stride=(1, 1), bias=False)\n      (bn1): BatchNorm2d(256, eps=1e-05, momentum=0.1, affine=True, track_running_stats=True)\n      (conv2): Conv2d(256, 256, kernel_size=(3, 3), stride=(1, 1), padding=(1, 1), bias=False)\n      (bn2): BatchNorm2d(256, eps=1e-05, momentum=0.1, affine=True, track_running_stats=True)\n      (conv3): Conv2d(256, 1024, kernel_size=(1, 1), stride=(1, 1), bias=False)\n      (bn3): BatchNorm2d(1024, eps=1e-05, momentum=0.1, affine=True, track_running_stats=True)\n      (relu): ReLU(inplace=True)\n    )\n    (19): Bottleneck(\n      (conv1): Conv2d(1024, 256, kernel_size=(1, 1), stride=(1, 1), bias=False)\n      (bn1): BatchNorm2d(256, eps=1e-05, momentum=0.1, affine=True, track_running_stats=True)\n      (conv2): Conv2d(256, 256, kernel_size=(3, 3), stride=(1, 1), padding=(1, 1), bias=False)\n      (bn2): BatchNorm2d(256, eps=1e-05, momentum=0.1, affine=True, track_running_stats=True)\n      (conv3): Conv2d(256, 1024, kernel_size=(1, 1), stride=(1, 1), bias=False)\n      (bn3): BatchNorm2d(1024, eps=1e-05, momentum=0.1, affine=True, track_running_stats=True)\n      (relu): ReLU(inplace=True)\n    )\n    (20): Bottleneck(\n      (conv1): Conv2d(1024, 256, kernel_size=(1, 1), stride=(1, 1), bias=False)\n      (bn1): BatchNorm2d(256, eps=1e-05, momentum=0.1, affine=True, track_running_stats=True)\n      (conv2): Conv2d(256, 256, kernel_size=(3, 3), stride=(1, 1), padding=(1, 1), bias=False)\n      (bn2): BatchNorm2d(256, eps=1e-05, momentum=0.1, affine=True, track_running_stats=True)\n      (conv3): Conv2d(256, 1024, kernel_size=(1, 1), stride=(1, 1), bias=False)\n      (bn3): BatchNorm2d(1024, eps=1e-05, momentum=0.1, affine=True, track_running_stats=True)\n      (relu): ReLU(inplace=True)\n    )\n    (21): Bottleneck(\n      (conv1): Conv2d(1024, 256, kernel_size=(1, 1), stride=(1, 1), bias=False)\n      (bn1): BatchNorm2d(256, eps=1e-05, momentum=0.1, affine=True, track_running_stats=True)\n      (conv2): Conv2d(256, 256, kernel_size=(3, 3), stride=(1, 1), padding=(1, 1), bias=False)\n      (bn2): BatchNorm2d(256, eps=1e-05, momentum=0.1, affine=True, track_running_stats=True)\n      (conv3): Conv2d(256, 1024, kernel_size=(1, 1), stride=(1, 1), bias=False)\n      (bn3): BatchNorm2d(1024, eps=1e-05, momentum=0.1, affine=True, track_running_stats=True)\n      (relu): ReLU(inplace=True)\n    )\n    (22): Bottleneck(\n      (conv1): Conv2d(1024, 256, kernel_size=(1, 1), stride=(1, 1), bias=False)\n      (bn1): BatchNorm2d(256, eps=1e-05, momentum=0.1, affine=True, track_running_stats=True)\n      (conv2): Conv2d(256, 256, kernel_size=(3, 3), stride=(1, 1), padding=(1, 1), bias=False)\n      (bn2): BatchNorm2d(256, eps=1e-05, momentum=0.1, affine=True, track_running_stats=True)\n      (conv3): Conv2d(256, 1024, kernel_size=(1, 1), stride=(1, 1), bias=False)\n      (bn3): BatchNorm2d(1024, eps=1e-05, momentum=0.1, affine=True, track_running_stats=True)\n      (relu): ReLU(inplace=True)\n    )\n    (23): Bottleneck(\n      (conv1): Conv2d(1024, 256, kernel_size=(1, 1), stride=(1, 1), bias=False)\n      (bn1): BatchNorm2d(256, eps=1e-05, momentum=0.1, affine=True, track_running_stats=True)\n      (conv2): Conv2d(256, 256, kernel_size=(3, 3), stride=(1, 1), padding=(1, 1), bias=False)\n      (bn2): BatchNorm2d(256, eps=1e-05, momentum=0.1, affine=True, track_running_stats=True)\n      (conv3): Conv2d(256, 1024, kernel_size=(1, 1), stride=(1, 1), bias=False)\n      (bn3): BatchNorm2d(1024, eps=1e-05, momentum=0.1, affine=True, track_running_stats=True)\n      (relu): ReLU(inplace=True)\n    )\n    (24): Bottleneck(\n      (conv1): Conv2d(1024, 256, kernel_size=(1, 1), stride=(1, 1), bias=False)\n      (bn1): BatchNorm2d(256, eps=1e-05, momentum=0.1, affine=True, track_running_stats=True)\n      (conv2): Conv2d(256, 256, kernel_size=(3, 3), stride=(1, 1), padding=(1, 1), bias=False)\n      (bn2): BatchNorm2d(256, eps=1e-05, momentum=0.1, affine=True, track_running_stats=True)\n      (conv3): Conv2d(256, 1024, kernel_size=(1, 1), stride=(1, 1), bias=False)\n      (bn3): BatchNorm2d(1024, eps=1e-05, momentum=0.1, affine=True, track_running_stats=True)\n      (relu): ReLU(inplace=True)\n    )\n    (25): Bottleneck(\n      (conv1): Conv2d(1024, 256, kernel_size=(1, 1), stride=(1, 1), bias=False)\n      (bn1): BatchNorm2d(256, eps=1e-05, momentum=0.1, affine=True, track_running_stats=True)\n      (conv2): Conv2d(256, 256, kernel_size=(3, 3), stride=(1, 1), padding=(1, 1), bias=False)\n      (bn2): BatchNorm2d(256, eps=1e-05, momentum=0.1, affine=True, track_running_stats=True)\n      (conv3): Conv2d(256, 1024, kernel_size=(1, 1), stride=(1, 1), bias=False)\n      (bn3): BatchNorm2d(1024, eps=1e-05, momentum=0.1, affine=True, track_running_stats=True)\n      (relu): ReLU(inplace=True)\n    )\n    (26): Bottleneck(\n      (conv1): Conv2d(1024, 256, kernel_size=(1, 1), stride=(1, 1), bias=False)\n      (bn1): BatchNorm2d(256, eps=1e-05, momentum=0.1, affine=True, track_running_stats=True)\n      (conv2): Conv2d(256, 256, kernel_size=(3, 3), stride=(1, 1), padding=(1, 1), bias=False)\n      (bn2): BatchNorm2d(256, eps=1e-05, momentum=0.1, affine=True, track_running_stats=True)\n      (conv3): Conv2d(256, 1024, kernel_size=(1, 1), stride=(1, 1), bias=False)\n      (bn3): BatchNorm2d(1024, eps=1e-05, momentum=0.1, affine=True, track_running_stats=True)\n      (relu): ReLU(inplace=True)\n    )\n    (27): Bottleneck(\n      (conv1): Conv2d(1024, 256, kernel_size=(1, 1), stride=(1, 1), bias=False)\n      (bn1): BatchNorm2d(256, eps=1e-05, momentum=0.1, affine=True, track_running_stats=True)\n      (conv2): Conv2d(256, 256, kernel_size=(3, 3), stride=(1, 1), padding=(1, 1), bias=False)\n      (bn2): BatchNorm2d(256, eps=1e-05, momentum=0.1, affine=True, track_running_stats=True)\n      (conv3): Conv2d(256, 1024, kernel_size=(1, 1), stride=(1, 1), bias=False)\n      (bn3): BatchNorm2d(1024, eps=1e-05, momentum=0.1, affine=True, track_running_stats=True)\n      (relu): ReLU(inplace=True)\n    )\n    (28): Bottleneck(\n      (conv1): Conv2d(1024, 256, kernel_size=(1, 1), stride=(1, 1), bias=False)\n      (bn1): BatchNorm2d(256, eps=1e-05, momentum=0.1, affine=True, track_running_stats=True)\n      (conv2): Conv2d(256, 256, kernel_size=(3, 3), stride=(1, 1), padding=(1, 1), bias=False)\n      (bn2): BatchNorm2d(256, eps=1e-05, momentum=0.1, affine=True, track_running_stats=True)\n      (conv3): Conv2d(256, 1024, kernel_size=(1, 1), stride=(1, 1), bias=False)\n      (bn3): BatchNorm2d(1024, eps=1e-05, momentum=0.1, affine=True, track_running_stats=True)\n      (relu): ReLU(inplace=True)\n    )\n    (29): Bottleneck(\n      (conv1): Conv2d(1024, 256, kernel_size=(1, 1), stride=(1, 1), bias=False)\n      (bn1): BatchNorm2d(256, eps=1e-05, momentum=0.1, affine=True, track_running_stats=True)\n      (conv2): Conv2d(256, 256, kernel_size=(3, 3), stride=(1, 1), padding=(1, 1), bias=False)\n      (bn2): BatchNorm2d(256, eps=1e-05, momentum=0.1, affine=True, track_running_stats=True)\n      (conv3): Conv2d(256, 1024, kernel_size=(1, 1), stride=(1, 1), bias=False)\n      (bn3): BatchNorm2d(1024, eps=1e-05, momentum=0.1, affine=True, track_running_stats=True)\n      (relu): ReLU(inplace=True)\n    )\n    (30): Bottleneck(\n      (conv1): Conv2d(1024, 256, kernel_size=(1, 1), stride=(1, 1), bias=False)\n      (bn1): BatchNorm2d(256, eps=1e-05, momentum=0.1, affine=True, track_running_stats=True)\n      (conv2): Conv2d(256, 256, kernel_size=(3, 3), stride=(1, 1), padding=(1, 1), bias=False)\n      (bn2): BatchNorm2d(256, eps=1e-05, momentum=0.1, affine=True, track_running_stats=True)\n      (conv3): Conv2d(256, 1024, kernel_size=(1, 1), stride=(1, 1), bias=False)\n      (bn3): BatchNorm2d(1024, eps=1e-05, momentum=0.1, affine=True, track_running_stats=True)\n      (relu): ReLU(inplace=True)\n    )\n    (31): Bottleneck(\n      (conv1): Conv2d(1024, 256, kernel_size=(1, 1), stride=(1, 1), bias=False)\n      (bn1): BatchNorm2d(256, eps=1e-05, momentum=0.1, affine=True, track_running_stats=True)\n      (conv2): Conv2d(256, 256, kernel_size=(3, 3), stride=(1, 1), padding=(1, 1), bias=False)\n      (bn2): BatchNorm2d(256, eps=1e-05, momentum=0.1, affine=True, track_running_stats=True)\n      (conv3): Conv2d(256, 1024, kernel_size=(1, 1), stride=(1, 1), bias=False)\n      (bn3): BatchNorm2d(1024, eps=1e-05, momentum=0.1, affine=True, track_running_stats=True)\n      (relu): ReLU(inplace=True)\n    )\n    (32): Bottleneck(\n      (conv1): Conv2d(1024, 256, kernel_size=(1, 1), stride=(1, 1), bias=False)\n      (bn1): BatchNorm2d(256, eps=1e-05, momentum=0.1, affine=True, track_running_stats=True)\n      (conv2): Conv2d(256, 256, kernel_size=(3, 3), stride=(1, 1), padding=(1, 1), bias=False)\n      (bn2): BatchNorm2d(256, eps=1e-05, momentum=0.1, affine=True, track_running_stats=True)\n      (conv3): Conv2d(256, 1024, kernel_size=(1, 1), stride=(1, 1), bias=False)\n      (bn3): BatchNorm2d(1024, eps=1e-05, momentum=0.1, affine=True, track_running_stats=True)\n      (relu): ReLU(inplace=True)\n    )\n    (33): Bottleneck(\n      (conv1): Conv2d(1024, 256, kernel_size=(1, 1), stride=(1, 1), bias=False)\n      (bn1): BatchNorm2d(256, eps=1e-05, momentum=0.1, affine=True, track_running_stats=True)\n      (conv2): Conv2d(256, 256, kernel_size=(3, 3), stride=(1, 1), padding=(1, 1), bias=False)\n      (bn2): BatchNorm2d(256, eps=1e-05, momentum=0.1, affine=True, track_running_stats=True)\n      (conv3): Conv2d(256, 1024, kernel_size=(1, 1), stride=(1, 1), bias=False)\n      (bn3): BatchNorm2d(1024, eps=1e-05, momentum=0.1, affine=True, track_running_stats=True)\n      (relu): ReLU(inplace=True)\n    )\n    (34): Bottleneck(\n      (conv1): Conv2d(1024, 256, kernel_size=(1, 1), stride=(1, 1), bias=False)\n      (bn1): BatchNorm2d(256, eps=1e-05, momentum=0.1, affine=True, track_running_stats=True)\n      (conv2): Conv2d(256, 256, kernel_size=(3, 3), stride=(1, 1), padding=(1, 1), bias=False)\n      (bn2): BatchNorm2d(256, eps=1e-05, momentum=0.1, affine=True, track_running_stats=True)\n      (conv3): Conv2d(256, 1024, kernel_size=(1, 1), stride=(1, 1), bias=False)\n      (bn3): BatchNorm2d(1024, eps=1e-05, momentum=0.1, affine=True, track_running_stats=True)\n      (relu): ReLU(inplace=True)\n    )\n    (35): Bottleneck(\n      (conv1): Conv2d(1024, 256, kernel_size=(1, 1), stride=(1, 1), bias=False)\n      (bn1): BatchNorm2d(256, eps=1e-05, momentum=0.1, affine=True, track_running_stats=True)\n      (conv2): Conv2d(256, 256, kernel_size=(3, 3), stride=(1, 1), padding=(1, 1), bias=False)\n      (bn2): BatchNorm2d(256, eps=1e-05, momentum=0.1, affine=True, track_running_stats=True)\n      (conv3): Conv2d(256, 1024, kernel_size=(1, 1), stride=(1, 1), bias=False)\n      (bn3): BatchNorm2d(1024, eps=1e-05, momentum=0.1, affine=True, track_running_stats=True)\n      (relu): ReLU(inplace=True)\n    )\n  )\n  (layer4): Sequential(\n    (0): Bottleneck(\n      (conv1): Conv2d(1024, 512, kernel_size=(1, 1), stride=(1, 1), bias=False)\n      (bn1): BatchNorm2d(512, eps=1e-05, momentum=0.1, affine=True, track_running_stats=True)\n      (conv2): Conv2d(512, 512, kernel_size=(3, 3), stride=(2, 2), padding=(1, 1), bias=False)\n      (bn2): BatchNorm2d(512, eps=1e-05, momentum=0.1, affine=True, track_running_stats=True)\n      (conv3): Conv2d(512, 2048, kernel_size=(1, 1), stride=(1, 1), bias=False)\n      (bn3): BatchNorm2d(2048, eps=1e-05, momentum=0.1, affine=True, track_running_stats=True)\n      (relu): ReLU(inplace=True)\n      (downsample): Sequential(\n        (0): Conv2d(1024, 2048, kernel_size=(1, 1), stride=(2, 2), bias=False)\n        (1): BatchNorm2d(2048, eps=1e-05, momentum=0.1, affine=True, track_running_stats=True)\n      )\n    )\n    (1): Bottleneck(\n      (conv1): Conv2d(2048, 512, kernel_size=(1, 1), stride=(1, 1), bias=False)\n      (bn1): BatchNorm2d(512, eps=1e-05, momentum=0.1, affine=True, track_running_stats=True)\n      (conv2): Conv2d(512, 512, kernel_size=(3, 3), stride=(1, 1), padding=(1, 1), bias=False)\n      (bn2): BatchNorm2d(512, eps=1e-05, momentum=0.1, affine=True, track_running_stats=True)\n      (conv3): Conv2d(512, 2048, kernel_size=(1, 1), stride=(1, 1), bias=False)\n      (bn3): BatchNorm2d(2048, eps=1e-05, momentum=0.1, affine=True, track_running_stats=True)\n      (relu): ReLU(inplace=True)\n    )\n    (2): Bottleneck(\n      (conv1): Conv2d(2048, 512, kernel_size=(1, 1), stride=(1, 1), bias=False)\n      (bn1): BatchNorm2d(512, eps=1e-05, momentum=0.1, affine=True, track_running_stats=True)\n      (conv2): Conv2d(512, 512, kernel_size=(3, 3), stride=(1, 1), padding=(1, 1), bias=False)\n      (bn2): BatchNorm2d(512, eps=1e-05, momentum=0.1, affine=True, track_running_stats=True)\n      (conv3): Conv2d(512, 2048, kernel_size=(1, 1), stride=(1, 1), bias=False)\n      (bn3): BatchNorm2d(2048, eps=1e-05, momentum=0.1, affine=True, track_running_stats=True)\n      (relu): ReLU(inplace=True)\n    )\n  )\n  (avgpool): AdaptiveAvgPool2d(output_size=(1, 1))\n  (fc): Sequential(\n    (0): Linear(in_features=2048, out_features=2048, bias=True)\n    (1): ReLU()\n    (2): Dropout(p=0.5, inplace=False)\n    (3): Linear(in_features=2048, out_features=1024, bias=True)\n    (4): ReLU()\n    (5): Dropout(p=0.5, inplace=False)\n    (6): Linear(in_features=1024, out_features=500, bias=True)\n    (7): ReLU()\n    (8): Dropout(p=0.5, inplace=False)\n    (9): Linear(in_features=500, out_features=10, bias=True)\n  )\n)"
     },
     "execution_count": 26,
     "metadata": {},
     "output_type": "execute_result"
    }
   ],
   "source": [
    "transfer_person_model = models.resnet152()\n",
    "transfer_person_model.fc = nn.Sequential(\n",
    "    nn.Linear(transfer_person_model.fc.in_features, 2048),\n",
    "    nn.ReLU(),\n",
    "    nn.Dropout(),\n",
    "    nn.Linear(2048, 1024),\n",
    "    nn.ReLU(),\n",
    "    nn.Dropout(),\n",
    "    nn.Linear(1024, 500),\n",
    "    nn.ReLU(),\n",
    "    nn.Dropout(),\n",
    "    nn.Linear(500, 10)\n",
    ")\n",
    "transfer_person_model_state_dict = torch.load(\"C:\\\\Users\\\\Pirmin.000\\\\PycharmProjects\\\\IGP\\\\models\\\\person_test\\\\29_11_2023_07_24_46\\\\model_29_11_2023_17_31_06.pt\")\n",
    "transfer_person_model.load_state_dict(transfer_person_model_state_dict)\n",
    "transfer_person_model.to(\"cuda\")\n",
    "transfer_person_model.eval()"
   ],
   "metadata": {
    "collapsed": false,
    "ExecuteTime": {
     "end_time": "2023-11-29T19:11:15.592733400Z",
     "start_time": "2023-11-29T19:11:13.800130800Z"
    }
   },
   "id": "9a8e482d405bc99c"
  },
  {
   "cell_type": "code",
   "execution_count": 27,
   "outputs": [],
   "source": [
    "def checkImage(path: str, transfer_model, orig_set, transforms_wt):\n",
    "    img = Image.open(path)\n",
    "    img_tensor = transforms_wt(img).unsqueeze(0)\n",
    "    prediction = transfer_model(img_tensor.to(\"cuda\"))\n",
    "    predicted_probabilities = torch.softmax(prediction, dim=1)\n",
    "    predicted_class_idx = torch.argmax(prediction).item()\n",
    "    predicted_class = orig_set.classes[predicted_class_idx]\n",
    "\n",
    "    # Get the confidence score for the predicted class\n",
    "    confidence = predicted_probabilities[0, predicted_class_idx].item() * 100  # Convert to percentage\n",
    "\n",
    "    return predicted_class, confidence"
   ],
   "metadata": {
    "collapsed": false,
    "ExecuteTime": {
     "end_time": "2023-11-29T19:11:15.593732400Z",
     "start_time": "2023-11-29T19:11:15.588185Z"
    }
   },
   "id": "78556038cf021abd"
  },
  {
   "cell_type": "code",
   "execution_count": 28,
   "outputs": [],
   "source": [
    "def trigger_crop(image):\n",
    "    crop_box = (400, 450, 550, 550)\n",
    "    cropped_image = transforms.functional.crop(image, *crop_box)\n",
    "    return cropped_image"
   ],
   "metadata": {
    "collapsed": false,
    "ExecuteTime": {
     "end_time": "2023-11-29T19:11:15.602387500Z",
     "start_time": "2023-11-29T19:11:15.593732400Z"
    }
   },
   "id": "783e827a79b9a956"
  },
  {
   "cell_type": "code",
   "execution_count": 29,
   "outputs": [],
   "source": [
    "def video_to_image_converter(source_path: str, output_path: str, crop=False):\n",
    "    vidcap = cv2.VideoCapture(source_path)\n",
    "    os.makedirs(output_path, exist_ok=True)\n",
    "    count = 0\n",
    "\n",
    "    total_frames = int(vidcap.get(cv2.CAP_PROP_FRAME_COUNT))\n",
    "    #fps = int(vidcap.get(cv2.CAP_PROP_FPS))\n",
    "    fps = 15\n",
    "\n",
    "    while count < total_frames:\n",
    "        success, image = vidcap.read()\n",
    "\n",
    "        if count % int(fps) == 0:\n",
    "            if not image is None and not image.size == 0:\n",
    "                transform_test = transforms.ToPILImage()\n",
    "                image = transform_test(image)\n",
    "                if crop:\n",
    "                    image = trigger_crop(image)\n",
    "                image = np.asarray(image)\n",
    "                cv2.imwrite(f\"{output_path}/{count}.png\", image)  # save frame as PNG file\n",
    "\n",
    "        count += 1\n",
    "\n",
    "    vidcap.release()\n",
    "    cv2.destroyAllWindows()"
   ],
   "metadata": {
    "collapsed": false,
    "ExecuteTime": {
     "end_time": "2023-11-29T19:11:15.618128300Z",
     "start_time": "2023-11-29T19:11:15.605914600Z"
    }
   },
   "id": "ec556653d2e49d02"
  },
  {
   "cell_type": "code",
   "execution_count": 31,
   "outputs": [
    {
     "name": "stderr",
     "output_type": "stream",
     "text": [
      "  0%|          | 0/22 [00:00<?, ?it/s]"
     ]
    },
    {
     "name": "stdout",
     "output_type": "stream",
     "text": [
      "2023-11-29 20:19:17,066 INFO sqlalchemy.engine.Engine SELECT file_path FROM video WHERE loop_id = %(loop_id)s AND device = 'rgbCam'\n",
      "2023-11-29 20:19:17,066 INFO sqlalchemy.engine.Engine [cached since 481.4s ago] {'loop_id': 129}\n",
      "Counter({'Pirmin_Aster': 92, 'Martin_Hofer': 60, 'Robert_Goller': 2, 'Suganthi_Manoharan': 1})\n",
      "2023-11-29 20:19:39,757 INFO sqlalchemy.engine.Engine SELECT users.id AS users_id, users.name AS users_name, users.surename AS users_surename \n",
      "FROM users \n",
      "WHERE users.name = %(name_1)s AND users.surename = %(surename_1)s \n",
      " LIMIT %(param_1)s\n",
      "2023-11-29 20:19:39,757 INFO sqlalchemy.engine.Engine [cached since 482.5s ago] {'name_1': 'Pirmin', 'surename_1': 'Aster', 'param_1': 1}\n",
      "2023-11-29 20:19:39,759 INFO sqlalchemy.engine.Engine SELECT loop.id AS loop_id, loop.timestamp AS loop_timestamp, loop.session_length AS loop_session_length, loop.location AS loop_location, loop.human_labeled AS loop_human_labeled, loop.user_id AS loop_user_id \n",
      "FROM loop \n",
      "WHERE loop.id = %(id_1)s \n",
      " LIMIT %(param_1)s\n",
      "2023-11-29 20:19:39,760 INFO sqlalchemy.engine.Engine [cached since 482.5s ago] {'id_1': 129, 'param_1': 1}\n",
      "2023-11-29 20:19:39,762 INFO sqlalchemy.engine.Engine COMMIT\n"
     ]
    },
    {
     "name": "stderr",
     "output_type": "stream",
     "text": [
      "  5%|▍         | 1/22 [00:22<07:56, 22.70s/it]"
     ]
    },
    {
     "name": "stdout",
     "output_type": "stream",
     "text": [
      "Loop_id: 129, Result:['Pirmin', 'Aster'] ID:7\n",
      "2023-11-29 20:19:39,765 INFO sqlalchemy.engine.Engine BEGIN (implicit)\n",
      "2023-11-29 20:19:39,765 INFO sqlalchemy.engine.Engine SELECT file_path FROM video WHERE loop_id = %(loop_id)s AND device = 'rgbCam'\n",
      "2023-11-29 20:19:39,766 INFO sqlalchemy.engine.Engine [cached since 504.1s ago] {'loop_id': 130}\n",
      "Counter({'Pirmin_Aster': 133, 'Martin_Hofer': 64, 'Juergen_Zangerl': 32, 'Suganthi_Manoharan': 9, 'Philipp_Egger': 2})\n",
      "2023-11-29 20:20:15,915 INFO sqlalchemy.engine.Engine SELECT users.id AS users_id, users.name AS users_name, users.surename AS users_surename \n",
      "FROM users \n",
      "WHERE users.name = %(name_1)s AND users.surename = %(surename_1)s \n",
      " LIMIT %(param_1)s\n",
      "2023-11-29 20:20:15,916 INFO sqlalchemy.engine.Engine [cached since 518.6s ago] {'name_1': 'Pirmin', 'surename_1': 'Aster', 'param_1': 1}\n",
      "2023-11-29 20:20:15,918 INFO sqlalchemy.engine.Engine SELECT loop.id AS loop_id, loop.timestamp AS loop_timestamp, loop.session_length AS loop_session_length, loop.location AS loop_location, loop.human_labeled AS loop_human_labeled, loop.user_id AS loop_user_id \n",
      "FROM loop \n",
      "WHERE loop.id = %(id_1)s \n",
      " LIMIT %(param_1)s\n",
      "2023-11-29 20:20:15,918 INFO sqlalchemy.engine.Engine [cached since 518.6s ago] {'id_1': 130, 'param_1': 1}\n",
      "2023-11-29 20:20:15,920 INFO sqlalchemy.engine.Engine COMMIT\n"
     ]
    },
    {
     "name": "stderr",
     "output_type": "stream",
     "text": [
      "  9%|▉         | 2/22 [00:58<10:12, 30.62s/it]"
     ]
    },
    {
     "name": "stdout",
     "output_type": "stream",
     "text": [
      "Loop_id: 130, Result:['Pirmin', 'Aster'] ID:7\n",
      "2023-11-29 20:20:15,921 INFO sqlalchemy.engine.Engine BEGIN (implicit)\n",
      "2023-11-29 20:20:15,922 INFO sqlalchemy.engine.Engine SELECT file_path FROM video WHERE loop_id = %(loop_id)s AND device = 'rgbCam'\n",
      "2023-11-29 20:20:15,922 INFO sqlalchemy.engine.Engine [cached since 540.3s ago] {'loop_id': 131}\n",
      "Counter({'Pirmin_Aster': 182, 'Martin_Hofer': 9, 'Juergen_Zangerl': 5})\n",
      "2023-11-29 20:20:44,668 INFO sqlalchemy.engine.Engine SELECT users.id AS users_id, users.name AS users_name, users.surename AS users_surename \n",
      "FROM users \n",
      "WHERE users.name = %(name_1)s AND users.surename = %(surename_1)s \n",
      " LIMIT %(param_1)s\n",
      "2023-11-29 20:20:44,669 INFO sqlalchemy.engine.Engine [cached since 547.4s ago] {'name_1': 'Pirmin', 'surename_1': 'Aster', 'param_1': 1}\n",
      "2023-11-29 20:20:44,671 INFO sqlalchemy.engine.Engine SELECT loop.id AS loop_id, loop.timestamp AS loop_timestamp, loop.session_length AS loop_session_length, loop.location AS loop_location, loop.human_labeled AS loop_human_labeled, loop.user_id AS loop_user_id \n",
      "FROM loop \n",
      "WHERE loop.id = %(id_1)s \n",
      " LIMIT %(param_1)s\n",
      "2023-11-29 20:20:44,671 INFO sqlalchemy.engine.Engine [cached since 547.4s ago] {'id_1': 131, 'param_1': 1}\n",
      "2023-11-29 20:20:44,673 INFO sqlalchemy.engine.Engine COMMIT\n"
     ]
    },
    {
     "name": "stderr",
     "output_type": "stream",
     "text": [
      " 14%|█▎        | 3/22 [01:27<09:25, 29.76s/it]"
     ]
    },
    {
     "name": "stdout",
     "output_type": "stream",
     "text": [
      "Loop_id: 131, Result:['Pirmin', 'Aster'] ID:7\n",
      "2023-11-29 20:20:44,674 INFO sqlalchemy.engine.Engine BEGIN (implicit)\n",
      "2023-11-29 20:20:44,675 INFO sqlalchemy.engine.Engine SELECT file_path FROM video WHERE loop_id = %(loop_id)s AND device = 'rgbCam'\n",
      "2023-11-29 20:20:44,675 INFO sqlalchemy.engine.Engine [cached since 569.1s ago] {'loop_id': 132}\n",
      "Counter({'Pirmin_Aster': 201, 'Martin_Hofer': 38, 'Robert_Goller': 4, 'Suganthi_Manoharan': 1, 'Juergen_Zangerl': 1})\n",
      "2023-11-29 20:21:19,755 INFO sqlalchemy.engine.Engine SELECT users.id AS users_id, users.name AS users_name, users.surename AS users_surename \n",
      "FROM users \n",
      "WHERE users.name = %(name_1)s AND users.surename = %(surename_1)s \n",
      " LIMIT %(param_1)s\n",
      "2023-11-29 20:21:19,756 INFO sqlalchemy.engine.Engine [cached since 582.5s ago] {'name_1': 'Pirmin', 'surename_1': 'Aster', 'param_1': 1}\n",
      "2023-11-29 20:21:19,757 INFO sqlalchemy.engine.Engine SELECT loop.id AS loop_id, loop.timestamp AS loop_timestamp, loop.session_length AS loop_session_length, loop.location AS loop_location, loop.human_labeled AS loop_human_labeled, loop.user_id AS loop_user_id \n",
      "FROM loop \n",
      "WHERE loop.id = %(id_1)s \n",
      " LIMIT %(param_1)s\n",
      "2023-11-29 20:21:19,758 INFO sqlalchemy.engine.Engine [cached since 582.5s ago] {'id_1': 132, 'param_1': 1}\n",
      "2023-11-29 20:21:19,759 INFO sqlalchemy.engine.Engine COMMIT\n"
     ]
    },
    {
     "name": "stderr",
     "output_type": "stream",
     "text": [
      " 18%|█▊        | 4/22 [02:02<09:33, 31.87s/it]"
     ]
    },
    {
     "name": "stdout",
     "output_type": "stream",
     "text": [
      "Loop_id: 132, Result:['Pirmin', 'Aster'] ID:7\n",
      "2023-11-29 20:21:19,761 INFO sqlalchemy.engine.Engine BEGIN (implicit)\n",
      "2023-11-29 20:21:19,762 INFO sqlalchemy.engine.Engine SELECT file_path FROM video WHERE loop_id = %(loop_id)s AND device = 'rgbCam'\n",
      "2023-11-29 20:21:19,762 INFO sqlalchemy.engine.Engine [cached since 604.1s ago] {'loop_id': 133}\n",
      "Counter({'Pirmin_Aster': 102, 'Juergen_Zangerl': 42, 'Martin_Hofer': 33, 'Suganthi_Manoharan': 27, 'Philipp_Egger': 2})\n",
      "2023-11-29 20:21:49,913 INFO sqlalchemy.engine.Engine SELECT users.id AS users_id, users.name AS users_name, users.surename AS users_surename \n",
      "FROM users \n",
      "WHERE users.name = %(name_1)s AND users.surename = %(surename_1)s \n",
      " LIMIT %(param_1)s\n",
      "2023-11-29 20:21:49,913 INFO sqlalchemy.engine.Engine [cached since 612.6s ago] {'name_1': 'Pirmin', 'surename_1': 'Aster', 'param_1': 1}\n",
      "2023-11-29 20:21:49,915 INFO sqlalchemy.engine.Engine SELECT loop.id AS loop_id, loop.timestamp AS loop_timestamp, loop.session_length AS loop_session_length, loop.location AS loop_location, loop.human_labeled AS loop_human_labeled, loop.user_id AS loop_user_id \n",
      "FROM loop \n",
      "WHERE loop.id = %(id_1)s \n",
      " LIMIT %(param_1)s\n",
      "2023-11-29 20:21:49,915 INFO sqlalchemy.engine.Engine [cached since 612.6s ago] {'id_1': 133, 'param_1': 1}\n",
      "2023-11-29 20:21:49,917 INFO sqlalchemy.engine.Engine COMMIT\n"
     ]
    },
    {
     "name": "stderr",
     "output_type": "stream",
     "text": [
      " 23%|██▎       | 5/22 [02:32<08:51, 31.25s/it]"
     ]
    },
    {
     "name": "stdout",
     "output_type": "stream",
     "text": [
      "Loop_id: 133, Result:['Pirmin', 'Aster'] ID:7\n",
      "2023-11-29 20:21:49,918 INFO sqlalchemy.engine.Engine BEGIN (implicit)\n",
      "2023-11-29 20:21:49,919 INFO sqlalchemy.engine.Engine SELECT file_path FROM video WHERE loop_id = %(loop_id)s AND device = 'rgbCam'\n",
      "2023-11-29 20:21:49,919 INFO sqlalchemy.engine.Engine [cached since 634.3s ago] {'loop_id': 134}\n",
      "Counter({'Pirmin_Aster': 93, 'Martin_Hofer': 8})\n",
      "2023-11-29 20:22:04,522 INFO sqlalchemy.engine.Engine SELECT users.id AS users_id, users.name AS users_name, users.surename AS users_surename \n",
      "FROM users \n",
      "WHERE users.name = %(name_1)s AND users.surename = %(surename_1)s \n",
      " LIMIT %(param_1)s\n",
      "2023-11-29 20:22:04,523 INFO sqlalchemy.engine.Engine [cached since 627.2s ago] {'name_1': 'Pirmin', 'surename_1': 'Aster', 'param_1': 1}\n",
      "2023-11-29 20:22:04,525 INFO sqlalchemy.engine.Engine SELECT loop.id AS loop_id, loop.timestamp AS loop_timestamp, loop.session_length AS loop_session_length, loop.location AS loop_location, loop.human_labeled AS loop_human_labeled, loop.user_id AS loop_user_id \n",
      "FROM loop \n",
      "WHERE loop.id = %(id_1)s \n",
      " LIMIT %(param_1)s\n",
      "2023-11-29 20:22:04,525 INFO sqlalchemy.engine.Engine [cached since 627.2s ago] {'id_1': 134, 'param_1': 1}\n",
      "2023-11-29 20:22:04,527 INFO sqlalchemy.engine.Engine COMMIT\n"
     ]
    },
    {
     "name": "stderr",
     "output_type": "stream",
     "text": [
      " 27%|██▋       | 6/22 [02:47<06:49, 25.59s/it]"
     ]
    },
    {
     "name": "stdout",
     "output_type": "stream",
     "text": [
      "Loop_id: 134, Result:['Pirmin', 'Aster'] ID:7\n",
      "2023-11-29 20:22:04,528 INFO sqlalchemy.engine.Engine BEGIN (implicit)\n",
      "2023-11-29 20:22:04,529 INFO sqlalchemy.engine.Engine SELECT file_path FROM video WHERE loop_id = %(loop_id)s AND device = 'rgbCam'\n",
      "2023-11-29 20:22:04,529 INFO sqlalchemy.engine.Engine [cached since 648.9s ago] {'loop_id': 135}\n",
      "Counter({'Pirmin_Aster': 204, 'Martin_Hofer': 59, 'Suganthi_Manoharan': 56, 'Juergen_Zangerl': 21})\n",
      "2023-11-29 20:22:53,657 INFO sqlalchemy.engine.Engine SELECT users.id AS users_id, users.name AS users_name, users.surename AS users_surename \n",
      "FROM users \n",
      "WHERE users.name = %(name_1)s AND users.surename = %(surename_1)s \n",
      " LIMIT %(param_1)s\n",
      "2023-11-29 20:22:53,657 INFO sqlalchemy.engine.Engine [cached since 676.4s ago] {'name_1': 'Pirmin', 'surename_1': 'Aster', 'param_1': 1}\n",
      "2023-11-29 20:22:53,659 INFO sqlalchemy.engine.Engine SELECT loop.id AS loop_id, loop.timestamp AS loop_timestamp, loop.session_length AS loop_session_length, loop.location AS loop_location, loop.human_labeled AS loop_human_labeled, loop.user_id AS loop_user_id \n",
      "FROM loop \n",
      "WHERE loop.id = %(id_1)s \n",
      " LIMIT %(param_1)s\n",
      "2023-11-29 20:22:53,659 INFO sqlalchemy.engine.Engine [cached since 676.4s ago] {'id_1': 135, 'param_1': 1}\n",
      "2023-11-29 20:22:53,661 INFO sqlalchemy.engine.Engine COMMIT\n"
     ]
    },
    {
     "name": "stderr",
     "output_type": "stream",
     "text": [
      " 32%|███▏      | 7/22 [03:36<08:19, 33.29s/it]"
     ]
    },
    {
     "name": "stdout",
     "output_type": "stream",
     "text": [
      "Loop_id: 135, Result:['Pirmin', 'Aster'] ID:7\n",
      "2023-11-29 20:22:53,662 INFO sqlalchemy.engine.Engine BEGIN (implicit)\n",
      "2023-11-29 20:22:53,663 INFO sqlalchemy.engine.Engine SELECT file_path FROM video WHERE loop_id = %(loop_id)s AND device = 'rgbCam'\n",
      "2023-11-29 20:22:53,663 INFO sqlalchemy.engine.Engine [cached since 698s ago] {'loop_id': 136}\n",
      "Counter({'Pirmin_Aster': 124, 'Suganthi_Manoharan': 72, 'Martin_Hofer': 41, 'Juergen_Zangerl': 18})\n",
      "2023-11-29 20:23:29,256 INFO sqlalchemy.engine.Engine SELECT users.id AS users_id, users.name AS users_name, users.surename AS users_surename \n",
      "FROM users \n",
      "WHERE users.name = %(name_1)s AND users.surename = %(surename_1)s \n",
      " LIMIT %(param_1)s\n",
      "2023-11-29 20:23:29,257 INFO sqlalchemy.engine.Engine [cached since 712s ago] {'name_1': 'Pirmin', 'surename_1': 'Aster', 'param_1': 1}\n",
      "2023-11-29 20:23:29,258 INFO sqlalchemy.engine.Engine SELECT loop.id AS loop_id, loop.timestamp AS loop_timestamp, loop.session_length AS loop_session_length, loop.location AS loop_location, loop.human_labeled AS loop_human_labeled, loop.user_id AS loop_user_id \n",
      "FROM loop \n",
      "WHERE loop.id = %(id_1)s \n",
      " LIMIT %(param_1)s\n",
      "2023-11-29 20:23:29,259 INFO sqlalchemy.engine.Engine [cached since 712s ago] {'id_1': 136, 'param_1': 1}\n",
      "2023-11-29 20:23:29,260 INFO sqlalchemy.engine.Engine COMMIT\n"
     ]
    },
    {
     "name": "stderr",
     "output_type": "stream",
     "text": [
      " 36%|███▋      | 8/22 [04:12<07:56, 34.02s/it]"
     ]
    },
    {
     "name": "stdout",
     "output_type": "stream",
     "text": [
      "Loop_id: 136, Result:['Pirmin', 'Aster'] ID:7\n",
      "2023-11-29 20:23:29,263 INFO sqlalchemy.engine.Engine BEGIN (implicit)\n",
      "2023-11-29 20:23:29,264 INFO sqlalchemy.engine.Engine SELECT file_path FROM video WHERE loop_id = %(loop_id)s AND device = 'rgbCam'\n",
      "2023-11-29 20:23:29,264 INFO sqlalchemy.engine.Engine [cached since 733.6s ago] {'loop_id': 137}\n",
      "Counter({'Pirmin_Aster': 223, 'Martin_Hofer': 88, 'Juergen_Zangerl': 4, 'Suganthi_Manoharan': 3, 'Robert_Goller': 2})\n",
      "2023-11-29 20:24:17,202 INFO sqlalchemy.engine.Engine SELECT users.id AS users_id, users.name AS users_name, users.surename AS users_surename \n",
      "FROM users \n",
      "WHERE users.name = %(name_1)s AND users.surename = %(surename_1)s \n",
      " LIMIT %(param_1)s\n",
      "2023-11-29 20:24:17,203 INFO sqlalchemy.engine.Engine [cached since 759.9s ago] {'name_1': 'Pirmin', 'surename_1': 'Aster', 'param_1': 1}\n",
      "2023-11-29 20:24:17,205 INFO sqlalchemy.engine.Engine SELECT loop.id AS loop_id, loop.timestamp AS loop_timestamp, loop.session_length AS loop_session_length, loop.location AS loop_location, loop.human_labeled AS loop_human_labeled, loop.user_id AS loop_user_id \n",
      "FROM loop \n",
      "WHERE loop.id = %(id_1)s \n",
      " LIMIT %(param_1)s\n",
      "2023-11-29 20:24:17,205 INFO sqlalchemy.engine.Engine [cached since 759.9s ago] {'id_1': 137, 'param_1': 1}\n",
      "2023-11-29 20:24:17,207 INFO sqlalchemy.engine.Engine COMMIT\n"
     ]
    },
    {
     "name": "stderr",
     "output_type": "stream",
     "text": [
      " 41%|████      | 9/22 [05:00<08:18, 38.38s/it]"
     ]
    },
    {
     "name": "stdout",
     "output_type": "stream",
     "text": [
      "Loop_id: 137, Result:['Pirmin', 'Aster'] ID:7\n",
      "2023-11-29 20:24:17,209 INFO sqlalchemy.engine.Engine BEGIN (implicit)\n",
      "2023-11-29 20:24:17,210 INFO sqlalchemy.engine.Engine SELECT file_path FROM video WHERE loop_id = %(loop_id)s AND device = 'rgbCam'\n",
      "2023-11-29 20:24:17,210 INFO sqlalchemy.engine.Engine [cached since 781.6s ago] {'loop_id': 138}\n",
      "Counter({'Pirmin_Aster': 226, 'Martin_Hofer': 10})\n",
      "2023-11-29 20:24:51,744 INFO sqlalchemy.engine.Engine SELECT users.id AS users_id, users.name AS users_name, users.surename AS users_surename \n",
      "FROM users \n",
      "WHERE users.name = %(name_1)s AND users.surename = %(surename_1)s \n",
      " LIMIT %(param_1)s\n",
      "2023-11-29 20:24:51,745 INFO sqlalchemy.engine.Engine [cached since 794.5s ago] {'name_1': 'Pirmin', 'surename_1': 'Aster', 'param_1': 1}\n",
      "2023-11-29 20:24:51,747 INFO sqlalchemy.engine.Engine SELECT loop.id AS loop_id, loop.timestamp AS loop_timestamp, loop.session_length AS loop_session_length, loop.location AS loop_location, loop.human_labeled AS loop_human_labeled, loop.user_id AS loop_user_id \n",
      "FROM loop \n",
      "WHERE loop.id = %(id_1)s \n",
      " LIMIT %(param_1)s\n",
      "2023-11-29 20:24:51,748 INFO sqlalchemy.engine.Engine [cached since 794.5s ago] {'id_1': 138, 'param_1': 1}\n",
      "2023-11-29 20:24:51,749 INFO sqlalchemy.engine.Engine COMMIT\n"
     ]
    },
    {
     "name": "stderr",
     "output_type": "stream",
     "text": [
      " 45%|████▌     | 10/22 [05:34<07:26, 37.19s/it]"
     ]
    },
    {
     "name": "stdout",
     "output_type": "stream",
     "text": [
      "Loop_id: 138, Result:['Pirmin', 'Aster'] ID:7\n",
      "2023-11-29 20:24:51,752 INFO sqlalchemy.engine.Engine BEGIN (implicit)\n",
      "2023-11-29 20:24:51,752 INFO sqlalchemy.engine.Engine SELECT file_path FROM video WHERE loop_id = %(loop_id)s AND device = 'rgbCam'\n",
      "2023-11-29 20:24:51,752 INFO sqlalchemy.engine.Engine [cached since 816.1s ago] {'loop_id': 139}\n",
      "Counter({'Pirmin_Aster': 192, 'Martin_Hofer': 63, 'Juergen_Zangerl': 3, 'Robert_Goller': 3, 'Suganthi_Manoharan': 3})\n",
      "2023-11-29 20:25:31,586 INFO sqlalchemy.engine.Engine SELECT users.id AS users_id, users.name AS users_name, users.surename AS users_surename \n",
      "FROM users \n",
      "WHERE users.name = %(name_1)s AND users.surename = %(surename_1)s \n",
      " LIMIT %(param_1)s\n",
      "2023-11-29 20:25:31,586 INFO sqlalchemy.engine.Engine [cached since 834.3s ago] {'name_1': 'Pirmin', 'surename_1': 'Aster', 'param_1': 1}\n",
      "2023-11-29 20:25:31,588 INFO sqlalchemy.engine.Engine SELECT loop.id AS loop_id, loop.timestamp AS loop_timestamp, loop.session_length AS loop_session_length, loop.location AS loop_location, loop.human_labeled AS loop_human_labeled, loop.user_id AS loop_user_id \n",
      "FROM loop \n",
      "WHERE loop.id = %(id_1)s \n",
      " LIMIT %(param_1)s\n",
      "2023-11-29 20:25:31,588 INFO sqlalchemy.engine.Engine [cached since 834.3s ago] {'id_1': 139, 'param_1': 1}\n",
      "2023-11-29 20:25:31,590 INFO sqlalchemy.engine.Engine UPDATE loop SET user_id=%(user_id)s WHERE loop.id = %(loop_id)s\n",
      "2023-11-29 20:25:31,590 INFO sqlalchemy.engine.Engine [cached since 834.3s ago] {'user_id': 7, 'loop_id': 139}\n",
      "2023-11-29 20:25:31,591 INFO sqlalchemy.engine.Engine COMMIT\n"
     ]
    },
    {
     "name": "stderr",
     "output_type": "stream",
     "text": [
      " 50%|█████     | 11/22 [06:14<06:58, 38.00s/it]"
     ]
    },
    {
     "name": "stdout",
     "output_type": "stream",
     "text": [
      "Loop_id: 139, Result:['Pirmin', 'Aster'] ID:7\n",
      "2023-11-29 20:25:31,592 INFO sqlalchemy.engine.Engine BEGIN (implicit)\n",
      "2023-11-29 20:25:31,594 INFO sqlalchemy.engine.Engine SELECT file_path FROM video WHERE loop_id = %(loop_id)s AND device = 'rgbCam'\n",
      "2023-11-29 20:25:31,594 INFO sqlalchemy.engine.Engine [cached since 856s ago] {'loop_id': 140}\n",
      "Counter({'Martin_Hofer': 196, 'Pirmin_Aster': 104, 'Suganthi_Manoharan': 15})\n",
      "2023-11-29 20:26:18,901 INFO sqlalchemy.engine.Engine SELECT users.id AS users_id, users.name AS users_name, users.surename AS users_surename \n",
      "FROM users \n",
      "WHERE users.name = %(name_1)s AND users.surename = %(surename_1)s \n",
      " LIMIT %(param_1)s\n",
      "2023-11-29 20:26:18,902 INFO sqlalchemy.engine.Engine [cached since 881.6s ago] {'name_1': 'Martin', 'surename_1': 'Hofer', 'param_1': 1}\n",
      "2023-11-29 20:26:18,903 INFO sqlalchemy.engine.Engine SELECT loop.id AS loop_id, loop.timestamp AS loop_timestamp, loop.session_length AS loop_session_length, loop.location AS loop_location, loop.human_labeled AS loop_human_labeled, loop.user_id AS loop_user_id \n",
      "FROM loop \n",
      "WHERE loop.id = %(id_1)s \n",
      " LIMIT %(param_1)s\n",
      "2023-11-29 20:26:18,905 INFO sqlalchemy.engine.Engine [cached since 881.6s ago] {'id_1': 140, 'param_1': 1}\n",
      "2023-11-29 20:26:18,906 INFO sqlalchemy.engine.Engine UPDATE loop SET user_id=%(user_id)s WHERE loop.id = %(loop_id)s\n",
      "2023-11-29 20:26:18,906 INFO sqlalchemy.engine.Engine [cached since 881.6s ago] {'user_id': 6, 'loop_id': 140}\n",
      "2023-11-29 20:26:18,907 INFO sqlalchemy.engine.Engine COMMIT\n"
     ]
    },
    {
     "name": "stderr",
     "output_type": "stream",
     "text": [
      " 55%|█████▍    | 12/22 [07:01<06:48, 40.84s/it]"
     ]
    },
    {
     "name": "stdout",
     "output_type": "stream",
     "text": [
      "Loop_id: 140, Result:['Martin', 'Hofer'] ID:6\n",
      "2023-11-29 20:26:18,909 INFO sqlalchemy.engine.Engine BEGIN (implicit)\n",
      "2023-11-29 20:26:18,909 INFO sqlalchemy.engine.Engine SELECT file_path FROM video WHERE loop_id = %(loop_id)s AND device = 'rgbCam'\n",
      "2023-11-29 20:26:18,910 INFO sqlalchemy.engine.Engine [cached since 903.3s ago] {'loop_id': 141}\n",
      "Counter({'Pirmin_Aster': 241, 'Martin_Hofer': 77, 'Juergen_Zangerl': 3, 'Robert_Goller': 3})\n",
      "2023-11-29 20:27:03,665 INFO sqlalchemy.engine.Engine SELECT users.id AS users_id, users.name AS users_name, users.surename AS users_surename \n",
      "FROM users \n",
      "WHERE users.name = %(name_1)s AND users.surename = %(surename_1)s \n",
      " LIMIT %(param_1)s\n",
      "2023-11-29 20:27:03,666 INFO sqlalchemy.engine.Engine [cached since 926.4s ago] {'name_1': 'Pirmin', 'surename_1': 'Aster', 'param_1': 1}\n",
      "2023-11-29 20:27:03,668 INFO sqlalchemy.engine.Engine SELECT loop.id AS loop_id, loop.timestamp AS loop_timestamp, loop.session_length AS loop_session_length, loop.location AS loop_location, loop.human_labeled AS loop_human_labeled, loop.user_id AS loop_user_id \n",
      "FROM loop \n",
      "WHERE loop.id = %(id_1)s \n",
      " LIMIT %(param_1)s\n",
      "2023-11-29 20:27:03,668 INFO sqlalchemy.engine.Engine [cached since 926.4s ago] {'id_1': 141, 'param_1': 1}\n",
      "2023-11-29 20:27:03,670 INFO sqlalchemy.engine.Engine UPDATE loop SET user_id=%(user_id)s WHERE loop.id = %(loop_id)s\n",
      "2023-11-29 20:27:03,671 INFO sqlalchemy.engine.Engine [cached since 926.4s ago] {'user_id': 7, 'loop_id': 141}\n",
      "2023-11-29 20:27:03,671 INFO sqlalchemy.engine.Engine COMMIT\n"
     ]
    },
    {
     "name": "stderr",
     "output_type": "stream",
     "text": [
      " 59%|█████▉    | 13/22 [07:46<06:18, 42.03s/it]"
     ]
    },
    {
     "name": "stdout",
     "output_type": "stream",
     "text": [
      "Loop_id: 141, Result:['Pirmin', 'Aster'] ID:7\n",
      "2023-11-29 20:27:03,673 INFO sqlalchemy.engine.Engine BEGIN (implicit)\n",
      "2023-11-29 20:27:03,673 INFO sqlalchemy.engine.Engine SELECT file_path FROM video WHERE loop_id = %(loop_id)s AND device = 'rgbCam'\n",
      "2023-11-29 20:27:03,674 INFO sqlalchemy.engine.Engine [cached since 948.1s ago] {'loop_id': 142}\n",
      "Counter({'Pirmin_Aster': 211, 'Martin_Hofer': 125, 'Suganthi_Manoharan': 3})\n",
      "2023-11-29 20:27:50,872 INFO sqlalchemy.engine.Engine SELECT users.id AS users_id, users.name AS users_name, users.surename AS users_surename \n",
      "FROM users \n",
      "WHERE users.name = %(name_1)s AND users.surename = %(surename_1)s \n",
      " LIMIT %(param_1)s\n",
      "2023-11-29 20:27:50,872 INFO sqlalchemy.engine.Engine [cached since 973.6s ago] {'name_1': 'Pirmin', 'surename_1': 'Aster', 'param_1': 1}\n",
      "2023-11-29 20:27:50,874 INFO sqlalchemy.engine.Engine SELECT loop.id AS loop_id, loop.timestamp AS loop_timestamp, loop.session_length AS loop_session_length, loop.location AS loop_location, loop.human_labeled AS loop_human_labeled, loop.user_id AS loop_user_id \n",
      "FROM loop \n",
      "WHERE loop.id = %(id_1)s \n",
      " LIMIT %(param_1)s\n",
      "2023-11-29 20:27:50,874 INFO sqlalchemy.engine.Engine [cached since 973.6s ago] {'id_1': 142, 'param_1': 1}\n",
      "2023-11-29 20:27:50,876 INFO sqlalchemy.engine.Engine UPDATE loop SET user_id=%(user_id)s WHERE loop.id = %(loop_id)s\n",
      "2023-11-29 20:27:50,876 INFO sqlalchemy.engine.Engine [cached since 973.6s ago] {'user_id': 7, 'loop_id': 142}\n",
      "2023-11-29 20:27:50,877 INFO sqlalchemy.engine.Engine COMMIT\n"
     ]
    },
    {
     "name": "stderr",
     "output_type": "stream",
     "text": [
      " 64%|██████▎   | 14/22 [08:33<05:48, 43.59s/it]"
     ]
    },
    {
     "name": "stdout",
     "output_type": "stream",
     "text": [
      "Loop_id: 142, Result:['Pirmin', 'Aster'] ID:7\n",
      "2023-11-29 20:27:50,879 INFO sqlalchemy.engine.Engine BEGIN (implicit)\n",
      "2023-11-29 20:27:50,879 INFO sqlalchemy.engine.Engine SELECT file_path FROM video WHERE loop_id = %(loop_id)s AND device = 'rgbCam'\n",
      "2023-11-29 20:27:50,880 INFO sqlalchemy.engine.Engine [cached since 995.3s ago] {'loop_id': 143}\n",
      "Counter({'Martin_Hofer': 406, 'Suganthi_Manoharan': 3})\n",
      "2023-11-29 20:28:49,516 INFO sqlalchemy.engine.Engine SELECT users.id AS users_id, users.name AS users_name, users.surename AS users_surename \n",
      "FROM users \n",
      "WHERE users.name = %(name_1)s AND users.surename = %(surename_1)s \n",
      " LIMIT %(param_1)s\n",
      "2023-11-29 20:28:49,517 INFO sqlalchemy.engine.Engine [cached since 1032s ago] {'name_1': 'Martin', 'surename_1': 'Hofer', 'param_1': 1}\n",
      "2023-11-29 20:28:49,519 INFO sqlalchemy.engine.Engine SELECT loop.id AS loop_id, loop.timestamp AS loop_timestamp, loop.session_length AS loop_session_length, loop.location AS loop_location, loop.human_labeled AS loop_human_labeled, loop.user_id AS loop_user_id \n",
      "FROM loop \n",
      "WHERE loop.id = %(id_1)s \n",
      " LIMIT %(param_1)s\n",
      "2023-11-29 20:28:49,519 INFO sqlalchemy.engine.Engine [cached since 1032s ago] {'id_1': 143, 'param_1': 1}\n",
      "2023-11-29 20:28:49,520 INFO sqlalchemy.engine.Engine UPDATE loop SET user_id=%(user_id)s WHERE loop.id = %(loop_id)s\n",
      "2023-11-29 20:28:49,521 INFO sqlalchemy.engine.Engine [cached since 1032s ago] {'user_id': 6, 'loop_id': 143}\n",
      "2023-11-29 20:28:49,522 INFO sqlalchemy.engine.Engine COMMIT\n"
     ]
    },
    {
     "name": "stderr",
     "output_type": "stream",
     "text": [
      " 68%|██████▊   | 15/22 [09:32<05:36, 48.13s/it]"
     ]
    },
    {
     "name": "stdout",
     "output_type": "stream",
     "text": [
      "Loop_id: 143, Result:['Martin', 'Hofer'] ID:6\n",
      "2023-11-29 20:28:49,524 INFO sqlalchemy.engine.Engine BEGIN (implicit)\n",
      "2023-11-29 20:28:49,525 INFO sqlalchemy.engine.Engine SELECT file_path FROM video WHERE loop_id = %(loop_id)s AND device = 'rgbCam'\n",
      "2023-11-29 20:28:49,526 INFO sqlalchemy.engine.Engine [cached since 1054s ago] {'loop_id': 144}\n",
      "Counter({'Pirmin_Aster': 141, 'Martin_Hofer': 24})\n",
      "2023-11-29 20:29:11,642 INFO sqlalchemy.engine.Engine SELECT users.id AS users_id, users.name AS users_name, users.surename AS users_surename \n",
      "FROM users \n",
      "WHERE users.name = %(name_1)s AND users.surename = %(surename_1)s \n",
      " LIMIT %(param_1)s\n",
      "2023-11-29 20:29:11,642 INFO sqlalchemy.engine.Engine [cached since 1054s ago] {'name_1': 'Pirmin', 'surename_1': 'Aster', 'param_1': 1}\n",
      "2023-11-29 20:29:11,644 INFO sqlalchemy.engine.Engine SELECT loop.id AS loop_id, loop.timestamp AS loop_timestamp, loop.session_length AS loop_session_length, loop.location AS loop_location, loop.human_labeled AS loop_human_labeled, loop.user_id AS loop_user_id \n",
      "FROM loop \n",
      "WHERE loop.id = %(id_1)s \n",
      " LIMIT %(param_1)s\n",
      "2023-11-29 20:29:11,644 INFO sqlalchemy.engine.Engine [cached since 1054s ago] {'id_1': 144, 'param_1': 1}\n",
      "2023-11-29 20:29:11,645 INFO sqlalchemy.engine.Engine UPDATE loop SET user_id=%(user_id)s WHERE loop.id = %(loop_id)s\n",
      "2023-11-29 20:29:11,646 INFO sqlalchemy.engine.Engine [cached since 1054s ago] {'user_id': 7, 'loop_id': 144}\n",
      "2023-11-29 20:29:11,647 INFO sqlalchemy.engine.Engine COMMIT\n"
     ]
    },
    {
     "name": "stderr",
     "output_type": "stream",
     "text": [
      " 73%|███████▎  | 16/22 [09:54<04:01, 40.30s/it]"
     ]
    },
    {
     "name": "stdout",
     "output_type": "stream",
     "text": [
      "Loop_id: 144, Result:['Pirmin', 'Aster'] ID:7\n",
      "2023-11-29 20:29:11,648 INFO sqlalchemy.engine.Engine BEGIN (implicit)\n",
      "2023-11-29 20:29:11,648 INFO sqlalchemy.engine.Engine SELECT file_path FROM video WHERE loop_id = %(loop_id)s AND device = 'rgbCam'\n",
      "2023-11-29 20:29:11,649 INFO sqlalchemy.engine.Engine [cached since 1076s ago] {'loop_id': 145}\n",
      "Counter({'Martin_Hofer': 279})\n",
      "2023-11-29 20:29:47,273 INFO sqlalchemy.engine.Engine SELECT users.id AS users_id, users.name AS users_name, users.surename AS users_surename \n",
      "FROM users \n",
      "WHERE users.name = %(name_1)s AND users.surename = %(surename_1)s \n",
      " LIMIT %(param_1)s\n",
      "2023-11-29 20:29:47,274 INFO sqlalchemy.engine.Engine [cached since 1090s ago] {'name_1': 'Martin', 'surename_1': 'Hofer', 'param_1': 1}\n",
      "2023-11-29 20:29:47,276 INFO sqlalchemy.engine.Engine SELECT loop.id AS loop_id, loop.timestamp AS loop_timestamp, loop.session_length AS loop_session_length, loop.location AS loop_location, loop.human_labeled AS loop_human_labeled, loop.user_id AS loop_user_id \n",
      "FROM loop \n",
      "WHERE loop.id = %(id_1)s \n",
      " LIMIT %(param_1)s\n",
      "2023-11-29 20:29:47,276 INFO sqlalchemy.engine.Engine [cached since 1090s ago] {'id_1': 145, 'param_1': 1}\n",
      "2023-11-29 20:29:47,277 INFO sqlalchemy.engine.Engine UPDATE loop SET user_id=%(user_id)s WHERE loop.id = %(loop_id)s\n",
      "2023-11-29 20:29:47,278 INFO sqlalchemy.engine.Engine [cached since 1090s ago] {'user_id': 6, 'loop_id': 145}\n",
      "2023-11-29 20:29:47,279 INFO sqlalchemy.engine.Engine COMMIT\n"
     ]
    },
    {
     "name": "stderr",
     "output_type": "stream",
     "text": [
      " 77%|███████▋  | 17/22 [10:30<03:14, 38.90s/it]"
     ]
    },
    {
     "name": "stdout",
     "output_type": "stream",
     "text": [
      "Loop_id: 145, Result:['Martin', 'Hofer'] ID:6\n",
      "2023-11-29 20:29:47,281 INFO sqlalchemy.engine.Engine BEGIN (implicit)\n",
      "2023-11-29 20:29:47,281 INFO sqlalchemy.engine.Engine SELECT file_path FROM video WHERE loop_id = %(loop_id)s AND device = 'rgbCam'\n",
      "2023-11-29 20:29:47,282 INFO sqlalchemy.engine.Engine [cached since 1112s ago] {'loop_id': 146}\n",
      "Counter({'Pirmin_Aster': 191, 'Martin_Hofer': 26, 'Juergen_Zangerl': 4})\n",
      "2023-11-29 20:30:18,454 INFO sqlalchemy.engine.Engine SELECT users.id AS users_id, users.name AS users_name, users.surename AS users_surename \n",
      "FROM users \n",
      "WHERE users.name = %(name_1)s AND users.surename = %(surename_1)s \n",
      " LIMIT %(param_1)s\n",
      "2023-11-29 20:30:18,455 INFO sqlalchemy.engine.Engine [cached since 1121s ago] {'name_1': 'Pirmin', 'surename_1': 'Aster', 'param_1': 1}\n",
      "2023-11-29 20:30:18,457 INFO sqlalchemy.engine.Engine SELECT loop.id AS loop_id, loop.timestamp AS loop_timestamp, loop.session_length AS loop_session_length, loop.location AS loop_location, loop.human_labeled AS loop_human_labeled, loop.user_id AS loop_user_id \n",
      "FROM loop \n",
      "WHERE loop.id = %(id_1)s \n",
      " LIMIT %(param_1)s\n",
      "2023-11-29 20:30:18,457 INFO sqlalchemy.engine.Engine [cached since 1121s ago] {'id_1': 146, 'param_1': 1}\n",
      "2023-11-29 20:30:18,458 INFO sqlalchemy.engine.Engine UPDATE loop SET user_id=%(user_id)s WHERE loop.id = %(loop_id)s\n",
      "2023-11-29 20:30:18,459 INFO sqlalchemy.engine.Engine [cached since 1121s ago] {'user_id': 7, 'loop_id': 146}\n",
      "2023-11-29 20:30:18,460 INFO sqlalchemy.engine.Engine COMMIT\n"
     ]
    },
    {
     "name": "stderr",
     "output_type": "stream",
     "text": [
      " 82%|████████▏ | 18/22 [11:01<02:26, 36.58s/it]"
     ]
    },
    {
     "name": "stdout",
     "output_type": "stream",
     "text": [
      "Loop_id: 146, Result:['Pirmin', 'Aster'] ID:7\n",
      "2023-11-29 20:30:18,462 INFO sqlalchemy.engine.Engine BEGIN (implicit)\n",
      "2023-11-29 20:30:18,462 INFO sqlalchemy.engine.Engine SELECT file_path FROM video WHERE loop_id = %(loop_id)s AND device = 'rgbCam'\n",
      "2023-11-29 20:30:18,463 INFO sqlalchemy.engine.Engine [cached since 1143s ago] {'loop_id': 147}\n",
      "Counter({'Martin_Hofer': 179, 'Suganthi_Manoharan': 1})\n",
      "2023-11-29 20:30:44,331 INFO sqlalchemy.engine.Engine SELECT users.id AS users_id, users.name AS users_name, users.surename AS users_surename \n",
      "FROM users \n",
      "WHERE users.name = %(name_1)s AND users.surename = %(surename_1)s \n",
      " LIMIT %(param_1)s\n",
      "2023-11-29 20:30:44,332 INFO sqlalchemy.engine.Engine [cached since 1147s ago] {'name_1': 'Martin', 'surename_1': 'Hofer', 'param_1': 1}\n",
      "2023-11-29 20:30:44,333 INFO sqlalchemy.engine.Engine SELECT loop.id AS loop_id, loop.timestamp AS loop_timestamp, loop.session_length AS loop_session_length, loop.location AS loop_location, loop.human_labeled AS loop_human_labeled, loop.user_id AS loop_user_id \n",
      "FROM loop \n",
      "WHERE loop.id = %(id_1)s \n",
      " LIMIT %(param_1)s\n",
      "2023-11-29 20:30:44,334 INFO sqlalchemy.engine.Engine [cached since 1147s ago] {'id_1': 147, 'param_1': 1}\n",
      "2023-11-29 20:30:44,336 INFO sqlalchemy.engine.Engine UPDATE loop SET user_id=%(user_id)s WHERE loop.id = %(loop_id)s\n",
      "2023-11-29 20:30:44,337 INFO sqlalchemy.engine.Engine [cached since 1147s ago] {'user_id': 6, 'loop_id': 147}\n",
      "2023-11-29 20:30:44,338 INFO sqlalchemy.engine.Engine COMMIT\n"
     ]
    },
    {
     "name": "stderr",
     "output_type": "stream",
     "text": [
      " 86%|████████▋ | 19/22 [11:27<01:40, 33.36s/it]"
     ]
    },
    {
     "name": "stdout",
     "output_type": "stream",
     "text": [
      "Loop_id: 147, Result:['Martin', 'Hofer'] ID:6\n",
      "2023-11-29 20:30:44,339 INFO sqlalchemy.engine.Engine BEGIN (implicit)\n",
      "2023-11-29 20:30:44,340 INFO sqlalchemy.engine.Engine SELECT file_path FROM video WHERE loop_id = %(loop_id)s AND device = 'rgbCam'\n",
      "2023-11-29 20:30:44,340 INFO sqlalchemy.engine.Engine [cached since 1169s ago] {'loop_id': 148}\n",
      "Counter({'Pirmin_Aster': 54, 'Martin_Hofer': 38, 'Robert_Goller': 2})\n",
      "2023-11-29 20:30:57,675 INFO sqlalchemy.engine.Engine SELECT users.id AS users_id, users.name AS users_name, users.surename AS users_surename \n",
      "FROM users \n",
      "WHERE users.name = %(name_1)s AND users.surename = %(surename_1)s \n",
      " LIMIT %(param_1)s\n",
      "2023-11-29 20:30:57,676 INFO sqlalchemy.engine.Engine [cached since 1160s ago] {'name_1': 'Pirmin', 'surename_1': 'Aster', 'param_1': 1}\n",
      "2023-11-29 20:30:57,678 INFO sqlalchemy.engine.Engine SELECT loop.id AS loop_id, loop.timestamp AS loop_timestamp, loop.session_length AS loop_session_length, loop.location AS loop_location, loop.human_labeled AS loop_human_labeled, loop.user_id AS loop_user_id \n",
      "FROM loop \n",
      "WHERE loop.id = %(id_1)s \n",
      " LIMIT %(param_1)s\n",
      "2023-11-29 20:30:57,678 INFO sqlalchemy.engine.Engine [cached since 1160s ago] {'id_1': 148, 'param_1': 1}\n",
      "2023-11-29 20:30:57,679 INFO sqlalchemy.engine.Engine UPDATE loop SET user_id=%(user_id)s WHERE loop.id = %(loop_id)s\n",
      "2023-11-29 20:30:57,680 INFO sqlalchemy.engine.Engine [cached since 1160s ago] {'user_id': 7, 'loop_id': 148}\n",
      "2023-11-29 20:30:57,681 INFO sqlalchemy.engine.Engine COMMIT\n"
     ]
    },
    {
     "name": "stderr",
     "output_type": "stream",
     "text": [
      " 91%|█████████ | 20/22 [11:40<00:54, 27.35s/it]"
     ]
    },
    {
     "name": "stdout",
     "output_type": "stream",
     "text": [
      "Loop_id: 148, Result:['Pirmin', 'Aster'] ID:7\n",
      "2023-11-29 20:30:57,682 INFO sqlalchemy.engine.Engine BEGIN (implicit)\n",
      "2023-11-29 20:30:57,684 INFO sqlalchemy.engine.Engine SELECT file_path FROM video WHERE loop_id = %(loop_id)s AND device = 'rgbCam'\n",
      "2023-11-29 20:30:57,684 INFO sqlalchemy.engine.Engine [cached since 1182s ago] {'loop_id': 149}\n",
      "Counter({'Pirmin_Aster': 65, 'Martin_Hofer': 5})\n",
      "2023-11-29 20:31:07,486 INFO sqlalchemy.engine.Engine SELECT users.id AS users_id, users.name AS users_name, users.surename AS users_surename \n",
      "FROM users \n",
      "WHERE users.name = %(name_1)s AND users.surename = %(surename_1)s \n",
      " LIMIT %(param_1)s\n",
      "2023-11-29 20:31:07,486 INFO sqlalchemy.engine.Engine [cached since 1170s ago] {'name_1': 'Pirmin', 'surename_1': 'Aster', 'param_1': 1}\n",
      "2023-11-29 20:31:07,488 INFO sqlalchemy.engine.Engine SELECT loop.id AS loop_id, loop.timestamp AS loop_timestamp, loop.session_length AS loop_session_length, loop.location AS loop_location, loop.human_labeled AS loop_human_labeled, loop.user_id AS loop_user_id \n",
      "FROM loop \n",
      "WHERE loop.id = %(id_1)s \n",
      " LIMIT %(param_1)s\n",
      "2023-11-29 20:31:07,489 INFO sqlalchemy.engine.Engine [cached since 1170s ago] {'id_1': 149, 'param_1': 1}\n",
      "2023-11-29 20:31:07,490 INFO sqlalchemy.engine.Engine UPDATE loop SET user_id=%(user_id)s WHERE loop.id = %(loop_id)s\n",
      "2023-11-29 20:31:07,491 INFO sqlalchemy.engine.Engine [cached since 1170s ago] {'user_id': 7, 'loop_id': 149}\n",
      "2023-11-29 20:31:07,492 INFO sqlalchemy.engine.Engine COMMIT\n"
     ]
    },
    {
     "name": "stderr",
     "output_type": "stream",
     "text": [
      " 95%|█████████▌| 21/22 [11:50<00:22, 22.09s/it]"
     ]
    },
    {
     "name": "stdout",
     "output_type": "stream",
     "text": [
      "Loop_id: 149, Result:['Pirmin', 'Aster'] ID:7\n",
      "2023-11-29 20:31:07,494 INFO sqlalchemy.engine.Engine BEGIN (implicit)\n",
      "2023-11-29 20:31:07,494 INFO sqlalchemy.engine.Engine SELECT file_path FROM video WHERE loop_id = %(loop_id)s AND device = 'rgbCam'\n",
      "2023-11-29 20:31:07,495 INFO sqlalchemy.engine.Engine [cached since 1192s ago] {'loop_id': 150}\n",
      "Counter({'Pirmin_Aster': 146, 'Juergen_Zangerl': 55, 'Martin_Hofer': 39, 'Suganthi_Manoharan': 3, 'Philipp_Egger': 1})\n",
      "2023-11-29 20:31:40,249 INFO sqlalchemy.engine.Engine SELECT users.id AS users_id, users.name AS users_name, users.surename AS users_surename \n",
      "FROM users \n",
      "WHERE users.name = %(name_1)s AND users.surename = %(surename_1)s \n",
      " LIMIT %(param_1)s\n",
      "2023-11-29 20:31:40,250 INFO sqlalchemy.engine.Engine [cached since 1203s ago] {'name_1': 'Pirmin', 'surename_1': 'Aster', 'param_1': 1}\n",
      "2023-11-29 20:31:40,252 INFO sqlalchemy.engine.Engine SELECT loop.id AS loop_id, loop.timestamp AS loop_timestamp, loop.session_length AS loop_session_length, loop.location AS loop_location, loop.human_labeled AS loop_human_labeled, loop.user_id AS loop_user_id \n",
      "FROM loop \n",
      "WHERE loop.id = %(id_1)s \n",
      " LIMIT %(param_1)s\n",
      "2023-11-29 20:31:40,252 INFO sqlalchemy.engine.Engine [cached since 1203s ago] {'id_1': 150, 'param_1': 1}\n",
      "2023-11-29 20:31:40,254 INFO sqlalchemy.engine.Engine UPDATE loop SET user_id=%(user_id)s WHERE loop.id = %(loop_id)s\n",
      "2023-11-29 20:31:40,254 INFO sqlalchemy.engine.Engine [cached since 1203s ago] {'user_id': 7, 'loop_id': 150}\n",
      "2023-11-29 20:31:40,255 INFO sqlalchemy.engine.Engine COMMIT\n"
     ]
    },
    {
     "name": "stderr",
     "output_type": "stream",
     "text": [
      "100%|██████████| 22/22 [12:23<00:00, 33.78s/it]"
     ]
    },
    {
     "name": "stdout",
     "output_type": "stream",
     "text": [
      "Loop_id: 150, Result:['Pirmin', 'Aster'] ID:7\n"
     ]
    },
    {
     "name": "stderr",
     "output_type": "stream",
     "text": [
      "\n"
     ]
    }
   ],
   "source": [
    "directory = \"tmp_person\"\n",
    "if not os.path.exists(directory):\n",
    "    os.makedirs(directory)\n",
    "\n",
    "for video_source_id in tqdm(unlabeled_loops):\n",
    "    video_source = toolcheck.get_filepath_by_loop_id(video_source_id)\n",
    "    video_to_image_converter(video_source, directory, True)\n",
    "    dataset = []\n",
    "    conf = []\n",
    "    \n",
    "    for filename in os.listdir(directory):\n",
    "        f = os.path.join(directory, filename)\n",
    "        predicted_class, confidence = checkImage(f, transfer_person_model, person_dataset, transforms_person)\n",
    "        conf.append(confidence)\n",
    "        dataset.append(predicted_class)\n",
    "    \n",
    "        os.remove(f)\n",
    "    os.rmdir(directory)\n",
    "    dataset_confidence = sum(conf) / len(conf)\n",
    "    print(Counter(dataset))\n",
    "    user_name = Counter(dataset).most_common()[0][0].split('_')\n",
    "    user_id = toolcheck.get_user_id_by_name(user_name[0],user_name[1])\n",
    "    toolcheck.set_user_id_loops(user_id,video_source_id )\n",
    "\n",
    "    print(f\"Loop_id: {video_source_id}, Result:{user_name} ID:{user_id}\")"
   ],
   "metadata": {
    "collapsed": false,
    "ExecuteTime": {
     "end_time": "2023-11-29T19:31:40.272933200Z",
     "start_time": "2023-11-29T19:19:17.063054700Z"
    }
   },
   "id": "41fdcf49ce82bc75"
  },
  {
   "cell_type": "code",
   "execution_count": null,
   "outputs": [],
   "source": [],
   "metadata": {
    "collapsed": false,
    "ExecuteTime": {
     "start_time": "2023-11-29T19:16:40.955837200Z"
    }
   },
   "id": "de6339ab55b0faf6"
  }
 ],
 "metadata": {
  "kernelspec": {
   "display_name": "Python 3",
   "language": "python",
   "name": "python3"
  },
  "language_info": {
   "codemirror_mode": {
    "name": "ipython",
    "version": 2
   },
   "file_extension": ".py",
   "mimetype": "text/x-python",
   "name": "python",
   "nbconvert_exporter": "python",
   "pygments_lexer": "ipython2",
   "version": "2.7.6"
  }
 },
 "nbformat": 4,
 "nbformat_minor": 5
}
