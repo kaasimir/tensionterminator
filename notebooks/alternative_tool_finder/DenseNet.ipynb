{
 "cells": [
  {
   "cell_type": "code",
   "execution_count": null,
   "id": "1dbd90e7-6966-40a2-a3fa-bacac485a8e4",
   "metadata": {},
   "outputs": [],
   "source": [
    "import torch\n",
    "import torch.nn as nn\n",
    "import torch.optim as optim\n",
    "import torch.utils.data\n",
    "import numpy as np\n",
    "import torchvision\n",
    "from torchvision import datasets, transforms, models\n",
    "from torchvision.models import DenseNet201_Weights\n",
    "from torch.optim.lr_scheduler import StepLR\n",
    "import time\n",
    "import matplotlib.pyplot as plt\n",
    "import torchvision.transforms as T\n",
    "from PIL import Image\n",
    "import os\n",
    "from os import path\n",
    "import datetime"
   ]
  },
  {
   "cell_type": "code",
   "execution_count": null,
   "id": "2a958c5d-b9c5-4fdb-a0ac-45cde4e2e00e",
   "metadata": {},
   "outputs": [],
   "source": [
    "print(torch.cuda.is_available())\n",
    "print(torch.__version__)"
   ]
  },
  {
   "cell_type": "code",
   "execution_count": null,
   "id": "e8976cbf-3d8a-4832-bb7e-b6e58584086e",
   "metadata": {},
   "outputs": [],
   "source": [
    "input_dataset = '12_11_2023_14_30_39'"
   ]
  },
  {
   "cell_type": "code",
   "execution_count": null,
   "id": "b4510674-749d-4ac7-a7f4-06f492f511ea",
   "metadata": {},
   "outputs": [],
   "source": [
    "def dataset_path(timestamp: str):\n",
    "    abs_path = os.getcwd()\n",
    "    two_up =  path.abspath(path.join(abs_path ,\"../..\"))\n",
    "    return path.join(two_up, 'data', f'{os.path.basename(abs_path)}', timestamp)"
   ]
  },
  {
   "cell_type": "code",
   "execution_count": null,
   "id": "0f2e52a4-0156-4ba0-89c8-771a3fd0ef81",
   "metadata": {},
   "outputs": [],
   "source": [
    "dataset_path(input_dataset)"
   ]
  },
  {
   "cell_type": "code",
   "execution_count": null,
   "id": "410c2506-ff14-478b-b7b1-d3449eeb9be0",
   "metadata": {},
   "outputs": [],
   "source": [
    "# Data transformations\n",
    "transforms_wt = transforms.Compose([\n",
    "    transforms.Resize(256),\n",
    "    transforms.CenterCrop(224),\n",
    "    transforms.ToTensor(),\n",
    "    transforms.Normalize([0.485, 0.456, 0.406], [0.229, 0.224, 0.225])\n",
    "])"
   ]
  },
  {
   "cell_type": "code",
   "execution_count": null,
   "id": "c0a8202d-bcdd-41bc-bc55-37269f5d45c9",
   "metadata": {},
   "outputs": [],
   "source": [
    "orig_set = datasets.ImageFolder(\n",
    "    root=dataset_path(input_dataset),\n",
    "    transform=transforms_wt\n",
    ")\n",
    "data, label = orig_set[100]\n",
    "transform_test = T.ToPILImage()\n",
    "plt.imshow(transform_test(data))"
   ]
  },
  {
   "cell_type": "code",
   "execution_count": null,
   "id": "4388e586-33c3-419f-ac95-d7de26721475",
   "metadata": {},
   "outputs": [],
   "source": [
    "orig_set.classes\n",
    "len(orig_set)"
   ]
  },
  {
   "cell_type": "code",
   "execution_count": null,
   "id": "b0d31b93-bb0c-4e36-ab22-a5c90a4fd260",
   "metadata": {},
   "outputs": [],
   "source": [
    "data, label = orig_set[0]\n",
    "print(data.size())"
   ]
  },
  {
   "cell_type": "code",
   "execution_count": null,
   "id": "df31ab87-4f30-46fa-a629-3c21f6c34b61",
   "metadata": {},
   "outputs": [],
   "source": [
    "import torch\n",
    "from torch.utils.data import random_split, DataLoader\n",
    "\n",
    "data_loader = DataLoader(orig_set, batch_size=len(orig_set), shuffle=True)\n",
    "\n",
    "# Define the dataset size\n",
    "dataset_size = len(orig_set)\n",
    "\n",
    "# Calculate the sizes for training, validation, and test sets\n",
    "train_size = int(0.6 * dataset_size)\n",
    "val_size = int(0.2 * dataset_size)\n",
    "test_size = dataset_size - train_size - val_size\n",
    "\n",
    "# Split the dataset into training, validation, and test sets\n",
    "train_set, val_set, test_set = random_split(orig_set, [train_size, val_size, test_size])"
   ]
  },
  {
   "cell_type": "code",
   "execution_count": null,
   "id": "e074fdd2-c8cd-43d7-aaec-92bd81a297d6",
   "metadata": {},
   "outputs": [],
   "source": [
    "val_data, val_label = val_set[1]\n",
    "print(val_data.size())"
   ]
  },
  {
   "cell_type": "code",
   "execution_count": null,
   "id": "d0a1cc7a-36ad-4f82-b44c-c3cfc8ec6236",
   "metadata": {},
   "outputs": [],
   "source": [
    "transform = T.ToPILImage()\n",
    "plt.imshow(transform(val_data))"
   ]
  },
  {
   "cell_type": "code",
   "execution_count": null,
   "id": "08a5767e-3b1a-459a-9eb2-5660d2c16a36",
   "metadata": {},
   "outputs": [],
   "source": [
    "train_loader = torch.utils.data.DataLoader(\n",
    "    train_set,\n",
    "    batch_size=8,\n",
    "    shuffle=True,\n",
    "    num_workers=16\n",
    ")"
   ]
  },
  {
   "cell_type": "code",
   "execution_count": null,
   "id": "0420a552-2ff4-47e4-b95c-b7b422b50050",
   "metadata": {},
   "outputs": [],
   "source": [
    "val_loader = torch.utils.data.DataLoader(\n",
    "    val_set,\n",
    "    batch_size=8,\n",
    "    shuffle=True,\n",
    "    num_workers=16\n",
    ")"
   ]
  },
  {
   "cell_type": "code",
   "execution_count": null,
   "id": "4cf59cef-3f7a-493d-80e4-b4b9beafb1c4",
   "metadata": {},
   "outputs": [],
   "source": [
    "test_loader = torch.utils.data.DataLoader(\n",
    "    test_set,\n",
    "    batch_size=8,\n",
    "    shuffle=True,\n",
    "    num_workers=16\n",
    ")"
   ]
  },
  {
   "cell_type": "code",
   "execution_count": null,
   "id": "65f97e2e-5a90-4da6-9638-04e9d5ba41c3",
   "metadata": {},
   "outputs": [],
   "source": [
    "# Load DenseNet model\n",
    "model = models.densenet201(weights=DenseNet201_Weights.IMAGENET1K_V1)  # You can choose a different variant if needed\n"
   ]
  },
  {
   "cell_type": "code",
   "execution_count": null,
   "id": "65e249e8-cd47-4c15-8149-d415c410da4c",
   "metadata": {},
   "outputs": [],
   "source": [
    "# Adjust classifier layers\n",
    "num_features = model.classifier.in_features\n",
    "model.classifier = nn.Sequential(\n",
    "    nn.Linear(num_features, 2048),\n",
    "    nn.ReLU(),\n",
    "    nn.Dropout(),\n",
    "    nn.Linear(2048, 1024),\n",
    "    nn.ReLU(),\n",
    "    nn.Dropout(),\n",
    "    nn.Linear(1024, 500),\n",
    "    nn.ReLU(),\n",
    "    nn.Dropout(),\n",
    "    nn.Linear(500, 2)\n",
    ")\n"
   ]
  },
  {
   "cell_type": "code",
   "execution_count": null,
   "id": "56cc5ae2-4a00-4048-8351-8921a5578653",
   "metadata": {},
   "outputs": [],
   "source": [
    "# Move the model to the appropriate device\n",
    "device = torch.device(\"cuda:0\" if torch.cuda.is_available() else \"cpu\")\n",
    "#device = \"cpu\"\n",
    "model = model.to(device)\n",
    "\n",
    "criterion = nn.CrossEntropyLoss()\n",
    "optimizer = optim.Adam(model.parameters(), lr=0.001)\n",
    "#optimizer = optim.SGD(model.parameters(), lr=0.01, momentum=0.9)\n",
    "exp_lr_scheduler = StepLR(optimizer, step_size=7, gamma=0.1)"
   ]
  },
  {
   "cell_type": "code",
   "execution_count": null,
   "id": "24f35f59-b891-4c21-8e3f-136cac07cfe7",
   "metadata": {},
   "outputs": [],
   "source": [
    "#usage of framework to train and document\n",
    "import sys\n",
    "sys.path.append(os.path.join(os.getcwd(), '../..'))\n",
    "\n",
    "from framework.framework import FrameworkLogger\n",
    "from framework.main_func import main_train_func\n",
    "\n",
    "input_args = [train_loader, val_loader, model, criterion, optimizer, exp_lr_scheduler, device]\n",
    "\n",
    "# Modell trainieren\n",
    "logger = FrameworkLogger(5, model, main_train_func, input_args, \"christina_pytorch\")\n",
    "logger.train_model_pyt()\n",
    "#logger.generate_statistics()\n"
   ]
  },
  {
   "cell_type": "code",
   "execution_count": null,
   "id": "ea111dc4-53d5-46c6-817d-7850036c69fd",
   "metadata": {},
   "outputs": [],
   "source": [
    "def get_time():\n",
    "    return datetime.datetime.now().strftime(\"%d_%m_%Y_%H_%M_%S\")"
   ]
  },
  {
   "cell_type": "code",
   "execution_count": null,
   "id": "a30114ce-1e30-44b2-be14-8ebc9527688d",
   "metadata": {},
   "outputs": [],
   "source": [
    "def model_save_path(timestamp: str):\n",
    "    abs_path = os.getcwd()\n",
    "    two_up =  path.abspath(path.join(abs_path ,\"../..\"))\n",
    "    return path.join(two_up, 'models', f'{os.path.basename(abs_path)}', timestamp, f'model_{get_time()}.pt')\n"
   ]
  },
  {
   "cell_type": "code",
   "execution_count": null,
   "id": "7e1442cb-43fe-4d33-8bdd-e90c4f443a02",
   "metadata": {},
   "outputs": [],
   "source": [
    "model_save_path(input_dataset)"
   ]
  },
  {
   "cell_type": "code",
   "execution_count": null,
   "id": "4c2551d2-5f4a-487b-9ab3-7549b3721897",
   "metadata": {},
   "outputs": [],
   "source": [
    "save_path = model_save_path(input_dataset)\n",
    "\n",
    "os.makedirs(os.path.dirname(save_path), exist_ok=True)\n",
    "\n",
    "torch.save(model.state_dict(), save_path)"
   ]
  },
  {
   "cell_type": "code",
   "execution_count": null,
   "id": "ba7c77e3-258a-44ec-b459-eb14268898ec",
   "metadata": {},
   "outputs": [],
   "source": [
    "# Test the model\n",
    "num_correct = 0.0\n",
    "for inputs, labels in test_loader:\n",
    "    model.eval()\n",
    "    inputs = inputs.to(device)\n",
    "    labels = labels.to(device)\n",
    "    predict_label = model(inputs)\n",
    "    _, predicted = torch.max(predict_label,1)\n",
    "    num_correct += (predicted == labels).float().sum()\n",
    "\n",
    "    accuracy = num_correct/(len(test_loader)*test_loader.batch_size)\n",
    "\n",
    "print(len(test_loader), test_loader.batch_size)\n",
    "print(\"Test Accuracy: {}\".format(accuracy))"
   ]
  },
  {
   "cell_type": "code",
   "execution_count": null,
   "id": "021f5166-8e7f-41f2-bb6f-8c904986bed7",
   "metadata": {},
   "outputs": [],
   "source": [
    "import matplotlib.pyplot as plt\n",
    "\n",
    "def imshow(inp, title=None):\n",
    "    inp = inp.numpy().transpose((1,2,0))\n",
    "    mean = np.array([0.485, 0.456, 0.406])\n",
    "    std = np.array([0.229, 0.224, 0.225])\n",
    "    inp = std * inp + mean\n",
    "    inp = np.clip(inp, 0, 1)\n",
    "    plt.imshow(inp)\n",
    "    if title is not None:\n",
    "        plt.title(title)\n",
    "    plt.show()\n",
    "\n",
    "def print_grid():\n",
    "    inputs, classes = next(iter(test_loader))\n",
    "    out = torchvision.utils.make_grid(inputs)\n",
    "    class_names = orig_set.classes\n",
    "\n",
    "    outputs = model(inputs.to(device))\n",
    "    _, preds = torch.max(outputs, 1)\n",
    "\n",
    "    imshow(out, title=[class_names[x] for x in preds])\n",
    "\n",
    "print_grid()"
   ]
  },
  {
   "cell_type": "code",
   "execution_count": null,
   "id": "39a885d7-0f4f-42c8-8175-1c6235c66ac6",
   "metadata": {},
   "outputs": [],
   "source": []
  },
  {
   "cell_type": "code",
   "execution_count": null,
   "id": "1051e85a-63c1-4242-8e4f-d73b2105db50",
   "metadata": {},
   "outputs": [],
   "source": []
  }
 ],
 "metadata": {
  "kernelspec": {
   "display_name": "Python 3 (ipykernel)",
   "language": "python",
   "name": "python3"
  },
  "language_info": {
   "codemirror_mode": {
    "name": "ipython",
    "version": 3
   },
   "file_extension": ".py",
   "mimetype": "text/x-python",
   "name": "python",
   "nbconvert_exporter": "python",
   "pygments_lexer": "ipython3",
   "version": "3.11.4"
  }
 },
 "nbformat": 4,
 "nbformat_minor": 5
}
