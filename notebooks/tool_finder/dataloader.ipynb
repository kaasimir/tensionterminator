{
 "cells": [
  {
   "cell_type": "code",
   "execution_count": 2,
   "metadata": {
    "ExecuteTime": {
     "end_time": "2023-11-10T21:38:04.406400400Z",
     "start_time": "2023-11-10T21:38:04.389350500Z"
    },
    "tags": []
   },
   "outputs": [],
   "source": [
    "import db_builder.db_handler as dbh\n",
    "import os\n",
    "import numpy as np\n",
    "import cv2\n",
    "from torchvision import transforms\n",
    "from tqdm import tqdm\n",
    "import datetime\n",
    "from os import path"
   ]
  },
  {
   "cell_type": "code",
   "execution_count": 6,
   "metadata": {
    "ExecuteTime": {
     "end_time": "2023-11-10T21:38:09.216040700Z",
     "start_time": "2023-11-10T21:38:04.397877700Z"
    },
    "collapsed": false,
    "jupyter": {
     "outputs_hidden": false
    },
    "tags": []
   },
   "outputs": [
    {
     "name": "stdin",
     "output_type": "stream",
     "text": [
      "Please enter DB pw DiBSE21\n"
     ]
    }
   ],
   "source": [
    "db_params = {\n",
    "    'user': 'postgres',\n",
    "    'password': input('Please enter DB pw'),  # enter your DB password\n",
    "    'host': 'localhost',  # 'localhost' or IP address\n",
    "    'port': '5432',  # '5432'\n",
    "    'database': 'test', #tensionTerminator\n",
    "}"
   ]
  },
  {
   "cell_type": "code",
   "execution_count": 7,
   "metadata": {
    "ExecuteTime": {
     "end_time": "2023-11-10T21:38:09.323363600Z",
     "start_time": "2023-11-10T21:38:09.145637400Z"
    },
    "collapsed": false,
    "jupyter": {
     "outputs_hidden": false
    },
    "tags": []
   },
   "outputs": [
    {
     "name": "stdout",
     "output_type": "stream",
     "text": [
      "Connected to PostgreSQL, DB: test\n",
      "2023-11-12 15:35:48,022 INFO sqlalchemy.engine.Engine select pg_catalog.version()\n",
      "2023-11-12 15:35:48,023 INFO sqlalchemy.engine.Engine [raw sql] {}\n",
      "2023-11-12 15:35:48,026 INFO sqlalchemy.engine.Engine select current_schema()\n",
      "2023-11-12 15:35:48,027 INFO sqlalchemy.engine.Engine [raw sql] {}\n",
      "2023-11-12 15:35:48,029 INFO sqlalchemy.engine.Engine show standard_conforming_strings\n",
      "2023-11-12 15:35:48,030 INFO sqlalchemy.engine.Engine [raw sql] {}\n",
      "2023-11-12 15:35:48,031 INFO sqlalchemy.engine.Engine BEGIN (implicit)\n",
      "2023-11-12 15:35:48,036 INFO sqlalchemy.engine.Engine SELECT loop.id AS loop_id, loop.timestamp AS loop_timestamp, loop.session_length AS loop_session_length, loop.location AS loop_location, loop.human_labeled AS loop_human_labeled, loop.user_id AS loop_user_id \n",
      "FROM loop JOIN tools_loop_association ON loop.id = tools_loop_association.loop_id \n",
      "WHERE loop.human_labeled = true AND tools_loop_association.tool_id = %(tool_id_1)s\n",
      "2023-11-12 15:35:48,037 INFO sqlalchemy.engine.Engine [generated in 0.00115s] {'tool_id_1': 1}\n",
      "2023-11-12 15:35:48,047 INFO sqlalchemy.engine.Engine SELECT video.id AS video_id, video.device AS video_device, video.file_path AS video_file_path, video.loop_id AS video_loop_id \n",
      "FROM video JOIN loop ON video.loop_id = loop.id \n",
      "WHERE video.device = %(device_1)s AND loop.id IN (%(id_1_1)s, %(id_1_2)s, %(id_1_3)s, %(id_1_4)s, %(id_1_5)s, %(id_1_6)s, %(id_1_7)s, %(id_1_8)s, %(id_1_9)s, %(id_1_10)s, %(id_1_11)s, %(id_1_12)s, %(id_1_13)s, %(id_1_14)s, %(id_1_15)s, %(id_1_16)s, %(id_1_17)s, %(id_1_18)s, %(id_1_19)s, %(id_1_20)s, %(id_1_21)s, %(id_1_22)s, %(id_1_23)s, %(id_1_24)s, %(id_1_25)s, %(id_1_26)s, %(id_1_27)s, %(id_1_28)s, %(id_1_29)s, %(id_1_30)s, %(id_1_31)s, %(id_1_32)s, %(id_1_33)s, %(id_1_34)s, %(id_1_35)s, %(id_1_36)s, %(id_1_37)s, %(id_1_38)s, %(id_1_39)s, %(id_1_40)s, %(id_1_41)s, %(id_1_42)s, %(id_1_43)s, %(id_1_44)s, %(id_1_45)s, %(id_1_46)s, %(id_1_47)s, %(id_1_48)s, %(id_1_49)s, %(id_1_50)s, %(id_1_51)s, %(id_1_52)s, %(id_1_53)s, %(id_1_54)s, %(id_1_55)s, %(id_1_56)s, %(id_1_57)s, %(id_1_58)s, %(id_1_59)s, %(id_1_60)s, %(id_1_61)s, %(id_1_62)s, %(id_1_63)s, %(id_1_64)s, %(id_1_65)s, %(id_1_66)s, %(id_1_67)s, %(id_1_68)s, %(id_1_69)s, %(id_1_70)s, %(id_1_71)s, %(id_1_72)s, %(id_1_73)s, %(id_1_74)s)\n",
      "2023-11-12 15:35:48,048 INFO sqlalchemy.engine.Engine [generated in 0.00161s] {'device_1': 'rgbCam', 'id_1_1': 1, 'id_1_2': 2, 'id_1_3': 3, 'id_1_4': 4, 'id_1_5': 5, 'id_1_6': 6, 'id_1_7': 7, 'id_1_8': 8, 'id_1_9': 9, 'id_1_10': 10, 'id_1_11': 11, 'id_1_12': 12, 'id_1_13': 13, 'id_1_14': 14, 'id_1_15': 15, 'id_1_16': 16, 'id_1_17': 17, 'id_1_18': 18, 'id_1_19': 19, 'id_1_20': 20, 'id_1_21': 21, 'id_1_22': 22, 'id_1_23': 23, 'id_1_24': 24, 'id_1_25': 25, 'id_1_26': 26, 'id_1_27': 27, 'id_1_28': 28, 'id_1_29': 29, 'id_1_30': 34, 'id_1_31': 35, 'id_1_32': 36, 'id_1_33': 37, 'id_1_34': 50, 'id_1_35': 51, 'id_1_36': 52, 'id_1_37': 53, 'id_1_38': 54, 'id_1_39': 55, 'id_1_40': 56, 'id_1_41': 57, 'id_1_42': 58, 'id_1_43': 59, 'id_1_44': 60, 'id_1_45': 61, 'id_1_46': 84, 'id_1_47': 85, 'id_1_48': 86, 'id_1_49': 87, 'id_1_50': 88, 'id_1_51': 89, 'id_1_52': 90, 'id_1_53': 91, 'id_1_54': 92, 'id_1_55': 93, 'id_1_56': 94, 'id_1_57': 95, 'id_1_58': 96, 'id_1_59': 97, 'id_1_60': 98, 'id_1_61': 99, 'id_1_62': 100, 'id_1_63': 101, 'id_1_64': 106, 'id_1_65': 107, 'id_1_66': 108, 'id_1_67': 111, 'id_1_68': 112, 'id_1_69': 113, 'id_1_70': 118, 'id_1_71': 119, 'id_1_72': 120, 'id_1_73': 127, 'id_1_74': 128}\n",
      "2023-11-12 15:35:48,056 INFO sqlalchemy.engine.Engine SELECT loop.id AS loop_id, loop.timestamp AS loop_timestamp, loop.session_length AS loop_session_length, loop.location AS loop_location, loop.human_labeled AS loop_human_labeled, loop.user_id AS loop_user_id \n",
      "FROM loop JOIN tools_loop_association ON loop.id = tools_loop_association.loop_id \n",
      "WHERE loop.human_labeled = true AND tools_loop_association.tool_id != %(tool_id_1)s\n",
      "2023-11-12 15:35:48,057 INFO sqlalchemy.engine.Engine [generated in 0.00084s] {'tool_id_1': 1}\n",
      "2023-11-12 15:35:48,059 INFO sqlalchemy.engine.Engine SELECT video.id AS video_id, video.device AS video_device, video.file_path AS video_file_path, video.loop_id AS video_loop_id \n",
      "FROM video JOIN loop ON video.loop_id = loop.id \n",
      "WHERE video.device = %(device_1)s AND loop.id IN (%(id_1_1)s, %(id_1_2)s, %(id_1_3)s, %(id_1_4)s, %(id_1_5)s, %(id_1_6)s, %(id_1_7)s, %(id_1_8)s, %(id_1_9)s, %(id_1_10)s, %(id_1_11)s, %(id_1_12)s, %(id_1_13)s, %(id_1_14)s, %(id_1_15)s, %(id_1_16)s, %(id_1_17)s, %(id_1_18)s, %(id_1_19)s, %(id_1_20)s, %(id_1_21)s, %(id_1_22)s, %(id_1_23)s, %(id_1_24)s, %(id_1_25)s, %(id_1_26)s, %(id_1_27)s, %(id_1_28)s, %(id_1_29)s, %(id_1_30)s, %(id_1_31)s, %(id_1_32)s, %(id_1_33)s, %(id_1_34)s, %(id_1_35)s, %(id_1_36)s, %(id_1_37)s, %(id_1_38)s, %(id_1_39)s, %(id_1_40)s, %(id_1_41)s, %(id_1_42)s, %(id_1_43)s, %(id_1_44)s, %(id_1_45)s, %(id_1_46)s, %(id_1_47)s, %(id_1_48)s, %(id_1_49)s, %(id_1_50)s, %(id_1_51)s, %(id_1_52)s, %(id_1_53)s, %(id_1_54)s)\n",
      "2023-11-12 15:35:48,060 INFO sqlalchemy.engine.Engine [cached since 0.01431s ago] {'device_1': 'rgbCam', 'id_1_1': 30, 'id_1_2': 31, 'id_1_3': 32, 'id_1_4': 33, 'id_1_5': 38, 'id_1_6': 39, 'id_1_7': 40, 'id_1_8': 41, 'id_1_9': 42, 'id_1_10': 43, 'id_1_11': 44, 'id_1_12': 45, 'id_1_13': 46, 'id_1_14': 47, 'id_1_15': 48, 'id_1_16': 49, 'id_1_17': 62, 'id_1_18': 63, 'id_1_19': 64, 'id_1_20': 65, 'id_1_21': 66, 'id_1_22': 67, 'id_1_23': 68, 'id_1_24': 69, 'id_1_25': 70, 'id_1_26': 71, 'id_1_27': 72, 'id_1_28': 73, 'id_1_29': 74, 'id_1_30': 75, 'id_1_31': 76, 'id_1_32': 77, 'id_1_33': 78, 'id_1_34': 79, 'id_1_35': 80, 'id_1_36': 81, 'id_1_37': 82, 'id_1_38': 83, 'id_1_39': 102, 'id_1_40': 103, 'id_1_41': 104, 'id_1_42': 105, 'id_1_43': 109, 'id_1_44': 110, 'id_1_45': 114, 'id_1_46': 115, 'id_1_47': 116, 'id_1_48': 117, 'id_1_49': 121, 'id_1_50': 122, 'id_1_51': 123, 'id_1_52': 124, 'id_1_53': 125, 'id_1_54': 126}\n",
      "2023-11-12 15:35:48,064 INFO sqlalchemy.engine.Engine ROLLBACK\n",
      "Connection to test closed\n"
     ]
    }
   ],
   "source": [
    "toolcheck = dbh.DB_Conn(db_params)\n",
    "toolcheck.connect()\n",
    "filepath_with_trigger = toolcheck.get_filepath_with_trigger()\n",
    "filepath_with_duoballs = toolcheck.get_filepath_with_duoballs()\n",
    "toolcheck.disconnect()"
   ]
  },
  {
   "cell_type": "code",
   "execution_count": 14,
   "metadata": {
    "ExecuteTime": {
     "end_time": "2023-11-10T21:38:09.323363600Z",
     "start_time": "2023-11-10T21:38:09.229713900Z"
    },
    "collapsed": false,
    "jupyter": {
     "outputs_hidden": false
    }
   },
   "outputs": [],
   "source": [
    "def trigger_crop(image):\n",
    "    crop_box = (400, 450, 550, 550)\n",
    "    cropped_image = transforms.functional.crop(image, *crop_box)\n",
    "    return cropped_image"
   ]
  },
  {
   "cell_type": "code",
   "execution_count": 15,
   "metadata": {
    "ExecuteTime": {
     "end_time": "2023-11-10T21:38:09.323363600Z",
     "start_time": "2023-11-10T21:38:09.237817800Z"
    },
    "collapsed": false,
    "jupyter": {
     "outputs_hidden": false
    }
   },
   "outputs": [],
   "source": [
    "def video_to_image_converter(source_path: str, output_path: str, crop=False):\n",
    "    vidcap = cv2.VideoCapture(source_path)\n",
    "    os.makedirs(output_path, exist_ok=True)\n",
    "    count = 0\n",
    "\n",
    "    total_frames = int(vidcap.get(cv2.CAP_PROP_FRAME_COUNT))\n",
    "    fps = int(vidcap.get(cv2.CAP_PROP_FPS))\n",
    "    fps = 1\n",
    "\n",
    "    while count < total_frames:\n",
    "        success, image = vidcap.read()\n",
    "\n",
    "        if count % int(fps) == 0:\n",
    "            if not image is None and not image.size == 0:\n",
    "                transform_test = transforms.ToPILImage()\n",
    "                image = transform_test(image)\n",
    "                if crop:\n",
    "                    image = trigger_crop(image)\n",
    "                image = np.asarray(image)\n",
    "                cv2.imwrite(f\"{output_path}/{count}.png\", image)  # save frame as PNG file\n",
    "\n",
    "        count += 1\n",
    "\n",
    "    vidcap.release()\n",
    "    cv2.destroyAllWindows()"
   ]
  },
  {
   "cell_type": "code",
   "execution_count": 16,
   "metadata": {
    "ExecuteTime": {
     "end_time": "2023-11-10T21:38:09.386517400Z",
     "start_time": "2023-11-10T21:38:09.242203600Z"
    },
    "collapsed": false,
    "jupyter": {
     "outputs_hidden": false
    }
   },
   "outputs": [],
   "source": [
    "def get_time():\n",
    "    return datetime.datetime.now().strftime(\"%d_%m_%Y_%H_%M_%S\")"
   ]
  },
  {
   "cell_type": "code",
   "execution_count": 17,
   "metadata": {
    "ExecuteTime": {
     "end_time": "2023-11-10T21:38:09.399103500Z",
     "start_time": "2023-11-10T21:38:09.249837700Z"
    },
    "collapsed": false,
    "jupyter": {
     "outputs_hidden": false
    }
   },
   "outputs": [],
   "source": [
    "def save_path(label: str, time):\n",
    "    abs_path = os.getcwd()\n",
    "    two_up =  path.abspath(path.join(abs_path ,\"../..\"))\n",
    "    return path.join(two_up, 'data', f'{os.path.basename(abs_path)}', f'{time}', label)"
   ]
  },
  {
   "cell_type": "code",
   "execution_count": 18,
   "metadata": {
    "ExecuteTime": {
     "end_time": "2023-11-10T21:38:09.400710900Z",
     "start_time": "2023-11-10T21:38:09.257736900Z"
    },
    "collapsed": false,
    "jupyter": {
     "outputs_hidden": false
    }
   },
   "outputs": [],
   "source": [
    "current_time = get_time()"
   ]
  },
  {
   "cell_type": "code",
   "execution_count": null,
   "metadata": {
    "ExecuteTime": {
     "start_time": "2023-11-10T21:38:09.262253900Z"
    },
    "collapsed": false,
    "is_executing": true,
    "jupyter": {
     "outputs_hidden": false
    }
   },
   "outputs": [
    {
     "name": "stderr",
     "output_type": "stream",
     "text": [
      " 12%|█▏        | 9/74 [22:44<2:06:10, 116.47s/it]"
     ]
    }
   ],
   "source": [
    "for x in tqdm(filepath_with_trigger):\n",
    "    video_to_image_converter(x, save_path('trigger', current_time), False)"
   ]
  },
  {
   "cell_type": "code",
   "execution_count": null,
   "metadata": {
    "collapsed": false,
    "is_executing": true,
    "jupyter": {
     "outputs_hidden": false
    }
   },
   "outputs": [],
   "source": [
    "for x in tqdm(filepath_with_duoballs):\n",
    "    video_to_image_converter(x, save_path('duoballs', current_time), False)"
   ]
  }
 ],
 "metadata": {
  "kernelspec": {
   "display_name": "Python 3 (ipykernel)",
   "language": "python",
   "name": "python3"
  },
  "language_info": {
   "codemirror_mode": {
    "name": "ipython",
    "version": 3
   },
   "file_extension": ".py",
   "mimetype": "text/x-python",
   "name": "python",
   "nbconvert_exporter": "python",
   "pygments_lexer": "ipython3",
   "version": "3.11.5"
  }
 },
 "nbformat": 4,
 "nbformat_minor": 4
}
