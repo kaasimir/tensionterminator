{
 "cells": [
  {
   "cell_type": "code",
   "execution_count": 8,
   "metadata": {
    "tags": [],
    "ExecuteTime": {
     "end_time": "2023-11-20T05:11:43.625498800Z",
     "start_time": "2023-11-20T05:11:43.602813Z"
    }
   },
   "outputs": [],
   "source": [
    "import os\n",
    "from os import path\n",
    "import sys\n",
    "sys.path.append(os.getcwd())\n",
    "sys.path.append(os.path.join(os.getcwd(), '../..'))\n",
    "\n",
    "import db_builder.db_handler as dbh\n",
    "\n",
    "import numpy as np\n",
    "import cv2\n",
    "from torchvision import transforms\n",
    "from tqdm import tqdm\n",
    "import datetime\n"
   ]
  },
  {
   "cell_type": "code",
   "execution_count": 9,
   "metadata": {
    "collapsed": false,
    "tags": [],
    "ExecuteTime": {
     "end_time": "2023-11-20T05:11:47.441097Z",
     "start_time": "2023-11-20T05:11:44.156485800Z"
    }
   },
   "outputs": [],
   "source": [
    "db_params = {\n",
    "    'user': 'postgres',\n",
    "    'password': input('Please enter DB pw'),  # enter your DB password\n",
    "    'host': 'localhost',  # 'localhost' or IP address\n",
    "    'port': '5432',  # '5432'\n",
    "    'database': 'ttdatabase', #tensionTerminator\n",
    "}"
   ]
  },
  {
   "cell_type": "code",
   "execution_count": 10,
   "metadata": {
    "collapsed": false,
    "tags": [],
    "ExecuteTime": {
     "end_time": "2023-11-20T05:11:49.013574Z",
     "start_time": "2023-11-20T05:11:48.908471700Z"
    }
   },
   "outputs": [
    {
     "name": "stdout",
     "output_type": "stream",
     "text": [
      "Connected to PostgreSQL, DB: ttdatabase\n",
      "2023-11-20 06:11:48,948 INFO sqlalchemy.engine.Engine select pg_catalog.version()\n",
      "2023-11-20 06:11:48,948 INFO sqlalchemy.engine.Engine [raw sql] {}\n",
      "2023-11-20 06:11:48,950 INFO sqlalchemy.engine.Engine select current_schema()\n",
      "2023-11-20 06:11:48,950 INFO sqlalchemy.engine.Engine [raw sql] {}\n",
      "2023-11-20 06:11:48,951 INFO sqlalchemy.engine.Engine show standard_conforming_strings\n",
      "2023-11-20 06:11:48,951 INFO sqlalchemy.engine.Engine [raw sql] {}\n",
      "2023-11-20 06:11:48,952 INFO sqlalchemy.engine.Engine BEGIN (implicit)\n",
      "2023-11-20 06:11:48,956 INFO sqlalchemy.engine.Engine SELECT loop.id AS loop_id, loop.timestamp AS loop_timestamp, loop.session_length AS loop_session_length, loop.location AS loop_location, loop.human_labeled AS loop_human_labeled, loop.user_id AS loop_user_id \n",
      "FROM loop JOIN tools_loop_association ON loop.id = tools_loop_association.loop_id \n",
      "WHERE loop.human_labeled = true AND tools_loop_association.tool_id = %(tool_id_1)s\n",
      "2023-11-20 06:11:48,956 INFO sqlalchemy.engine.Engine [generated in 0.00074s] {'tool_id_1': 1}\n",
      "[]\n",
      "2023-11-20 06:11:48,962 INFO sqlalchemy.engine.Engine SELECT video.id AS video_id, video.device AS video_device, video.file_path AS video_file_path, video.loop_id AS video_loop_id \n",
      "FROM video JOIN loop ON video.loop_id = loop.id \n",
      "WHERE video.device = %(device_1)s AND loop.id IN (NULL) AND (1 != 1)\n",
      "2023-11-20 06:11:48,963 INFO sqlalchemy.engine.Engine [generated in 0.00055s] {'device_1': 'rgbCam'}\n",
      "2023-11-20 06:11:48,966 INFO sqlalchemy.engine.Engine SELECT loop.id AS loop_id, loop.timestamp AS loop_timestamp, loop.session_length AS loop_session_length, loop.location AS loop_location, loop.human_labeled AS loop_human_labeled, loop.user_id AS loop_user_id \n",
      "FROM loop JOIN tools_loop_association ON loop.id = tools_loop_association.loop_id \n",
      "WHERE loop.human_labeled = true AND tools_loop_association.tool_id != %(tool_id_1)s\n",
      "2023-11-20 06:11:48,967 INFO sqlalchemy.engine.Engine [generated in 0.00055s] {'tool_id_1': 1}\n",
      "2023-11-20 06:11:48,969 INFO sqlalchemy.engine.Engine SELECT video.id AS video_id, video.device AS video_device, video.file_path AS video_file_path, video.loop_id AS video_loop_id \n",
      "FROM video JOIN loop ON video.loop_id = loop.id \n",
      "WHERE video.device = %(device_1)s AND loop.id IN (%(id_1_1)s, %(id_1_2)s, %(id_1_3)s, %(id_1_4)s, %(id_1_5)s, %(id_1_6)s, %(id_1_7)s, %(id_1_8)s, %(id_1_9)s, %(id_1_10)s, %(id_1_11)s, %(id_1_12)s, %(id_1_13)s, %(id_1_14)s, %(id_1_15)s, %(id_1_16)s, %(id_1_17)s, %(id_1_18)s, %(id_1_19)s, %(id_1_20)s, %(id_1_21)s, %(id_1_22)s, %(id_1_23)s, %(id_1_24)s, %(id_1_25)s, %(id_1_26)s, %(id_1_27)s, %(id_1_28)s, %(id_1_29)s, %(id_1_30)s, %(id_1_31)s, %(id_1_32)s, %(id_1_33)s, %(id_1_34)s, %(id_1_35)s, %(id_1_36)s, %(id_1_37)s, %(id_1_38)s, %(id_1_39)s, %(id_1_40)s, %(id_1_41)s, %(id_1_42)s, %(id_1_43)s, %(id_1_44)s, %(id_1_45)s, %(id_1_46)s, %(id_1_47)s, %(id_1_48)s, %(id_1_49)s, %(id_1_50)s, %(id_1_51)s, %(id_1_52)s, %(id_1_53)s, %(id_1_54)s, %(id_1_55)s, %(id_1_56)s, %(id_1_57)s, %(id_1_58)s, %(id_1_59)s, %(id_1_60)s, %(id_1_61)s, %(id_1_62)s, %(id_1_63)s, %(id_1_64)s, %(id_1_65)s, %(id_1_66)s, %(id_1_67)s, %(id_1_68)s, %(id_1_69)s, %(id_1_70)s, %(id_1_71)s, %(id_1_72)s, %(id_1_73)s, %(id_1_74)s, %(id_1_75)s, %(id_1_76)s, %(id_1_77)s, %(id_1_78)s, %(id_1_79)s, %(id_1_80)s, %(id_1_81)s, %(id_1_82)s, %(id_1_83)s, %(id_1_84)s, %(id_1_85)s, %(id_1_86)s, %(id_1_87)s, %(id_1_88)s, %(id_1_89)s, %(id_1_90)s, %(id_1_91)s, %(id_1_92)s, %(id_1_93)s, %(id_1_94)s, %(id_1_95)s, %(id_1_96)s, %(id_1_97)s, %(id_1_98)s, %(id_1_99)s, %(id_1_100)s, %(id_1_101)s, %(id_1_102)s, %(id_1_103)s, %(id_1_104)s, %(id_1_105)s, %(id_1_106)s, %(id_1_107)s, %(id_1_108)s, %(id_1_109)s, %(id_1_110)s, %(id_1_111)s, %(id_1_112)s, %(id_1_113)s, %(id_1_114)s, %(id_1_115)s, %(id_1_116)s, %(id_1_117)s, %(id_1_118)s, %(id_1_119)s, %(id_1_120)s, %(id_1_121)s, %(id_1_122)s, %(id_1_123)s, %(id_1_124)s, %(id_1_125)s, %(id_1_126)s, %(id_1_127)s, %(id_1_128)s)\n",
      "2023-11-20 06:11:48,969 INFO sqlalchemy.engine.Engine [cached since 0.007208s ago] {'device_1': 'rgbCam', 'id_1_1': 1, 'id_1_2': 2, 'id_1_3': 3, 'id_1_4': 4, 'id_1_5': 5, 'id_1_6': 6, 'id_1_7': 7, 'id_1_8': 8, 'id_1_9': 9, 'id_1_10': 10, 'id_1_11': 11, 'id_1_12': 12, 'id_1_13': 13, 'id_1_14': 14, 'id_1_15': 15, 'id_1_16': 16, 'id_1_17': 17, 'id_1_18': 18, 'id_1_19': 19, 'id_1_20': 20, 'id_1_21': 21, 'id_1_22': 22, 'id_1_23': 23, 'id_1_24': 24, 'id_1_25': 25, 'id_1_26': 26, 'id_1_27': 27, 'id_1_28': 28, 'id_1_29': 29, 'id_1_30': 30, 'id_1_31': 31, 'id_1_32': 32, 'id_1_33': 33, 'id_1_34': 34, 'id_1_35': 35, 'id_1_36': 36, 'id_1_37': 37, 'id_1_38': 38, 'id_1_39': 39, 'id_1_40': 40, 'id_1_41': 41, 'id_1_42': 42, 'id_1_43': 43, 'id_1_44': 44, 'id_1_45': 45, 'id_1_46': 46, 'id_1_47': 47, 'id_1_48': 48, 'id_1_49': 49 ... 29 parameters truncated ... 'id_1_79': 79, 'id_1_80': 80, 'id_1_81': 81, 'id_1_82': 82, 'id_1_83': 83, 'id_1_84': 84, 'id_1_85': 85, 'id_1_86': 86, 'id_1_87': 87, 'id_1_88': 88, 'id_1_89': 89, 'id_1_90': 90, 'id_1_91': 91, 'id_1_92': 92, 'id_1_93': 93, 'id_1_94': 94, 'id_1_95': 95, 'id_1_96': 96, 'id_1_97': 97, 'id_1_98': 98, 'id_1_99': 99, 'id_1_100': 100, 'id_1_101': 101, 'id_1_102': 102, 'id_1_103': 103, 'id_1_104': 104, 'id_1_105': 105, 'id_1_106': 106, 'id_1_107': 107, 'id_1_108': 108, 'id_1_109': 109, 'id_1_110': 110, 'id_1_111': 111, 'id_1_112': 112, 'id_1_113': 113, 'id_1_114': 114, 'id_1_115': 115, 'id_1_116': 116, 'id_1_117': 117, 'id_1_118': 118, 'id_1_119': 119, 'id_1_120': 120, 'id_1_121': 121, 'id_1_122': 122, 'id_1_123': 123, 'id_1_124': 124, 'id_1_125': 125, 'id_1_126': 126, 'id_1_127': 127, 'id_1_128': 128}\n",
      "2023-11-20 06:11:48,972 INFO sqlalchemy.engine.Engine ROLLBACK\n",
      "Connection to ttdatabase closed\n"
     ]
    }
   ],
   "source": [
    "toolcheck = dbh.DB_Conn(db_params)\n",
    "toolcheck.connect()\n",
    "filepath_with_trigger = toolcheck.get_filepath_with_trigger()\n",
    "filepath_with_duoballs = toolcheck.get_filepath_with_duoballs()\n",
    "toolcheck.disconnect()"
   ]
  },
  {
   "cell_type": "code",
   "execution_count": 11,
   "metadata": {
    "collapsed": false,
    "ExecuteTime": {
     "end_time": "2023-11-20T05:11:49.737077700Z",
     "start_time": "2023-11-20T05:11:49.718070Z"
    }
   },
   "outputs": [],
   "source": [
    "def trigger_crop(image):\n",
    "    crop_box = (400, 450, 550, 550)\n",
    "    cropped_image = transforms.functional.crop(image, *crop_box)\n",
    "    return cropped_image"
   ]
  },
  {
   "cell_type": "code",
   "execution_count": 12,
   "metadata": {
    "collapsed": false,
    "ExecuteTime": {
     "end_time": "2023-11-20T05:11:50.241443200Z",
     "start_time": "2023-11-20T05:11:50.225933200Z"
    }
   },
   "outputs": [],
   "source": [
    "def video_to_image_converter(source_path: str, output_path: str, crop=False):\n",
    "    vidcap = cv2.VideoCapture(source_path)\n",
    "    os.makedirs(output_path, exist_ok=True)\n",
    "    count = 0\n",
    "\n",
    "    total_frames = int(vidcap.get(cv2.CAP_PROP_FRAME_COUNT))\n",
    "    fps = int(vidcap.get(cv2.CAP_PROP_FPS))\n",
    "    fps = 1\n",
    "\n",
    "    while count < total_frames:\n",
    "        success, image = vidcap.read()\n",
    "\n",
    "        if count % int(fps) == 0:\n",
    "            if not image is None and not image.size == 0:\n",
    "                transform_test = transforms.ToPILImage()\n",
    "                image = transform_test(image)\n",
    "                if crop:\n",
    "                    image = trigger_crop(image)\n",
    "                image = np.asarray(image)\n",
    "                cv2.imwrite(f\"{output_path}/{count}.png\", image)  # save frame as PNG file\n",
    "\n",
    "        count += 1\n",
    "\n",
    "    vidcap.release()\n",
    "    cv2.destroyAllWindows()"
   ]
  },
  {
   "cell_type": "code",
   "execution_count": 13,
   "metadata": {
    "collapsed": false,
    "ExecuteTime": {
     "end_time": "2023-11-20T05:11:51.244715600Z",
     "start_time": "2023-11-20T05:11:51.233183500Z"
    }
   },
   "outputs": [],
   "source": [
    "def get_time():\n",
    "    return datetime.datetime.now().strftime(\"%d_%m_%Y_%H_%M_%S\")"
   ]
  },
  {
   "cell_type": "code",
   "execution_count": 14,
   "metadata": {
    "collapsed": false,
    "ExecuteTime": {
     "end_time": "2023-11-20T05:11:51.574159500Z",
     "start_time": "2023-11-20T05:11:51.561761700Z"
    }
   },
   "outputs": [],
   "source": [
    "def save_path(label: str, time):\n",
    "    abs_path = os.getcwd()\n",
    "    two_up =  path.abspath(path.join(abs_path ,\"../..\"))\n",
    "    return path.join(two_up, 'data', f'{os.path.basename(abs_path)}', f'{time}', label)"
   ]
  },
  {
   "cell_type": "code",
   "execution_count": 15,
   "metadata": {
    "collapsed": false,
    "ExecuteTime": {
     "end_time": "2023-11-20T05:11:52.052040400Z",
     "start_time": "2023-11-20T05:11:52.040136700Z"
    }
   },
   "outputs": [],
   "source": [
    "current_time = get_time()"
   ]
  },
  {
   "cell_type": "code",
   "execution_count": 16,
   "metadata": {
    "collapsed": false,
    "ExecuteTime": {
     "end_time": "2023-11-20T05:11:56.120281Z",
     "start_time": "2023-11-20T05:11:56.106076100Z"
    }
   },
   "outputs": [
    {
     "name": "stderr",
     "output_type": "stream",
     "text": [
      "0it [00:00, ?it/s]\n"
     ]
    }
   ],
   "source": [
    "for x in tqdm(filepath_with_trigger):\n",
    "    video_to_image_converter(x, save_path('trigger', current_time), False)"
   ]
  },
  {
   "cell_type": "code",
   "execution_count": 17,
   "metadata": {
    "collapsed": false,
    "ExecuteTime": {
     "end_time": "2023-11-20T05:12:20.263400600Z",
     "start_time": "2023-11-20T05:12:08.880694300Z"
    }
   },
   "outputs": [
    {
     "name": "stderr",
     "output_type": "stream",
     "text": [
      "  0%|          | 0/128 [00:11<?, ?it/s]\n"
     ]
    },
    {
     "ename": "KeyboardInterrupt",
     "evalue": "",
     "output_type": "error",
     "traceback": [
      "\u001B[1;31m---------------------------------------------------------------------------\u001B[0m",
      "\u001B[1;31mKeyboardInterrupt\u001B[0m                         Traceback (most recent call last)",
      "Cell \u001B[1;32mIn[17], line 2\u001B[0m\n\u001B[0;32m      1\u001B[0m \u001B[38;5;28;01mfor\u001B[39;00m x \u001B[38;5;129;01min\u001B[39;00m tqdm(filepath_with_duoballs):\n\u001B[1;32m----> 2\u001B[0m     \u001B[43mvideo_to_image_converter\u001B[49m\u001B[43m(\u001B[49m\u001B[43mx\u001B[49m\u001B[43m,\u001B[49m\u001B[43m \u001B[49m\u001B[43msave_path\u001B[49m\u001B[43m(\u001B[49m\u001B[38;5;124;43m'\u001B[39;49m\u001B[38;5;124;43mduoballs\u001B[39;49m\u001B[38;5;124;43m'\u001B[39;49m\u001B[43m,\u001B[49m\u001B[43m \u001B[49m\u001B[43mcurrent_time\u001B[49m\u001B[43m)\u001B[49m\u001B[43m,\u001B[49m\u001B[43m \u001B[49m\u001B[38;5;28;43;01mFalse\u001B[39;49;00m\u001B[43m)\u001B[49m\n",
      "Cell \u001B[1;32mIn[12], line 20\u001B[0m, in \u001B[0;36mvideo_to_image_converter\u001B[1;34m(source_path, output_path, crop)\u001B[0m\n\u001B[0;32m     18\u001B[0m                 image \u001B[38;5;241m=\u001B[39m trigger_crop(image)\n\u001B[0;32m     19\u001B[0m             image \u001B[38;5;241m=\u001B[39m np\u001B[38;5;241m.\u001B[39masarray(image)\n\u001B[1;32m---> 20\u001B[0m             \u001B[43mcv2\u001B[49m\u001B[38;5;241;43m.\u001B[39;49m\u001B[43mimwrite\u001B[49m\u001B[43m(\u001B[49m\u001B[38;5;124;43mf\u001B[39;49m\u001B[38;5;124;43m\"\u001B[39;49m\u001B[38;5;132;43;01m{\u001B[39;49;00m\u001B[43moutput_path\u001B[49m\u001B[38;5;132;43;01m}\u001B[39;49;00m\u001B[38;5;124;43m/\u001B[39;49m\u001B[38;5;132;43;01m{\u001B[39;49;00m\u001B[43mcount\u001B[49m\u001B[38;5;132;43;01m}\u001B[39;49;00m\u001B[38;5;124;43m.png\u001B[39;49m\u001B[38;5;124;43m\"\u001B[39;49m\u001B[43m,\u001B[49m\u001B[43m \u001B[49m\u001B[43mimage\u001B[49m\u001B[43m)\u001B[49m  \u001B[38;5;66;03m# save frame as PNG file\u001B[39;00m\n\u001B[0;32m     22\u001B[0m     count \u001B[38;5;241m+\u001B[39m\u001B[38;5;241m=\u001B[39m \u001B[38;5;241m1\u001B[39m\n\u001B[0;32m     24\u001B[0m vidcap\u001B[38;5;241m.\u001B[39mrelease()\n",
      "\u001B[1;31mKeyboardInterrupt\u001B[0m: "
     ]
    }
   ],
   "source": [
    "for x in tqdm(filepath_with_duoballs):\n",
    "    video_to_image_converter(x, save_path('duoballs', current_time), False)"
   ]
  },
  {
   "cell_type": "code",
   "execution_count": null,
   "outputs": [],
   "source": [],
   "metadata": {
    "collapsed": false
   }
  }
 ],
 "metadata": {
  "kernelspec": {
   "display_name": "Python 3 (ipykernel)",
   "language": "python",
   "name": "python3"
  },
  "language_info": {
   "codemirror_mode": {
    "name": "ipython",
    "version": 3
   },
   "file_extension": ".py",
   "mimetype": "text/x-python",
   "name": "python",
   "nbconvert_exporter": "python",
   "pygments_lexer": "ipython3",
   "version": "3.11.5"
  }
 },
 "nbformat": 4,
 "nbformat_minor": 4
}
