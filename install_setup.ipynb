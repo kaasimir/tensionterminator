{
 "cells": [
  {
   "cell_type": "markdown",
   "source": [
    "***Run this Notebook to install all the required lib's, bib's and extensions required to run this project***"
   ],
   "metadata": {
    "collapsed": false
   },
   "id": "f9435e4cfedd4de5"
  },
  {
   "cell_type": "code",
   "execution_count": 6,
   "outputs": [],
   "source": [
    "import os\n",
    "import subprocess\n",
    "import torch"
   ],
   "metadata": {
    "collapsed": false,
    "ExecuteTime": {
     "end_time": "2023-12-08T06:43:22.803786500Z",
     "start_time": "2023-12-08T06:43:22.701099Z"
    }
   },
   "id": "9106b431d8e6aa1b"
  },
  {
   "cell_type": "code",
   "execution_count": 7,
   "id": "initial_id",
   "metadata": {
    "collapsed": true,
    "ExecuteTime": {
     "end_time": "2023-12-08T06:43:23.884797900Z",
     "start_time": "2023-12-08T06:43:22.704614800Z"
    }
   },
   "outputs": [
    {
     "name": "stdout",
     "output_type": "stream",
     "text": [
      "Fri Dec  8 07:43:23 2023       \n",
      "+---------------------------------------------------------------------------------------+\n",
      "| NVIDIA-SMI 546.01                 Driver Version: 546.01       CUDA Version: 12.3     |\n",
      "|-----------------------------------------+----------------------+----------------------+\n",
      "| GPU  Name                     TCC/WDDM  | Bus-Id        Disp.A | Volatile Uncorr. ECC |\n",
      "| Fan  Temp   Perf          Pwr:Usage/Cap |         Memory-Usage | GPU-Util  Compute M. |\n",
      "|                                         |                      |               MIG M. |\n",
      "|=========================================+======================+======================|\n",
      "|   0  NVIDIA GeForce RTX 3050 ...  WDDM  | 00000000:01:00.0 Off |                  N/A |\n",
      "| N/A   51C    P0              15W /  65W |      0MiB /  4096MiB |      0%      Default |\n",
      "|                                         |                      |                  N/A |\n",
      "+-----------------------------------------+----------------------+----------------------+\n",
      "                                                                                         \n",
      "+---------------------------------------------------------------------------------------+\n",
      "| Processes:                                                                            |\n",
      "|  GPU   GI   CI        PID   Type   Process name                            GPU Memory |\n",
      "|        ID   ID                                                             Usage      |\n",
      "|=======================================================================================|\n",
      "|  No running processes found                                                           |\n",
      "+---------------------------------------------------------------------------------------+\n"
     ]
    }
   ],
   "source": [
    "!nvidia-smi"
   ]
  },
  {
   "cell_type": "code",
   "execution_count": 8,
   "outputs": [
    {
     "name": "stdout",
     "output_type": "stream",
     "text": [
      "nvcc: NVIDIA (R) Cuda compiler driver\n",
      "Copyright (c) 2005-2023 NVIDIA Corporation\n",
      "Built on Tue_Jul_11_03:10:21_Pacific_Daylight_Time_2023\n",
      "Cuda compilation tools, release 12.2, V12.2.128\n",
      "Build cuda_12.2.r12.2/compiler.33053471_0\n"
     ]
    }
   ],
   "source": [
    "!nvcc --version"
   ],
   "metadata": {
    "collapsed": false,
    "ExecuteTime": {
     "end_time": "2023-12-08T06:43:24.032816100Z",
     "start_time": "2023-12-08T06:43:23.885786900Z"
    }
   },
   "id": "f08d6665102b7c08"
  },
  {
   "cell_type": "code",
   "execution_count": 9,
   "outputs": [
    {
     "name": "stdout",
     "output_type": "stream",
     "text": [
      "2.1.0+cu121\n",
      "Name: torch\n",
      "Version: 2.1.0+cu121\n",
      "Summary: Tensors and Dynamic neural networks in Python with strong GPU acceleration\n",
      "Home-page: https://pytorch.org/\n",
      "Author: PyTorch Team\n",
      "Author-email: packages@pytorch.org\n",
      "License: BSD-3\n",
      "Location: C:\\Users\\Pirmin.000\\PycharmProjects\\IGP\\testvenv\\Lib\\site-packages\n",
      "Requires: filelock, fsspec, jinja2, networkx, sympy, typing-extensions\n",
      "Required-by: torchaudio, torchvision\n",
      "---\n",
      "Name: torchaudio\n",
      "Version: 2.1.0+cu121\n",
      "Summary: An audio package for PyTorch\n",
      "Home-page: https://github.com/pytorch/audio\n",
      "Author: Soumith Chintala, David Pollack, Sean Naren, Peter Goldsborough, Moto Hira, Caroline Chen, Jeff Hwang, Zhaoheng Ni, Xiaohui Zhang\n",
      "Author-email: soumith@pytorch.org\n",
      "License: \n",
      "Location: C:\\Users\\Pirmin.000\\PycharmProjects\\IGP\\testvenv\\Lib\\site-packages\n",
      "Requires: torch\n",
      "Required-by: \n",
      "---\n",
      "Name: torchvision\n",
      "Version: 0.16.0+cu121\n",
      "Summary: image and video datasets and models for torch deep learning\n",
      "Home-page: https://github.com/pytorch/vision\n",
      "Author: PyTorch Core Team\n",
      "Author-email: soumith@pytorch.org\n",
      "License: BSD\n",
      "Location: C:\\Users\\Pirmin.000\\PycharmProjects\\IGP\\testvenv\\Lib\\site-packages\n",
      "Requires: numpy, pillow, requests, torch\n",
      "Required-by: \n",
      "True\n"
     ]
    }
   ],
   "source": [
    "print(torch.__version__)\n",
    "!pip show torch torchaudio torchvision\n",
    "print(torch.cuda.is_available())"
   ],
   "metadata": {
    "collapsed": false,
    "ExecuteTime": {
     "end_time": "2023-12-08T06:43:27.980763700Z",
     "start_time": "2023-12-08T06:43:24.033810700Z"
    }
   },
   "id": "b28b3d98d15f3013"
  },
  {
   "cell_type": "markdown",
   "source": [],
   "metadata": {
    "collapsed": false
   },
   "id": "9ce28ee3388446f5"
  },
  {
   "cell_type": "markdown",
   "source": [
    "After installation and setup of this Notebook, install postgres and run the DB exe to create the DB with the videofiles"
   ],
   "metadata": {
    "collapsed": false
   },
   "id": "6cbcdb190fec88e0"
  },
  {
   "cell_type": "code",
   "execution_count": 11,
   "outputs": [
    {
     "name": "stdout",
     "output_type": "stream",
     "text": [
      "Requirement already satisfied: absl-py==2.0.0 in c:\\users\\pirmin.000\\pycharmprojects\\igp\\testvenv\\lib\\site-packages (from -r C:\\Users\\Pirmin.000\\PycharmProjects\\IGP\\requirements.txt (line 1)) (2.0.0)\n",
      "Requirement already satisfied: altgraph==0.17.4 in c:\\users\\pirmin.000\\pycharmprojects\\igp\\testvenv\\lib\\site-packages (from -r C:\\Users\\Pirmin.000\\PycharmProjects\\IGP\\requirements.txt (line 2)) (0.17.4)\n",
      "Requirement already satisfied: anyio==4.0.0 in c:\\users\\pirmin.000\\pycharmprojects\\igp\\testvenv\\lib\\site-packages (from -r C:\\Users\\Pirmin.000\\PycharmProjects\\IGP\\requirements.txt (line 3)) (4.0.0)\n",
      "Requirement already satisfied: argon2-cffi==23.1.0 in c:\\users\\pirmin.000\\pycharmprojects\\igp\\testvenv\\lib\\site-packages (from -r C:\\Users\\Pirmin.000\\PycharmProjects\\IGP\\requirements.txt (line 4)) (23.1.0)\n",
      "Requirement already satisfied: argon2-cffi-bindings==21.2.0 in c:\\users\\pirmin.000\\pycharmprojects\\igp\\testvenv\\lib\\site-packages (from -r C:\\Users\\Pirmin.000\\PycharmProjects\\IGP\\requirements.txt (line 5)) (21.2.0)\n",
      "Requirement already satisfied: arrow==1.3.0 in c:\\users\\pirmin.000\\pycharmprojects\\igp\\testvenv\\lib\\site-packages (from -r C:\\Users\\Pirmin.000\\PycharmProjects\\IGP\\requirements.txt (line 6)) (1.3.0)\n",
      "Requirement already satisfied: asttokens==2.4.1 in c:\\users\\pirmin.000\\pycharmprojects\\igp\\testvenv\\lib\\site-packages (from -r C:\\Users\\Pirmin.000\\PycharmProjects\\IGP\\requirements.txt (line 7)) (2.4.1)\n",
      "Requirement already satisfied: astunparse==1.6.3 in c:\\users\\pirmin.000\\pycharmprojects\\igp\\testvenv\\lib\\site-packages (from -r C:\\Users\\Pirmin.000\\PycharmProjects\\IGP\\requirements.txt (line 8)) (1.6.3)\n",
      "Requirement already satisfied: async-lru==2.0.4 in c:\\users\\pirmin.000\\pycharmprojects\\igp\\testvenv\\lib\\site-packages (from -r C:\\Users\\Pirmin.000\\PycharmProjects\\IGP\\requirements.txt (line 9)) (2.0.4)\n",
      "Requirement already satisfied: attrs==23.1.0 in c:\\users\\pirmin.000\\pycharmprojects\\igp\\testvenv\\lib\\site-packages (from -r C:\\Users\\Pirmin.000\\PycharmProjects\\IGP\\requirements.txt (line 10)) (23.1.0)\n",
      "Requirement already satisfied: Babel==2.13.1 in c:\\users\\pirmin.000\\pycharmprojects\\igp\\testvenv\\lib\\site-packages (from -r C:\\Users\\Pirmin.000\\PycharmProjects\\IGP\\requirements.txt (line 11)) (2.13.1)\n",
      "Requirement already satisfied: backcall==0.2.0 in c:\\python311\\lib\\site-packages (from -r C:\\Users\\Pirmin.000\\PycharmProjects\\IGP\\requirements.txt (line 12)) (0.2.0)\n",
      "Requirement already satisfied: beautifulsoup4==4.12.2 in c:\\users\\pirmin.000\\pycharmprojects\\igp\\testvenv\\lib\\site-packages (from -r C:\\Users\\Pirmin.000\\PycharmProjects\\IGP\\requirements.txt (line 13)) (4.12.2)\n",
      "Requirement already satisfied: bleach==6.1.0 in c:\\users\\pirmin.000\\pycharmprojects\\igp\\testvenv\\lib\\site-packages (from -r C:\\Users\\Pirmin.000\\PycharmProjects\\IGP\\requirements.txt (line 14)) (6.1.0)\n",
      "Requirement already satisfied: cachetools==5.3.2 in c:\\users\\pirmin.000\\pycharmprojects\\igp\\testvenv\\lib\\site-packages (from -r C:\\Users\\Pirmin.000\\PycharmProjects\\IGP\\requirements.txt (line 15)) (5.3.2)\n",
      "Requirement already satisfied: certifi==2022.12.7 in c:\\users\\pirmin.000\\pycharmprojects\\igp\\testvenv\\lib\\site-packages (from -r C:\\Users\\Pirmin.000\\PycharmProjects\\IGP\\requirements.txt (line 16)) (2022.12.7)\n",
      "Requirement already satisfied: cffi==1.16.0 in c:\\users\\pirmin.000\\pycharmprojects\\igp\\testvenv\\lib\\site-packages (from -r C:\\Users\\Pirmin.000\\PycharmProjects\\IGP\\requirements.txt (line 17)) (1.16.0)\n",
      "Requirement already satisfied: charset-normalizer==2.1.1 in c:\\users\\pirmin.000\\pycharmprojects\\igp\\testvenv\\lib\\site-packages (from -r C:\\Users\\Pirmin.000\\PycharmProjects\\IGP\\requirements.txt (line 18)) (2.1.1)\n",
      "Requirement already satisfied: colorama==0.4.6 in c:\\users\\pirmin.000\\pycharmprojects\\igp\\testvenv\\lib\\site-packages (from -r C:\\Users\\Pirmin.000\\PycharmProjects\\IGP\\requirements.txt (line 19)) (0.4.6)\n",
      "Requirement already satisfied: comm==0.2.0 in c:\\users\\pirmin.000\\pycharmprojects\\igp\\testvenv\\lib\\site-packages (from -r C:\\Users\\Pirmin.000\\PycharmProjects\\IGP\\requirements.txt (line 20)) (0.2.0)\n",
      "Requirement already satisfied: contourpy==1.2.0 in c:\\users\\pirmin.000\\pycharmprojects\\igp\\testvenv\\lib\\site-packages (from -r C:\\Users\\Pirmin.000\\PycharmProjects\\IGP\\requirements.txt (line 21)) (1.2.0)\n",
      "Requirement already satisfied: cycler==0.12.1 in c:\\users\\pirmin.000\\pycharmprojects\\igp\\testvenv\\lib\\site-packages (from -r C:\\Users\\Pirmin.000\\PycharmProjects\\IGP\\requirements.txt (line 22)) (0.12.1)\n",
      "Requirement already satisfied: debugpy==1.8.0 in c:\\users\\pirmin.000\\pycharmprojects\\igp\\testvenv\\lib\\site-packages (from -r C:\\Users\\Pirmin.000\\PycharmProjects\\IGP\\requirements.txt (line 23)) (1.8.0)\n",
      "Requirement already satisfied: decorator==4.4.2 in c:\\users\\pirmin.000\\pycharmprojects\\igp\\testvenv\\lib\\site-packages (from -r C:\\Users\\Pirmin.000\\PycharmProjects\\IGP\\requirements.txt (line 24)) (4.4.2)\n",
      "Requirement already satisfied: defusedxml==0.7.1 in c:\\users\\pirmin.000\\pycharmprojects\\igp\\testvenv\\lib\\site-packages (from -r C:\\Users\\Pirmin.000\\PycharmProjects\\IGP\\requirements.txt (line 25)) (0.7.1)\n",
      "Requirement already satisfied: exceptiongroup==1.1.3 in c:\\users\\pirmin.000\\pycharmprojects\\igp\\testvenv\\lib\\site-packages (from -r C:\\Users\\Pirmin.000\\PycharmProjects\\IGP\\requirements.txt (line 26)) (1.1.3)\n",
      "Requirement already satisfied: executing==2.0.1 in c:\\users\\pirmin.000\\pycharmprojects\\igp\\testvenv\\lib\\site-packages (from -r C:\\Users\\Pirmin.000\\PycharmProjects\\IGP\\requirements.txt (line 27)) (2.0.1)\n",
      "Requirement already satisfied: fastjsonschema==2.18.1 in c:\\users\\pirmin.000\\pycharmprojects\\igp\\testvenv\\lib\\site-packages (from -r C:\\Users\\Pirmin.000\\PycharmProjects\\IGP\\requirements.txt (line 28)) (2.18.1)\n",
      "Requirement already satisfied: filelock==3.9.0 in c:\\users\\pirmin.000\\pycharmprojects\\igp\\testvenv\\lib\\site-packages (from -r C:\\Users\\Pirmin.000\\PycharmProjects\\IGP\\requirements.txt (line 29)) (3.9.0)\n",
      "Requirement already satisfied: flatbuffers==23.5.26 in c:\\users\\pirmin.000\\pycharmprojects\\igp\\testvenv\\lib\\site-packages (from -r C:\\Users\\Pirmin.000\\PycharmProjects\\IGP\\requirements.txt (line 30)) (23.5.26)\n",
      "Requirement already satisfied: fonttools==4.44.0 in c:\\users\\pirmin.000\\pycharmprojects\\igp\\testvenv\\lib\\site-packages (from -r C:\\Users\\Pirmin.000\\PycharmProjects\\IGP\\requirements.txt (line 31)) (4.44.0)\n",
      "Requirement already satisfied: fpdf==1.7.2 in c:\\users\\pirmin.000\\pycharmprojects\\igp\\testvenv\\lib\\site-packages (from -r C:\\Users\\Pirmin.000\\PycharmProjects\\IGP\\requirements.txt (line 32)) (1.7.2)\n",
      "Requirement already satisfied: fqdn==1.5.1 in c:\\users\\pirmin.000\\pycharmprojects\\igp\\testvenv\\lib\\site-packages (from -r C:\\Users\\Pirmin.000\\PycharmProjects\\IGP\\requirements.txt (line 33)) (1.5.1)\n",
      "Requirement already satisfied: fsspec==2023.4.0 in c:\\users\\pirmin.000\\pycharmprojects\\igp\\testvenv\\lib\\site-packages (from -r C:\\Users\\Pirmin.000\\PycharmProjects\\IGP\\requirements.txt (line 34)) (2023.4.0)\n",
      "Requirement already satisfied: gast==0.5.4 in c:\\users\\pirmin.000\\pycharmprojects\\igp\\testvenv\\lib\\site-packages (from -r C:\\Users\\Pirmin.000\\PycharmProjects\\IGP\\requirements.txt (line 35)) (0.5.4)\n",
      "Requirement already satisfied: google-auth==2.25.1 in c:\\users\\pirmin.000\\pycharmprojects\\igp\\testvenv\\lib\\site-packages (from -r C:\\Users\\Pirmin.000\\PycharmProjects\\IGP\\requirements.txt (line 36)) (2.25.1)\n",
      "Requirement already satisfied: google-auth-oauthlib==1.1.0 in c:\\users\\pirmin.000\\pycharmprojects\\igp\\testvenv\\lib\\site-packages (from -r C:\\Users\\Pirmin.000\\PycharmProjects\\IGP\\requirements.txt (line 37)) (1.1.0)\n",
      "Requirement already satisfied: google-pasta==0.2.0 in c:\\users\\pirmin.000\\pycharmprojects\\igp\\testvenv\\lib\\site-packages (from -r C:\\Users\\Pirmin.000\\PycharmProjects\\IGP\\requirements.txt (line 38)) (0.2.0)\n",
      "Requirement already satisfied: greenlet==3.0.1 in c:\\users\\pirmin.000\\pycharmprojects\\igp\\testvenv\\lib\\site-packages (from -r C:\\Users\\Pirmin.000\\PycharmProjects\\IGP\\requirements.txt (line 39)) (3.0.1)\n",
      "Requirement already satisfied: grpcio==1.60.0 in c:\\users\\pirmin.000\\pycharmprojects\\igp\\testvenv\\lib\\site-packages (from -r C:\\Users\\Pirmin.000\\PycharmProjects\\IGP\\requirements.txt (line 40)) (1.60.0)\n",
      "Requirement already satisfied: h5py==3.10.0 in c:\\users\\pirmin.000\\pycharmprojects\\igp\\testvenv\\lib\\site-packages (from -r C:\\Users\\Pirmin.000\\PycharmProjects\\IGP\\requirements.txt (line 41)) (3.10.0)\n",
      "Requirement already satisfied: idna==3.4 in c:\\users\\pirmin.000\\pycharmprojects\\igp\\testvenv\\lib\\site-packages (from -r C:\\Users\\Pirmin.000\\PycharmProjects\\IGP\\requirements.txt (line 42)) (3.4)\n",
      "Requirement already satisfied: imageio==2.32.0 in c:\\users\\pirmin.000\\pycharmprojects\\igp\\testvenv\\lib\\site-packages (from -r C:\\Users\\Pirmin.000\\PycharmProjects\\IGP\\requirements.txt (line 43)) (2.32.0)\n",
      "Requirement already satisfied: imageio-ffmpeg==0.4.9 in c:\\users\\pirmin.000\\pycharmprojects\\igp\\testvenv\\lib\\site-packages (from -r C:\\Users\\Pirmin.000\\PycharmProjects\\IGP\\requirements.txt (line 44)) (0.4.9)\n",
      "Requirement already satisfied: importlib-metadata==6.8.0 in c:\\users\\pirmin.000\\pycharmprojects\\igp\\testvenv\\lib\\site-packages (from -r C:\\Users\\Pirmin.000\\PycharmProjects\\IGP\\requirements.txt (line 45)) (6.8.0)\n",
      "Requirement already satisfied: importlib-resources==6.1.1 in c:\\users\\pirmin.000\\pycharmprojects\\igp\\testvenv\\lib\\site-packages (from -r C:\\Users\\Pirmin.000\\PycharmProjects\\IGP\\requirements.txt (line 46)) (6.1.1)\n",
      "Requirement already satisfied: ipykernel==6.26.0 in c:\\users\\pirmin.000\\pycharmprojects\\igp\\testvenv\\lib\\site-packages (from -r C:\\Users\\Pirmin.000\\PycharmProjects\\IGP\\requirements.txt (line 47)) (6.26.0)\n",
      "Requirement already satisfied: ipython==8.17.2 in c:\\users\\pirmin.000\\pycharmprojects\\igp\\testvenv\\lib\\site-packages (from -r C:\\Users\\Pirmin.000\\PycharmProjects\\IGP\\requirements.txt (line 48)) (8.17.2)\n",
      "Requirement already satisfied: ipython-genutils==0.2.0 in c:\\python311\\lib\\site-packages (from -r C:\\Users\\Pirmin.000\\PycharmProjects\\IGP\\requirements.txt (line 49)) (0.2.0)\n",
      "Requirement already satisfied: ipywidgets==8.1.1 in c:\\users\\pirmin.000\\pycharmprojects\\igp\\testvenv\\lib\\site-packages (from -r C:\\Users\\Pirmin.000\\PycharmProjects\\IGP\\requirements.txt (line 50)) (8.1.1)\n",
      "Requirement already satisfied: isoduration==20.11.0 in c:\\users\\pirmin.000\\pycharmprojects\\igp\\testvenv\\lib\\site-packages (from -r C:\\Users\\Pirmin.000\\PycharmProjects\\IGP\\requirements.txt (line 51)) (20.11.0)\n",
      "Requirement already satisfied: jedi==0.19.1 in c:\\users\\pirmin.000\\pycharmprojects\\igp\\testvenv\\lib\\site-packages (from -r C:\\Users\\Pirmin.000\\PycharmProjects\\IGP\\requirements.txt (line 52)) (0.19.1)\n",
      "Requirement already satisfied: Jinja2==3.1.2 in c:\\users\\pirmin.000\\pycharmprojects\\igp\\testvenv\\lib\\site-packages (from -r C:\\Users\\Pirmin.000\\PycharmProjects\\IGP\\requirements.txt (line 53)) (3.1.2)\n",
      "Requirement already satisfied: joblib==1.3.1 in c:\\python311\\lib\\site-packages (from -r C:\\Users\\Pirmin.000\\PycharmProjects\\IGP\\requirements.txt (line 54)) (1.3.1)\n",
      "Requirement already satisfied: json5==0.9.14 in c:\\python311\\lib\\site-packages (from -r C:\\Users\\Pirmin.000\\PycharmProjects\\IGP\\requirements.txt (line 55)) (0.9.14)\n",
      "Requirement already satisfied: jsonpointer==2.4 in c:\\users\\pirmin.000\\pycharmprojects\\igp\\testvenv\\lib\\site-packages (from -r C:\\Users\\Pirmin.000\\PycharmProjects\\IGP\\requirements.txt (line 56)) (2.4)\n",
      "Requirement already satisfied: jsonschema==4.19.2 in c:\\users\\pirmin.000\\pycharmprojects\\igp\\testvenv\\lib\\site-packages (from -r C:\\Users\\Pirmin.000\\PycharmProjects\\IGP\\requirements.txt (line 57)) (4.19.2)\n",
      "Requirement already satisfied: jsonschema-specifications==2023.7.1 in c:\\users\\pirmin.000\\pycharmprojects\\igp\\testvenv\\lib\\site-packages (from -r C:\\Users\\Pirmin.000\\PycharmProjects\\IGP\\requirements.txt (line 58)) (2023.7.1)\n",
      "Requirement already satisfied: jupyter==1.0.0 in c:\\users\\pirmin.000\\pycharmprojects\\igp\\testvenv\\lib\\site-packages (from -r C:\\Users\\Pirmin.000\\PycharmProjects\\IGP\\requirements.txt (line 59)) (1.0.0)\n",
      "Requirement already satisfied: jupyter-console==6.6.3 in c:\\users\\pirmin.000\\pycharmprojects\\igp\\testvenv\\lib\\site-packages (from -r C:\\Users\\Pirmin.000\\PycharmProjects\\IGP\\requirements.txt (line 60)) (6.6.3)\n",
      "Requirement already satisfied: jupyter-events==0.9.0 in c:\\users\\pirmin.000\\pycharmprojects\\igp\\testvenv\\lib\\site-packages (from -r C:\\Users\\Pirmin.000\\PycharmProjects\\IGP\\requirements.txt (line 61)) (0.9.0)\n",
      "Requirement already satisfied: jupyter-lsp==2.2.0 in c:\\users\\pirmin.000\\pycharmprojects\\igp\\testvenv\\lib\\site-packages (from -r C:\\Users\\Pirmin.000\\PycharmProjects\\IGP\\requirements.txt (line 62)) (2.2.0)\n",
      "Requirement already satisfied: jupyter_client==8.6.0 in c:\\users\\pirmin.000\\pycharmprojects\\igp\\testvenv\\lib\\site-packages (from -r C:\\Users\\Pirmin.000\\PycharmProjects\\IGP\\requirements.txt (line 63)) (8.6.0)\n",
      "Requirement already satisfied: jupyter_core==5.5.0 in c:\\users\\pirmin.000\\pycharmprojects\\igp\\testvenv\\lib\\site-packages (from -r C:\\Users\\Pirmin.000\\PycharmProjects\\IGP\\requirements.txt (line 64)) (5.5.0)\n",
      "Requirement already satisfied: jupyter_server==2.10.0 in c:\\users\\pirmin.000\\pycharmprojects\\igp\\testvenv\\lib\\site-packages (from -r C:\\Users\\Pirmin.000\\PycharmProjects\\IGP\\requirements.txt (line 65)) (2.10.0)\n",
      "Requirement already satisfied: jupyter_server_terminals==0.4.4 in c:\\users\\pirmin.000\\pycharmprojects\\igp\\testvenv\\lib\\site-packages (from -r C:\\Users\\Pirmin.000\\PycharmProjects\\IGP\\requirements.txt (line 66)) (0.4.4)\n",
      "Requirement already satisfied: jupyterlab==4.0.8 in c:\\users\\pirmin.000\\pycharmprojects\\igp\\testvenv\\lib\\site-packages (from -r C:\\Users\\Pirmin.000\\PycharmProjects\\IGP\\requirements.txt (line 67)) (4.0.8)\n",
      "Requirement already satisfied: jupyterlab-pygments==0.2.2 in c:\\users\\pirmin.000\\pycharmprojects\\igp\\testvenv\\lib\\site-packages (from -r C:\\Users\\Pirmin.000\\PycharmProjects\\IGP\\requirements.txt (line 68)) (0.2.2)\n",
      "Requirement already satisfied: jupyterlab-widgets==3.0.9 in c:\\users\\pirmin.000\\pycharmprojects\\igp\\testvenv\\lib\\site-packages (from -r C:\\Users\\Pirmin.000\\PycharmProjects\\IGP\\requirements.txt (line 69)) (3.0.9)\n",
      "Requirement already satisfied: jupyterlab_server==2.25.1 in c:\\users\\pirmin.000\\pycharmprojects\\igp\\testvenv\\lib\\site-packages (from -r C:\\Users\\Pirmin.000\\PycharmProjects\\IGP\\requirements.txt (line 70)) (2.25.1)\n",
      "Requirement already satisfied: keras==2.15.0 in c:\\users\\pirmin.000\\pycharmprojects\\igp\\testvenv\\lib\\site-packages (from -r C:\\Users\\Pirmin.000\\PycharmProjects\\IGP\\requirements.txt (line 71)) (2.15.0)\n",
      "Requirement already satisfied: kiwisolver==1.4.5 in c:\\users\\pirmin.000\\pycharmprojects\\igp\\testvenv\\lib\\site-packages (from -r C:\\Users\\Pirmin.000\\PycharmProjects\\IGP\\requirements.txt (line 72)) (1.4.5)\n",
      "Requirement already satisfied: libclang==16.0.6 in c:\\users\\pirmin.000\\pycharmprojects\\igp\\testvenv\\lib\\site-packages (from -r C:\\Users\\Pirmin.000\\PycharmProjects\\IGP\\requirements.txt (line 73)) (16.0.6)\n",
      "Requirement already satisfied: llvmlite==0.41.1 in c:\\users\\pirmin.000\\pycharmprojects\\igp\\testvenv\\lib\\site-packages (from -r C:\\Users\\Pirmin.000\\PycharmProjects\\IGP\\requirements.txt (line 74)) (0.41.1)\n",
      "Requirement already satisfied: Mako==1.2.4 in c:\\python311\\lib\\site-packages (from -r C:\\Users\\Pirmin.000\\PycharmProjects\\IGP\\requirements.txt (line 75)) (1.2.4)\n",
      "Requirement already satisfied: Markdown==3.5.1 in c:\\users\\pirmin.000\\pycharmprojects\\igp\\testvenv\\lib\\site-packages (from -r C:\\Users\\Pirmin.000\\PycharmProjects\\IGP\\requirements.txt (line 76)) (3.5.1)\n",
      "Requirement already satisfied: MarkupSafe==2.1.2 in c:\\users\\pirmin.000\\pycharmprojects\\igp\\testvenv\\lib\\site-packages (from -r C:\\Users\\Pirmin.000\\PycharmProjects\\IGP\\requirements.txt (line 77)) (2.1.2)\n",
      "Requirement already satisfied: matplotlib==3.8.1 in c:\\users\\pirmin.000\\pycharmprojects\\igp\\testvenv\\lib\\site-packages (from -r C:\\Users\\Pirmin.000\\PycharmProjects\\IGP\\requirements.txt (line 78)) (3.8.1)\n",
      "Requirement already satisfied: matplotlib-inline==0.1.6 in c:\\python311\\lib\\site-packages (from -r C:\\Users\\Pirmin.000\\PycharmProjects\\IGP\\requirements.txt (line 79)) (0.1.6)\n",
      "Requirement already satisfied: mistune==3.0.2 in c:\\users\\pirmin.000\\pycharmprojects\\igp\\testvenv\\lib\\site-packages (from -r C:\\Users\\Pirmin.000\\PycharmProjects\\IGP\\requirements.txt (line 80)) (3.0.2)\n",
      "Requirement already satisfied: ml-dtypes==0.2.0 in c:\\users\\pirmin.000\\pycharmprojects\\igp\\testvenv\\lib\\site-packages (from -r C:\\Users\\Pirmin.000\\PycharmProjects\\IGP\\requirements.txt (line 81)) (0.2.0)\n",
      "Requirement already satisfied: moviepy==1.0.3 in c:\\users\\pirmin.000\\pycharmprojects\\igp\\testvenv\\lib\\site-packages (from -r C:\\Users\\Pirmin.000\\PycharmProjects\\IGP\\requirements.txt (line 82)) (1.0.3)\n",
      "Requirement already satisfied: mpmath==1.3.0 in c:\\python311\\lib\\site-packages (from -r C:\\Users\\Pirmin.000\\PycharmProjects\\IGP\\requirements.txt (line 83)) (1.3.0)\n",
      "Requirement already satisfied: nbclient==0.9.0 in c:\\users\\pirmin.000\\pycharmprojects\\igp\\testvenv\\lib\\site-packages (from -r C:\\Users\\Pirmin.000\\PycharmProjects\\IGP\\requirements.txt (line 84)) (0.9.0)\n",
      "Requirement already satisfied: nbconvert==7.11.0 in c:\\users\\pirmin.000\\pycharmprojects\\igp\\testvenv\\lib\\site-packages (from -r C:\\Users\\Pirmin.000\\PycharmProjects\\IGP\\requirements.txt (line 85)) (7.11.0)\n",
      "Requirement already satisfied: nbformat==5.9.2 in c:\\users\\pirmin.000\\pycharmprojects\\igp\\testvenv\\lib\\site-packages (from -r C:\\Users\\Pirmin.000\\PycharmProjects\\IGP\\requirements.txt (line 86)) (5.9.2)\n",
      "Requirement already satisfied: nest-asyncio==1.5.8 in c:\\users\\pirmin.000\\pycharmprojects\\igp\\testvenv\\lib\\site-packages (from -r C:\\Users\\Pirmin.000\\PycharmProjects\\IGP\\requirements.txt (line 87)) (1.5.8)\n",
      "Requirement already satisfied: networkx==3.0 in c:\\users\\pirmin.000\\pycharmprojects\\igp\\testvenv\\lib\\site-packages (from -r C:\\Users\\Pirmin.000\\PycharmProjects\\IGP\\requirements.txt (line 88)) (3.0)\n",
      "Requirement already satisfied: notebook==7.0.6 in c:\\users\\pirmin.000\\pycharmprojects\\igp\\testvenv\\lib\\site-packages (from -r C:\\Users\\Pirmin.000\\PycharmProjects\\IGP\\requirements.txt (line 89)) (7.0.6)\n",
      "Requirement already satisfied: notebook_shim==0.2.3 in c:\\users\\pirmin.000\\pycharmprojects\\igp\\testvenv\\lib\\site-packages (from -r C:\\Users\\Pirmin.000\\PycharmProjects\\IGP\\requirements.txt (line 90)) (0.2.3)\n",
      "Requirement already satisfied: np==1.0.2 in c:\\users\\pirmin.000\\pycharmprojects\\igp\\testvenv\\lib\\site-packages (from -r C:\\Users\\Pirmin.000\\PycharmProjects\\IGP\\requirements.txt (line 91)) (1.0.2)\n",
      "Requirement already satisfied: numba==0.58.1 in c:\\users\\pirmin.000\\pycharmprojects\\igp\\testvenv\\lib\\site-packages (from -r C:\\Users\\Pirmin.000\\PycharmProjects\\IGP\\requirements.txt (line 92)) (0.58.1)\n",
      "Requirement already satisfied: numpy==1.26.1 in c:\\users\\pirmin.000\\pycharmprojects\\igp\\testvenv\\lib\\site-packages (from -r C:\\Users\\Pirmin.000\\PycharmProjects\\IGP\\requirements.txt (line 93)) (1.26.1)\n",
      "Requirement already satisfied: oauthlib==3.2.2 in c:\\python311\\lib\\site-packages (from -r C:\\Users\\Pirmin.000\\PycharmProjects\\IGP\\requirements.txt (line 94)) (3.2.2)\n",
      "Requirement already satisfied: opencv-python==4.8.1.78 in c:\\users\\pirmin.000\\pycharmprojects\\igp\\testvenv\\lib\\site-packages (from -r C:\\Users\\Pirmin.000\\PycharmProjects\\IGP\\requirements.txt (line 95)) (4.8.1.78)\n",
      "Requirement already satisfied: opt-einsum==3.3.0 in c:\\users\\pirmin.000\\pycharmprojects\\igp\\testvenv\\lib\\site-packages (from -r C:\\Users\\Pirmin.000\\PycharmProjects\\IGP\\requirements.txt (line 96)) (3.3.0)\n",
      "Requirement already satisfied: overrides==7.4.0 in c:\\users\\pirmin.000\\pycharmprojects\\igp\\testvenv\\lib\\site-packages (from -r C:\\Users\\Pirmin.000\\PycharmProjects\\IGP\\requirements.txt (line 97)) (7.4.0)\n",
      "Requirement already satisfied: packaging==23.2 in c:\\users\\pirmin.000\\pycharmprojects\\igp\\testvenv\\lib\\site-packages (from -r C:\\Users\\Pirmin.000\\PycharmProjects\\IGP\\requirements.txt (line 98)) (23.2)\n",
      "Requirement already satisfied: pandas==2.1.2 in c:\\users\\pirmin.000\\pycharmprojects\\igp\\testvenv\\lib\\site-packages (from -r C:\\Users\\Pirmin.000\\PycharmProjects\\IGP\\requirements.txt (line 99)) (2.1.2)\n",
      "Requirement already satisfied: pandocfilters==1.5.0 in c:\\python311\\lib\\site-packages (from -r C:\\Users\\Pirmin.000\\PycharmProjects\\IGP\\requirements.txt (line 100)) (1.5.0)\n",
      "Requirement already satisfied: parso==0.8.3 in c:\\python311\\lib\\site-packages (from -r C:\\Users\\Pirmin.000\\PycharmProjects\\IGP\\requirements.txt (line 101)) (0.8.3)\n",
      "Requirement already satisfied: patsy==0.5.3 in c:\\users\\pirmin.000\\pycharmprojects\\igp\\testvenv\\lib\\site-packages (from -r C:\\Users\\Pirmin.000\\PycharmProjects\\IGP\\requirements.txt (line 102)) (0.5.3)\n",
      "Requirement already satisfied: pefile==2023.2.7 in c:\\users\\pirmin.000\\pycharmprojects\\igp\\testvenv\\lib\\site-packages (from -r C:\\Users\\Pirmin.000\\PycharmProjects\\IGP\\requirements.txt (line 103)) (2023.2.7)\n",
      "Requirement already satisfied: pickleshare==0.7.5 in c:\\python311\\lib\\site-packages (from -r C:\\Users\\Pirmin.000\\PycharmProjects\\IGP\\requirements.txt (line 104)) (0.7.5)\n",
      "Requirement already satisfied: Pillow==9.3.0 in c:\\python311\\lib\\site-packages (from -r C:\\Users\\Pirmin.000\\PycharmProjects\\IGP\\requirements.txt (line 105)) (9.3.0)\n",
      "Requirement already satisfied: platformdirs==3.11.0 in c:\\users\\pirmin.000\\pycharmprojects\\igp\\testvenv\\lib\\site-packages (from -r C:\\Users\\Pirmin.000\\PycharmProjects\\IGP\\requirements.txt (line 106)) (3.11.0)\n",
      "Requirement already satisfied: plotly==5.18.0 in c:\\users\\pirmin.000\\pycharmprojects\\igp\\testvenv\\lib\\site-packages (from -r C:\\Users\\Pirmin.000\\PycharmProjects\\IGP\\requirements.txt (line 107)) (5.18.0)\n",
      "Requirement already satisfied: proglog==0.1.10 in c:\\users\\pirmin.000\\pycharmprojects\\igp\\testvenv\\lib\\site-packages (from -r C:\\Users\\Pirmin.000\\PycharmProjects\\IGP\\requirements.txt (line 108)) (0.1.10)\n",
      "Requirement already satisfied: prometheus-client==0.18.0 in c:\\users\\pirmin.000\\pycharmprojects\\igp\\testvenv\\lib\\site-packages (from -r C:\\Users\\Pirmin.000\\PycharmProjects\\IGP\\requirements.txt (line 109)) (0.18.0)\n",
      "Requirement already satisfied: prompt-toolkit==3.0.39 in c:\\python311\\lib\\site-packages (from -r C:\\Users\\Pirmin.000\\PycharmProjects\\IGP\\requirements.txt (line 110)) (3.0.39)\n",
      "Requirement already satisfied: protobuf==4.23.4 in c:\\users\\pirmin.000\\pycharmprojects\\igp\\testvenv\\lib\\site-packages (from -r C:\\Users\\Pirmin.000\\PycharmProjects\\IGP\\requirements.txt (line 111)) (4.23.4)\n",
      "Requirement already satisfied: psutil==5.9.6 in c:\\users\\pirmin.000\\pycharmprojects\\igp\\testvenv\\lib\\site-packages (from -r C:\\Users\\Pirmin.000\\PycharmProjects\\IGP\\requirements.txt (line 112)) (5.9.6)\n",
      "Requirement already satisfied: psycopg2==2.9.9 in c:\\users\\pirmin.000\\pycharmprojects\\igp\\testvenv\\lib\\site-packages (from -r C:\\Users\\Pirmin.000\\PycharmProjects\\IGP\\requirements.txt (line 113)) (2.9.9)\n",
      "Requirement already satisfied: pure-eval==0.2.2 in c:\\python311\\lib\\site-packages (from -r C:\\Users\\Pirmin.000\\PycharmProjects\\IGP\\requirements.txt (line 114)) (0.2.2)\n",
      "Requirement already satisfied: pyasn1==0.5.1 in c:\\users\\pirmin.000\\pycharmprojects\\igp\\testvenv\\lib\\site-packages (from -r C:\\Users\\Pirmin.000\\PycharmProjects\\IGP\\requirements.txt (line 115)) (0.5.1)\n",
      "Requirement already satisfied: pyasn1-modules==0.3.0 in c:\\users\\pirmin.000\\pycharmprojects\\igp\\testvenv\\lib\\site-packages (from -r C:\\Users\\Pirmin.000\\PycharmProjects\\IGP\\requirements.txt (line 116)) (0.3.0)\n",
      "Requirement already satisfied: pycparser==2.21 in c:\\python311\\lib\\site-packages (from -r C:\\Users\\Pirmin.000\\PycharmProjects\\IGP\\requirements.txt (line 117)) (2.21)\n",
      "Requirement already satisfied: Pygments==2.16.1 in c:\\users\\pirmin.000\\pycharmprojects\\igp\\testvenv\\lib\\site-packages (from -r C:\\Users\\Pirmin.000\\PycharmProjects\\IGP\\requirements.txt (line 118)) (2.16.1)\n",
      "Requirement already satisfied: pyinstaller==6.1.0 in c:\\users\\pirmin.000\\pycharmprojects\\igp\\testvenv\\lib\\site-packages (from -r C:\\Users\\Pirmin.000\\PycharmProjects\\IGP\\requirements.txt (line 119)) (6.1.0)\n",
      "Requirement already satisfied: pyinstaller-hooks-contrib==2023.10 in c:\\users\\pirmin.000\\pycharmprojects\\igp\\testvenv\\lib\\site-packages (from -r C:\\Users\\Pirmin.000\\PycharmProjects\\IGP\\requirements.txt (line 120)) (2023.10)\n",
      "Requirement already satisfied: pyparsing==3.1.1 in c:\\users\\pirmin.000\\pycharmprojects\\igp\\testvenv\\lib\\site-packages (from -r C:\\Users\\Pirmin.000\\PycharmProjects\\IGP\\requirements.txt (line 121)) (3.1.1)\n",
      "Requirement already satisfied: python-dateutil==2.8.2 in c:\\python311\\lib\\site-packages (from -r C:\\Users\\Pirmin.000\\PycharmProjects\\IGP\\requirements.txt (line 122)) (2.8.2)\n",
      "Requirement already satisfied: python-json-logger==2.0.7 in c:\\python311\\lib\\site-packages (from -r C:\\Users\\Pirmin.000\\PycharmProjects\\IGP\\requirements.txt (line 123)) (2.0.7)\n",
      "Requirement already satisfied: pytz==2022.7 in c:\\python311\\lib\\site-packages (from -r C:\\Users\\Pirmin.000\\PycharmProjects\\IGP\\requirements.txt (line 124)) (2022.7)\n",
      "Requirement already satisfied: pywin32==306 in c:\\python311\\lib\\site-packages (from -r C:\\Users\\Pirmin.000\\PycharmProjects\\IGP\\requirements.txt (line 125)) (306)\n",
      "Requirement already satisfied: pywin32-ctypes==0.2.2 in c:\\users\\pirmin.000\\pycharmprojects\\igp\\testvenv\\lib\\site-packages (from -r C:\\Users\\Pirmin.000\\PycharmProjects\\IGP\\requirements.txt (line 126)) (0.2.2)\n",
      "Requirement already satisfied: pywinpty==2.0.12 in c:\\users\\pirmin.000\\pycharmprojects\\igp\\testvenv\\lib\\site-packages (from -r C:\\Users\\Pirmin.000\\PycharmProjects\\IGP\\requirements.txt (line 127)) (2.0.12)\n",
      "Requirement already satisfied: PyYAML==6.0.1 in c:\\python311\\lib\\site-packages (from -r C:\\Users\\Pirmin.000\\PycharmProjects\\IGP\\requirements.txt (line 128)) (6.0.1)\n",
      "Requirement already satisfied: pyzmq==25.1.1 in c:\\users\\pirmin.000\\pycharmprojects\\igp\\testvenv\\lib\\site-packages (from -r C:\\Users\\Pirmin.000\\PycharmProjects\\IGP\\requirements.txt (line 129)) (25.1.1)\n",
      "Requirement already satisfied: qtconsole==5.5.0 in c:\\users\\pirmin.000\\pycharmprojects\\igp\\testvenv\\lib\\site-packages (from -r C:\\Users\\Pirmin.000\\PycharmProjects\\IGP\\requirements.txt (line 130)) (5.5.0)\n",
      "Requirement already satisfied: QtPy==2.4.1 in c:\\users\\pirmin.000\\pycharmprojects\\igp\\testvenv\\lib\\site-packages (from -r C:\\Users\\Pirmin.000\\PycharmProjects\\IGP\\requirements.txt (line 131)) (2.4.1)\n",
      "Requirement already satisfied: referencing==0.30.2 in c:\\users\\pirmin.000\\pycharmprojects\\igp\\testvenv\\lib\\site-packages (from -r C:\\Users\\Pirmin.000\\PycharmProjects\\IGP\\requirements.txt (line 132)) (0.30.2)\n",
      "Requirement already satisfied: requests==2.31.0 in c:\\users\\pirmin.000\\pycharmprojects\\igp\\testvenv\\lib\\site-packages (from -r C:\\Users\\Pirmin.000\\PycharmProjects\\IGP\\requirements.txt (line 133)) (2.31.0)\n",
      "Requirement already satisfied: requests-oauthlib==1.3.1 in c:\\users\\pirmin.000\\pycharmprojects\\igp\\testvenv\\lib\\site-packages (from -r C:\\Users\\Pirmin.000\\PycharmProjects\\IGP\\requirements.txt (line 134)) (1.3.1)\n",
      "Requirement already satisfied: rfc3339-validator==0.1.4 in c:\\python311\\lib\\site-packages (from -r C:\\Users\\Pirmin.000\\PycharmProjects\\IGP\\requirements.txt (line 135)) (0.1.4)\n",
      "Requirement already satisfied: rfc3986-validator==0.1.1 in c:\\python311\\lib\\site-packages (from -r C:\\Users\\Pirmin.000\\PycharmProjects\\IGP\\requirements.txt (line 136)) (0.1.1)\n",
      "Requirement already satisfied: rpds-py==0.12.0 in c:\\users\\pirmin.000\\pycharmprojects\\igp\\testvenv\\lib\\site-packages (from -r C:\\Users\\Pirmin.000\\PycharmProjects\\IGP\\requirements.txt (line 137)) (0.12.0)\n",
      "Requirement already satisfied: rsa==4.9 in c:\\users\\pirmin.000\\pycharmprojects\\igp\\testvenv\\lib\\site-packages (from -r C:\\Users\\Pirmin.000\\PycharmProjects\\IGP\\requirements.txt (line 138)) (4.9)\n",
      "Requirement already satisfied: ruamel.yaml.clib==0.2.8 in c:\\python311\\lib\\site-packages (from -r C:\\Users\\Pirmin.000\\PycharmProjects\\IGP\\requirements.txt (line 139)) (0.2.8)\n",
      "Requirement already satisfied: scikit-learn==1.3.0 in c:\\python311\\lib\\site-packages (from -r C:\\Users\\Pirmin.000\\PycharmProjects\\IGP\\requirements.txt (line 140)) (1.3.0)\n",
      "Requirement already satisfied: scipy==1.11.1 in c:\\python311\\lib\\site-packages (from -r C:\\Users\\Pirmin.000\\PycharmProjects\\IGP\\requirements.txt (line 141)) (1.11.1)\n",
      "Requirement already satisfied: seaborn==0.13.0 in c:\\users\\pirmin.000\\pycharmprojects\\igp\\testvenv\\lib\\site-packages (from -r C:\\Users\\Pirmin.000\\PycharmProjects\\IGP\\requirements.txt (line 142)) (0.13.0)\n",
      "Requirement already satisfied: Send2Trash==1.8.2 in c:\\python311\\lib\\site-packages (from -r C:\\Users\\Pirmin.000\\PycharmProjects\\IGP\\requirements.txt (line 143)) (1.8.2)\n",
      "Requirement already satisfied: six==1.16.0 in c:\\python311\\lib\\site-packages (from -r C:\\Users\\Pirmin.000\\PycharmProjects\\IGP\\requirements.txt (line 144)) (1.16.0)\n",
      "Requirement already satisfied: sniffio==1.3.0 in c:\\python311\\lib\\site-packages (from -r C:\\Users\\Pirmin.000\\PycharmProjects\\IGP\\requirements.txt (line 145)) (1.3.0)\n",
      "Requirement already satisfied: soupsieve==2.5 in c:\\users\\pirmin.000\\pycharmprojects\\igp\\testvenv\\lib\\site-packages (from -r C:\\Users\\Pirmin.000\\PycharmProjects\\IGP\\requirements.txt (line 146)) (2.5)\n",
      "Requirement already satisfied: SQLAlchemy==2.0.23 in c:\\users\\pirmin.000\\pycharmprojects\\igp\\testvenv\\lib\\site-packages (from -r C:\\Users\\Pirmin.000\\PycharmProjects\\IGP\\requirements.txt (line 147)) (2.0.23)\n",
      "Requirement already satisfied: stack-data==0.6.3 in c:\\users\\pirmin.000\\pycharmprojects\\igp\\testvenv\\lib\\site-packages (from -r C:\\Users\\Pirmin.000\\PycharmProjects\\IGP\\requirements.txt (line 148)) (0.6.3)\n",
      "Requirement already satisfied: statsmodels==0.14.0 in c:\\users\\pirmin.000\\pycharmprojects\\igp\\testvenv\\lib\\site-packages (from -r C:\\Users\\Pirmin.000\\PycharmProjects\\IGP\\requirements.txt (line 149)) (0.14.0)\n",
      "Requirement already satisfied: sympy==1.12 in c:\\python311\\lib\\site-packages (from -r C:\\Users\\Pirmin.000\\PycharmProjects\\IGP\\requirements.txt (line 150)) (1.12)\n",
      "Requirement already satisfied: tenacity==8.2.3 in c:\\users\\pirmin.000\\pycharmprojects\\igp\\testvenv\\lib\\site-packages (from -r C:\\Users\\Pirmin.000\\PycharmProjects\\IGP\\requirements.txt (line 151)) (8.2.3)\n",
      "Requirement already satisfied: tensorboard==2.15.1 in c:\\users\\pirmin.000\\pycharmprojects\\igp\\testvenv\\lib\\site-packages (from -r C:\\Users\\Pirmin.000\\PycharmProjects\\IGP\\requirements.txt (line 152)) (2.15.1)\n",
      "Requirement already satisfied: tensorboard-data-server==0.7.2 in c:\\users\\pirmin.000\\pycharmprojects\\igp\\testvenv\\lib\\site-packages (from -r C:\\Users\\Pirmin.000\\PycharmProjects\\IGP\\requirements.txt (line 153)) (0.7.2)\n",
      "Requirement already satisfied: tensorflow==2.15.0 in c:\\users\\pirmin.000\\pycharmprojects\\igp\\testvenv\\lib\\site-packages (from -r C:\\Users\\Pirmin.000\\PycharmProjects\\IGP\\requirements.txt (line 154)) (2.15.0)\n",
      "Requirement already satisfied: tensorflow-estimator==2.15.0 in c:\\users\\pirmin.000\\pycharmprojects\\igp\\testvenv\\lib\\site-packages (from -r C:\\Users\\Pirmin.000\\PycharmProjects\\IGP\\requirements.txt (line 155)) (2.15.0)\n",
      "Requirement already satisfied: tensorflow-intel==2.15.0 in c:\\users\\pirmin.000\\pycharmprojects\\igp\\testvenv\\lib\\site-packages (from -r C:\\Users\\Pirmin.000\\PycharmProjects\\IGP\\requirements.txt (line 156)) (2.15.0)\n",
      "Requirement already satisfied: tensorflow-io-gcs-filesystem==0.31.0 in c:\\users\\pirmin.000\\pycharmprojects\\igp\\testvenv\\lib\\site-packages (from -r C:\\Users\\Pirmin.000\\PycharmProjects\\IGP\\requirements.txt (line 157)) (0.31.0)\n",
      "Requirement already satisfied: termcolor==2.4.0 in c:\\users\\pirmin.000\\pycharmprojects\\igp\\testvenv\\lib\\site-packages (from -r C:\\Users\\Pirmin.000\\PycharmProjects\\IGP\\requirements.txt (line 158)) (2.4.0)\n",
      "Requirement already satisfied: terminado==0.17.1 in c:\\python311\\lib\\site-packages (from -r C:\\Users\\Pirmin.000\\PycharmProjects\\IGP\\requirements.txt (line 159)) (0.17.1)\n",
      "Requirement already satisfied: threadpoolctl==3.2.0 in c:\\python311\\lib\\site-packages (from -r C:\\Users\\Pirmin.000\\PycharmProjects\\IGP\\requirements.txt (line 160)) (3.2.0)\n",
      "Requirement already satisfied: tinycss2==1.2.1 in c:\\python311\\lib\\site-packages (from -r C:\\Users\\Pirmin.000\\PycharmProjects\\IGP\\requirements.txt (line 161)) (1.2.1)\n",
      "Requirement already satisfied: tomli==2.0.1 in c:\\users\\pirmin.000\\pycharmprojects\\igp\\testvenv\\lib\\site-packages (from -r C:\\Users\\Pirmin.000\\PycharmProjects\\IGP\\requirements.txt (line 162)) (2.0.1)\n",
      "Requirement already satisfied: torch==2.1.0+cu121 in c:\\users\\pirmin.000\\pycharmprojects\\igp\\testvenv\\lib\\site-packages (from -r C:\\Users\\Pirmin.000\\PycharmProjects\\IGP\\requirements.txt (line 163)) (2.1.0+cu121)\n",
      "Requirement already satisfied: torchaudio==2.1.0+cu121 in c:\\users\\pirmin.000\\pycharmprojects\\igp\\testvenv\\lib\\site-packages (from -r C:\\Users\\Pirmin.000\\PycharmProjects\\IGP\\requirements.txt (line 164)) (2.1.0+cu121)\n",
      "Requirement already satisfied: torchvision==0.16.0+cu121 in c:\\users\\pirmin.000\\pycharmprojects\\igp\\testvenv\\lib\\site-packages (from -r C:\\Users\\Pirmin.000\\PycharmProjects\\IGP\\requirements.txt (line 165)) (0.16.0+cu121)\n",
      "Requirement already satisfied: tornado==6.3.3 in c:\\users\\pirmin.000\\pycharmprojects\\igp\\testvenv\\lib\\site-packages (from -r C:\\Users\\Pirmin.000\\PycharmProjects\\IGP\\requirements.txt (line 166)) (6.3.3)\n",
      "Requirement already satisfied: tqdm==4.66.1 in c:\\users\\pirmin.000\\pycharmprojects\\igp\\testvenv\\lib\\site-packages (from -r C:\\Users\\Pirmin.000\\PycharmProjects\\IGP\\requirements.txt (line 167)) (4.66.1)\n",
      "Requirement already satisfied: traitlets==5.13.0 in c:\\users\\pirmin.000\\pycharmprojects\\igp\\testvenv\\lib\\site-packages (from -r C:\\Users\\Pirmin.000\\PycharmProjects\\IGP\\requirements.txt (line 168)) (5.13.0)\n",
      "Requirement already satisfied: types-python-dateutil==2.8.19.14 in c:\\python311\\lib\\site-packages (from -r C:\\Users\\Pirmin.000\\PycharmProjects\\IGP\\requirements.txt (line 169)) (2.8.19.14)\n",
      "Requirement already satisfied: typing_extensions==4.7.1 in c:\\python311\\lib\\site-packages (from -r C:\\Users\\Pirmin.000\\PycharmProjects\\IGP\\requirements.txt (line 170)) (4.7.1)\n",
      "Requirement already satisfied: tzdata==2023.3 in c:\\users\\pirmin.000\\pycharmprojects\\igp\\testvenv\\lib\\site-packages (from -r C:\\Users\\Pirmin.000\\PycharmProjects\\IGP\\requirements.txt (line 171)) (2023.3)\n",
      "Requirement already satisfied: uri-template==1.3.0 in c:\\python311\\lib\\site-packages (from -r C:\\Users\\Pirmin.000\\PycharmProjects\\IGP\\requirements.txt (line 172)) (1.3.0)\n",
      "Requirement already satisfied: urllib3==1.26.13 in c:\\users\\pirmin.000\\pycharmprojects\\igp\\testvenv\\lib\\site-packages (from -r C:\\Users\\Pirmin.000\\PycharmProjects\\IGP\\requirements.txt (line 173)) (1.26.13)\n",
      "Requirement already satisfied: wcwidth==0.2.9 in c:\\users\\pirmin.000\\pycharmprojects\\igp\\testvenv\\lib\\site-packages (from -r C:\\Users\\Pirmin.000\\PycharmProjects\\IGP\\requirements.txt (line 174)) (0.2.9)\n",
      "Requirement already satisfied: webcolors==1.13 in c:\\python311\\lib\\site-packages (from -r C:\\Users\\Pirmin.000\\PycharmProjects\\IGP\\requirements.txt (line 175)) (1.13)\n",
      "Requirement already satisfied: webencodings==0.5.1 in c:\\python311\\lib\\site-packages (from -r C:\\Users\\Pirmin.000\\PycharmProjects\\IGP\\requirements.txt (line 176)) (0.5.1)\n",
      "Requirement already satisfied: websocket-client==1.6.4 in c:\\users\\pirmin.000\\pycharmprojects\\igp\\testvenv\\lib\\site-packages (from -r C:\\Users\\Pirmin.000\\PycharmProjects\\IGP\\requirements.txt (line 177)) (1.6.4)\n",
      "Requirement already satisfied: Werkzeug==3.0.1 in c:\\users\\pirmin.000\\pycharmprojects\\igp\\testvenv\\lib\\site-packages (from -r C:\\Users\\Pirmin.000\\PycharmProjects\\IGP\\requirements.txt (line 178)) (3.0.1)\n",
      "Requirement already satisfied: widgetsnbextension==4.0.9 in c:\\users\\pirmin.000\\pycharmprojects\\igp\\testvenv\\lib\\site-packages (from -r C:\\Users\\Pirmin.000\\PycharmProjects\\IGP\\requirements.txt (line 179)) (4.0.9)\n",
      "Requirement already satisfied: wrapt==1.14.1 in c:\\users\\pirmin.000\\pycharmprojects\\igp\\testvenv\\lib\\site-packages (from -r C:\\Users\\Pirmin.000\\PycharmProjects\\IGP\\requirements.txt (line 180)) (1.14.1)\n",
      "Requirement already satisfied: zipp==3.17.0 in c:\\users\\pirmin.000\\pycharmprojects\\igp\\testvenv\\lib\\site-packages (from -r C:\\Users\\Pirmin.000\\PycharmProjects\\IGP\\requirements.txt (line 181)) (3.17.0)\n",
      "Requirement already satisfied: wheel<1.0,>=0.23.0 in c:\\users\\pirmin.000\\pycharmprojects\\igp\\testvenv\\lib\\site-packages (from astunparse==1.6.3->-r C:\\Users\\Pirmin.000\\PycharmProjects\\IGP\\requirements.txt (line 8)) (0.41.2)\n",
      "Requirement already satisfied: setuptools in c:\\users\\pirmin.000\\pycharmprojects\\igp\\testvenv\\lib\\site-packages (from imageio-ffmpeg==0.4.9->-r C:\\Users\\Pirmin.000\\PycharmProjects\\IGP\\requirements.txt (line 44)) (68.2.0)\n"
     ]
    }
   ],
   "source": [
    "filepath = os.path.join(os.getcwd(), 'requirements.txt')\n",
    "command = [\"pip\", \"install\", \"-r\", filepath]\n",
    "\n",
    "# Run the command and capture the output\n",
    "result = subprocess.run(command, stdout=subprocess.PIPE, text=True)\n",
    "\n",
    "# Display the output in the terminal\n",
    "print(result.stdout)"
   ],
   "metadata": {
    "collapsed": false,
    "ExecuteTime": {
     "end_time": "2023-12-08T06:43:33.063746100Z",
     "start_time": "2023-12-08T06:43:27.988614400Z"
    }
   },
   "id": "b1a7cdfd4d069df7"
  },
  {
   "cell_type": "code",
   "execution_count": 11,
   "outputs": [],
   "source": [],
   "metadata": {
    "collapsed": false,
    "ExecuteTime": {
     "end_time": "2023-12-08T06:43:33.066136Z",
     "start_time": "2023-12-08T06:43:33.061338Z"
    }
   },
   "id": "f15e7df39eed8be"
  }
 ],
 "metadata": {
  "kernelspec": {
   "display_name": "Python 3",
   "language": "python",
   "name": "python3"
  },
  "language_info": {
   "codemirror_mode": {
    "name": "ipython",
    "version": 2
   },
   "file_extension": ".py",
   "mimetype": "text/x-python",
   "name": "python",
   "nbconvert_exporter": "python",
   "pygments_lexer": "ipython2",
   "version": "2.7.6"
  }
 },
 "nbformat": 4,
 "nbformat_minor": 5
}
