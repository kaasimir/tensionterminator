{
 "cells": [
  {
   "cell_type": "code",
   "execution_count": 1,
   "metadata": {
    "collapsed": true,
    "ExecuteTime": {
     "end_time": "2023-10-01T07:10:36.335577400Z",
     "start_time": "2023-10-01T07:10:35.401850300Z"
    }
   },
   "outputs": [],
   "source": [
    "from sqlalchemy import create_engine, Column, Integer, String, Boolean, DateTime, ForeignKey, Float, Time, Table\n",
    "import psycopg2\n",
    "from sqlalchemy.orm import sessionmaker, declarative_base, relationship\n",
    "from psycopg2 import extensions\n",
    "from datetime import datetime\n",
    "import os\n",
    "from moviepy.editor import VideoFileClip\n",
    "import pandas as pd"
   ]
  },
  {
   "cell_type": "code",
   "execution_count": 2,
   "outputs": [],
   "source": [
    "Base = declarative_base()\n",
    "\n",
    "class Users(Base):\n",
    "    __tablename__ = 'users'\n",
    "\n",
    "    id = Column(Integer, primary_key=True)\n",
    "    name = Column(String)\n",
    "    surename = Column(String)\n",
    "\n",
    "    loops = relationship('Loop', back_populates='user')\n",
    "\n",
    "#Relation Tables for M:M\n",
    "tools_loop_association = Table(\n",
    "    'tools_loop_association',\n",
    "    Base.metadata,\n",
    "    Column('tool_id', Integer, ForeignKey('tools.id')),\n",
    "    Column('loop_id', Integer, ForeignKey('loop.id'))\n",
    ")\n",
    "\n",
    "bodyside_loop_association = Table(\n",
    "    'bodyside_loop_association',\n",
    "    Base.metadata,\n",
    "    Column('bodyside_id', Integer, ForeignKey('bodyside.id')),\n",
    "    Column('loop_id', Integer, ForeignKey('loop.id'))\n",
    ")\n",
    "\n",
    "class Tools(Base):\n",
    "    __tablename__ = 'tools'\n",
    "\n",
    "    id = Column(Integer, primary_key=True)\n",
    "    tool = Column(String)\n",
    "    time_in_use = Column(Time)\n",
    "\n",
    "    #M:M\n",
    "    loop = relationship('Loop', secondary=tools_loop_association, back_populates='tools')\n",
    "\n",
    "class Bodyside(Base):\n",
    "    __tablename__ = 'bodyside'\n",
    "\n",
    "    id = Column(Integer, primary_key=True)\n",
    "    side = Column(String)\n",
    "    time_in_use = Column(Time)\n",
    "\n",
    "    #M:M\n",
    "    loop = relationship('Loop', secondary=bodyside_loop_association, back_populates='bodysides')\n",
    "\n",
    "\n",
    "class Loop(Base):\n",
    "    __tablename__ = 'loop'\n",
    "\n",
    "    id = Column(Integer, primary_key=True)\n",
    "    timestamp = Column(DateTime)\n",
    "    session_length = Column(Integer) #Seconds\n",
    "    location = Column(String)\n",
    "    human_labeled = Column(Boolean)\n",
    "\n",
    "    #1:M\n",
    "    videos = relationship('Video', back_populates='loop')\n",
    "\n",
    "    #M:1\n",
    "    user_id = Column(Integer, ForeignKey('users.id'))\n",
    "    user = relationship('Users', back_populates='loops')\n",
    "\n",
    "    #M:M\n",
    "    tools = relationship('Tools', secondary=tools_loop_association, back_populates='loop')\n",
    "    bodysides = relationship('Bodyside', secondary=bodyside_loop_association, back_populates='loop')\n",
    "\n",
    "\n",
    "class Video(Base):\n",
    "    __tablename__= 'video'\n",
    "\n",
    "    id = Column(Integer, primary_key=True)\n",
    "    device = Column(String)\n",
    "    file_path = Column(String)\n",
    "\n",
    "    #M:1\n",
    "    loop_id = Column(Integer, ForeignKey('loop.id'))\n",
    "    loop = relationship('Loop', back_populates='videos')"
   ],
   "metadata": {
    "collapsed": false,
    "ExecuteTime": {
     "end_time": "2023-10-01T07:10:36.375314200Z",
     "start_time": "2023-10-01T07:10:36.336592Z"
    }
   }
  },
  {
   "cell_type": "code",
   "execution_count": 3,
   "outputs": [
    {
     "name": "stdout",
     "output_type": "stream",
     "text": [
      "This notebook will create a new Database with the name: bigblock\n",
      "\n",
      "<connection object at 0x00000240E157B010; dsn: 'user=postgres password=xxx host=localhost port=5432', closed: 0>\n",
      "\n",
      "Connected to PostgreSQL, DB: bigblock\n"
     ]
    }
   ],
   "source": [
    "db_params = {\n",
    "    'user': 'postgres',\n",
    "    'password': 'Digilarger',  # enter your DB password\n",
    "    'host': 'localhost',  # 'localhost' or IP address\n",
    "    'port': '5432',  # '5432'\n",
    "    'database': 'bigblock', #tensionTerminator\n",
    "}\n",
    "\n",
    "print(f\"This notebook will create a new Database with the name: {db_params['database']}\\n\")\n",
    "\n",
    "connection = psycopg2.connect(\n",
    "    user=db_params['user'],\n",
    "    password=db_params['password'],\n",
    "    host=db_params['host'],\n",
    "    port=db_params['port'],\n",
    ")\n",
    "print(f\"{connection}\\n\")\n",
    "\n",
    "db_url = f\"postgresql://\" \\\n",
    "            f\"{db_params['user']}:\" \\\n",
    "            f\"{db_params['password']}@\" \\\n",
    "            f\"{db_params['host']}:\" \\\n",
    "            f\"{db_params['port']}/\" \\\n",
    "            f\"{db_params['database']}\"\n",
    "\n",
    "engine = create_engine(db_url, echo=True)\n",
    "Session = sessionmaker(bind=engine)\n",
    "session = Session()\n",
    "print(f\"Connected to PostgreSQL, DB: {db_params['database']}\")"
   ],
   "metadata": {
    "collapsed": false,
    "ExecuteTime": {
     "end_time": "2023-10-01T07:10:36.446847900Z",
     "start_time": "2023-10-01T07:10:36.367904800Z"
    }
   }
  },
  {
   "cell_type": "code",
   "execution_count": 4,
   "outputs": [
    {
     "name": "stdout",
     "output_type": "stream",
     "text": [
      "2023-10-01 09:10:36,487 INFO sqlalchemy.engine.Engine select pg_catalog.version()\n",
      "2023-10-01 09:10:36,488 INFO sqlalchemy.engine.Engine [raw sql] {}\n",
      "2023-10-01 09:10:36,489 INFO sqlalchemy.engine.Engine select current_schema()\n",
      "2023-10-01 09:10:36,490 INFO sqlalchemy.engine.Engine [raw sql] {}\n",
      "2023-10-01 09:10:36,492 INFO sqlalchemy.engine.Engine show standard_conforming_strings\n",
      "2023-10-01 09:10:36,492 INFO sqlalchemy.engine.Engine [raw sql] {}\n",
      "2023-10-01 09:10:36,493 INFO sqlalchemy.engine.Engine BEGIN (implicit)\n",
      "2023-10-01 09:10:36,496 INFO sqlalchemy.engine.Engine SELECT users.id AS users_id, users.name AS users_name, users.surename AS users_surename \n",
      "FROM users \n",
      "WHERE users.id = %(id_1)s \n",
      " LIMIT %(param_1)s\n",
      "2023-10-01 09:10:36,497 INFO sqlalchemy.engine.Engine [generated in 0.00106s] {'id_1': 2, 'param_1': 1}\n",
      "Christina Greiderer\n"
     ]
    }
   ],
   "source": [
    "user = session.query(Users).filter_by(id=2).first()\n",
    "print(user.name, user.surename)"
   ],
   "metadata": {
    "collapsed": false,
    "ExecuteTime": {
     "end_time": "2023-10-01T07:10:36.509371200Z",
     "start_time": "2023-10-01T07:10:36.458856200Z"
    }
   }
  },
  {
   "cell_type": "code",
   "execution_count": 5,
   "outputs": [
    {
     "name": "stdout",
     "output_type": "stream",
     "text": [
      "2023-10-01 09:10:36,513 INFO sqlalchemy.engine.Engine SELECT loop.id AS loop_id, loop.timestamp AS loop_timestamp, loop.session_length AS loop_session_length, loop.location AS loop_location, loop.human_labeled AS loop_human_labeled, loop.user_id AS loop_user_id \n",
      "FROM loop \n",
      "WHERE loop.human_labeled = true\n",
      "2023-10-01 09:10:36,513 INFO sqlalchemy.engine.Engine [generated in 0.00060s] {}\n"
     ]
    }
   ],
   "source": [
    "loop = session.query(Loop).filter_by(human_labeled=True).all()"
   ],
   "metadata": {
    "collapsed": false,
    "ExecuteTime": {
     "end_time": "2023-10-01T07:10:36.545370800Z",
     "start_time": "2023-10-01T07:10:36.512374400Z"
    }
   }
  },
  {
   "cell_type": "code",
   "execution_count": 6,
   "outputs": [
    {
     "name": "stdout",
     "output_type": "stream",
     "text": [
      "2023-10-01 09:10:36,527 INFO sqlalchemy.engine.Engine SELECT loop.id AS loop_id, loop.timestamp AS loop_timestamp, loop.session_length AS loop_session_length, loop.location AS loop_location, loop.human_labeled AS loop_human_labeled, loop.user_id AS loop_user_id \n",
      "FROM loop JOIN tools_loop_association ON loop.id = tools_loop_association.loop_id \n",
      "WHERE loop.human_labeled = true AND tools_loop_association.tool_id = %(tool_id_1)s\n",
      "2023-10-01 09:10:36,527 INFO sqlalchemy.engine.Engine [generated in 0.00066s] {'tool_id_1': 1}\n"
     ]
    }
   ],
   "source": [
    "loops_with_trigger = session.query(Loop).join(tools_loop_association).filter(\n",
    "    Loop.human_labeled == True,\n",
    "    tools_loop_association.c.tool_id == 1  # Modify this condition as needed\n",
    ").all()"
   ],
   "metadata": {
    "collapsed": false,
    "ExecuteTime": {
     "end_time": "2023-10-01T07:10:36.545370800Z",
     "start_time": "2023-10-01T07:10:36.531370700Z"
    }
   }
  },
  {
   "cell_type": "code",
   "execution_count": 7,
   "outputs": [
    {
     "name": "stdout",
     "output_type": "stream",
     "text": [
      "2023-10-01 09:10:36,544 INFO sqlalchemy.engine.Engine SELECT loop.id AS loop_id, loop.timestamp AS loop_timestamp, loop.session_length AS loop_session_length, loop.location AS loop_location, loop.human_labeled AS loop_human_labeled, loop.user_id AS loop_user_id \n",
      "FROM loop JOIN tools_loop_association ON loop.id = tools_loop_association.loop_id \n",
      "WHERE loop.human_labeled = true AND tools_loop_association.tool_id != %(tool_id_1)s\n",
      "2023-10-01 09:10:36,544 INFO sqlalchemy.engine.Engine [generated in 0.00065s] {'tool_id_1': 1}\n"
     ]
    }
   ],
   "source": [
    "loops_with_buoballs = session.query(Loop).join(tools_loop_association).filter(\n",
    "    Loop.human_labeled == True,\n",
    "    tools_loop_association.c.tool_id != 1  # Modify this condition as needed\n",
    ").all()"
   ],
   "metadata": {
    "collapsed": false,
    "ExecuteTime": {
     "end_time": "2023-10-01T07:10:36.600915200Z",
     "start_time": "2023-10-01T07:10:36.543388300Z"
    }
   }
  },
  {
   "cell_type": "code",
   "execution_count": 8,
   "outputs": [],
   "source": [
    "loops_with_trigger_ids = []\n",
    "loops_with_buoballs_ids = []\n",
    "\n",
    "for x in loops_with_trigger:\n",
    "    loops_with_trigger_ids.append(x.id)\n",
    "\n",
    "for y in loops_with_buoballs:\n",
    "    loops_with_buoballs_ids.append(y.id)"
   ],
   "metadata": {
    "collapsed": false,
    "ExecuteTime": {
     "end_time": "2023-10-01T07:10:36.601911300Z",
     "start_time": "2023-10-01T07:10:36.561371500Z"
    }
   }
  },
  {
   "cell_type": "code",
   "execution_count": 9,
   "outputs": [
    {
     "name": "stdout",
     "output_type": "stream",
     "text": [
      "2023-10-01 09:10:36,576 INFO sqlalchemy.engine.Engine SELECT video.id AS video_id, video.device AS video_device, video.file_path AS video_file_path, video.loop_id AS video_loop_id \n",
      "FROM video JOIN loop ON video.loop_id = loop.id \n",
      "WHERE video.device = %(device_1)s AND loop.id IN (%(id_1_1)s, %(id_1_2)s, %(id_1_3)s, %(id_1_4)s, %(id_1_5)s, %(id_1_6)s, %(id_1_7)s, %(id_1_8)s, %(id_1_9)s, %(id_1_10)s, %(id_1_11)s, %(id_1_12)s, %(id_1_13)s, %(id_1_14)s, %(id_1_15)s, %(id_1_16)s, %(id_1_17)s, %(id_1_18)s, %(id_1_19)s, %(id_1_20)s, %(id_1_21)s, %(id_1_22)s, %(id_1_23)s, %(id_1_24)s, %(id_1_25)s, %(id_1_26)s, %(id_1_27)s, %(id_1_28)s, %(id_1_29)s, %(id_1_30)s, %(id_1_31)s, %(id_1_32)s, %(id_1_33)s, %(id_1_34)s, %(id_1_35)s, %(id_1_36)s, %(id_1_37)s, %(id_1_38)s, %(id_1_39)s, %(id_1_40)s, %(id_1_41)s, %(id_1_42)s, %(id_1_43)s, %(id_1_44)s, %(id_1_45)s, %(id_1_46)s, %(id_1_47)s, %(id_1_48)s, %(id_1_49)s, %(id_1_50)s, %(id_1_51)s, %(id_1_52)s, %(id_1_53)s, %(id_1_54)s, %(id_1_55)s, %(id_1_56)s, %(id_1_57)s, %(id_1_58)s, %(id_1_59)s, %(id_1_60)s, %(id_1_61)s, %(id_1_62)s, %(id_1_63)s, %(id_1_64)s, %(id_1_65)s, %(id_1_66)s, %(id_1_67)s, %(id_1_68)s, %(id_1_69)s, %(id_1_70)s, %(id_1_71)s, %(id_1_72)s, %(id_1_73)s, %(id_1_74)s)\n",
      "2023-10-01 09:10:36,576 INFO sqlalchemy.engine.Engine [generated in 0.00095s] {'device_1': 'rgbCam', 'id_1_1': 1, 'id_1_2': 2, 'id_1_3': 3, 'id_1_4': 4, 'id_1_5': 5, 'id_1_6': 6, 'id_1_7': 7, 'id_1_8': 8, 'id_1_9': 9, 'id_1_10': 10, 'id_1_11': 11, 'id_1_12': 12, 'id_1_13': 13, 'id_1_14': 14, 'id_1_15': 15, 'id_1_16': 16, 'id_1_17': 17, 'id_1_18': 18, 'id_1_19': 19, 'id_1_20': 20, 'id_1_21': 21, 'id_1_22': 22, 'id_1_23': 23, 'id_1_24': 24, 'id_1_25': 25, 'id_1_26': 26, 'id_1_27': 27, 'id_1_28': 28, 'id_1_29': 29, 'id_1_30': 34, 'id_1_31': 35, 'id_1_32': 36, 'id_1_33': 37, 'id_1_34': 50, 'id_1_35': 51, 'id_1_36': 52, 'id_1_37': 53, 'id_1_38': 54, 'id_1_39': 55, 'id_1_40': 56, 'id_1_41': 57, 'id_1_42': 58, 'id_1_43': 59, 'id_1_44': 60, 'id_1_45': 61, 'id_1_46': 84, 'id_1_47': 85, 'id_1_48': 86, 'id_1_49': 87, 'id_1_50': 88, 'id_1_51': 89, 'id_1_52': 90, 'id_1_53': 91, 'id_1_54': 92, 'id_1_55': 93, 'id_1_56': 94, 'id_1_57': 95, 'id_1_58': 96, 'id_1_59': 97, 'id_1_60': 98, 'id_1_61': 99, 'id_1_62': 100, 'id_1_63': 101, 'id_1_64': 106, 'id_1_65': 107, 'id_1_66': 108, 'id_1_67': 111, 'id_1_68': 112, 'id_1_69': 113, 'id_1_70': 118, 'id_1_71': 119, 'id_1_72': 120, 'id_1_73': 127, 'id_1_74': 128}\n"
     ]
    }
   ],
   "source": [
    "rgb_data_with_trigger = session.query(Video).join(Loop, Video.loop_id == Loop.id).filter(\n",
    "    Video.device == 'rgbCam',\n",
    "    Loop.id.in_(loops_with_trigger_ids)\n",
    ").all()"
   ],
   "metadata": {
    "collapsed": false,
    "ExecuteTime": {
     "end_time": "2023-10-01T07:10:36.601911300Z",
     "start_time": "2023-10-01T07:10:36.577376Z"
    }
   }
  },
  {
   "cell_type": "code",
   "execution_count": 10,
   "outputs": [
    {
     "name": "stdout",
     "output_type": "stream",
     "text": [
      "2023-10-01 09:10:36,591 INFO sqlalchemy.engine.Engine SELECT video.id AS video_id, video.device AS video_device, video.file_path AS video_file_path, video.loop_id AS video_loop_id \n",
      "FROM video JOIN loop ON video.loop_id = loop.id \n",
      "WHERE video.device = %(device_1)s AND loop.id IN (%(id_1_1)s, %(id_1_2)s, %(id_1_3)s, %(id_1_4)s, %(id_1_5)s, %(id_1_6)s, %(id_1_7)s, %(id_1_8)s, %(id_1_9)s, %(id_1_10)s, %(id_1_11)s, %(id_1_12)s, %(id_1_13)s, %(id_1_14)s, %(id_1_15)s, %(id_1_16)s, %(id_1_17)s, %(id_1_18)s, %(id_1_19)s, %(id_1_20)s, %(id_1_21)s, %(id_1_22)s, %(id_1_23)s, %(id_1_24)s, %(id_1_25)s, %(id_1_26)s, %(id_1_27)s, %(id_1_28)s, %(id_1_29)s, %(id_1_30)s, %(id_1_31)s, %(id_1_32)s, %(id_1_33)s, %(id_1_34)s, %(id_1_35)s, %(id_1_36)s, %(id_1_37)s, %(id_1_38)s, %(id_1_39)s, %(id_1_40)s, %(id_1_41)s, %(id_1_42)s, %(id_1_43)s, %(id_1_44)s, %(id_1_45)s, %(id_1_46)s, %(id_1_47)s, %(id_1_48)s, %(id_1_49)s, %(id_1_50)s, %(id_1_51)s, %(id_1_52)s, %(id_1_53)s, %(id_1_54)s)\n",
      "2023-10-01 09:10:36,592 INFO sqlalchemy.engine.Engine [cached since 0.01636s ago] {'device_1': 'rgbCam', 'id_1_1': 30, 'id_1_2': 31, 'id_1_3': 32, 'id_1_4': 33, 'id_1_5': 38, 'id_1_6': 39, 'id_1_7': 40, 'id_1_8': 41, 'id_1_9': 42, 'id_1_10': 43, 'id_1_11': 44, 'id_1_12': 45, 'id_1_13': 46, 'id_1_14': 47, 'id_1_15': 48, 'id_1_16': 49, 'id_1_17': 62, 'id_1_18': 63, 'id_1_19': 64, 'id_1_20': 65, 'id_1_21': 66, 'id_1_22': 67, 'id_1_23': 68, 'id_1_24': 69, 'id_1_25': 70, 'id_1_26': 71, 'id_1_27': 72, 'id_1_28': 73, 'id_1_29': 74, 'id_1_30': 75, 'id_1_31': 76, 'id_1_32': 77, 'id_1_33': 78, 'id_1_34': 79, 'id_1_35': 80, 'id_1_36': 81, 'id_1_37': 82, 'id_1_38': 83, 'id_1_39': 102, 'id_1_40': 103, 'id_1_41': 104, 'id_1_42': 105, 'id_1_43': 109, 'id_1_44': 110, 'id_1_45': 114, 'id_1_46': 115, 'id_1_47': 116, 'id_1_48': 117, 'id_1_49': 121, 'id_1_50': 122, 'id_1_51': 123, 'id_1_52': 124, 'id_1_53': 125, 'id_1_54': 126}\n"
     ]
    }
   ],
   "source": [
    "rgb_data_with_buoballs = session.query(Video).join(Loop, Video.loop_id == Loop.id).filter(\n",
    "    Video.device == 'rgbCam',\n",
    "    Loop.id.in_(loops_with_buoballs_ids)\n",
    ").all()"
   ],
   "metadata": {
    "collapsed": false,
    "ExecuteTime": {
     "end_time": "2023-10-01T07:10:36.627916Z",
     "start_time": "2023-10-01T07:10:36.590392900Z"
    }
   }
  },
  {
   "cell_type": "code",
   "execution_count": 11,
   "outputs": [
    {
     "data": {
      "text/plain": "74"
     },
     "execution_count": 11,
     "metadata": {},
     "output_type": "execute_result"
    }
   ],
   "source": [
    "len(rgb_data_with_trigger)"
   ],
   "metadata": {
    "collapsed": false,
    "ExecuteTime": {
     "end_time": "2023-10-01T07:10:36.631911300Z",
     "start_time": "2023-10-01T07:10:36.610918400Z"
    }
   }
  },
  {
   "cell_type": "code",
   "execution_count": 12,
   "outputs": [
    {
     "data": {
      "text/plain": "54"
     },
     "execution_count": 12,
     "metadata": {},
     "output_type": "execute_result"
    }
   ],
   "source": [
    "len(rgb_data_with_buoballs)"
   ],
   "metadata": {
    "collapsed": false,
    "ExecuteTime": {
     "end_time": "2023-10-01T07:10:36.678915600Z",
     "start_time": "2023-10-01T07:10:36.627916Z"
    }
   }
  },
  {
   "cell_type": "code",
   "execution_count": 14,
   "outputs": [],
   "source": [
    "trigger_file_path_list = []\n",
    "buoballs_file_path_list = []\n",
    "\n",
    "for x in rgb_data_with_trigger:\n",
    "    trigger_file_path_list.append(x.file_path)\n",
    "\n",
    "for x in rgb_data_with_buoballs:\n",
    "    buoballs_file_path_list.append(x.file_path)"
   ],
   "metadata": {
    "collapsed": false,
    "ExecuteTime": {
     "end_time": "2023-10-01T07:10:50.268220300Z",
     "start_time": "2023-10-01T07:10:50.255218500Z"
    }
   }
  },
  {
   "cell_type": "code",
   "execution_count": 15,
   "outputs": [
    {
     "data": {
      "text/plain": "['D:/tt_video_data/videos-2023-09-08 19_12_12.778376/rgbCam.h265.mp4',\n 'D:/tt_video_data/videos-2023-09-08 19_15_23.051845/rgbCam.h265.mp4',\n 'D:/tt_video_data/videos-2023-09-08 19_20_38.981489/rgbCam.h265.mp4',\n 'D:/tt_video_data/videos-2023-09-08 19_21_18.026639/rgbCam.h265.mp4',\n 'D:/tt_video_data/videos-2023-09-08 19_23_23.087926/rgbCam.h265.mp4',\n 'D:/tt_video_data/videos-2023-09-08 19_26_59.787451/rgbCam.h265.mp4',\n 'D:/tt_video_data/videos-2023-09-08 19_27_26.236903/rgbCam.h265.mp4',\n 'D:/tt_video_data/videos-2023-09-08 19_29_42.842763/rgbCam.h265.mp4',\n 'D:/tt_video_data/videos-2023-09-08 19_30_59.265265/rgbCam.h265.mp4',\n 'D:/tt_video_data/videos-2023-09-08 19_31_24.806689/rgbCam.h265.mp4',\n 'D:/tt_video_data/videos-2023-09-08 19_33_59.031174/rgbCam.h265.mp4',\n 'D:/tt_video_data/videos-2023-09-08 19_35_40.898982/rgbCam.h265.mp4',\n 'D:/tt_video_data/videos-2023-09-08 19_37_26.155858/rgbCam.h265.mp4',\n 'D:/tt_video_data/videos-2023-09-08 19_39_06.519723/rgbCam.h265.mp4',\n 'D:/tt_video_data/videos-2023-09-08 19_41_38.818464/rgbCam.h265.mp4',\n 'D:/tt_video_data/videos-2023-09-08 19_42_32.521634/rgbCam.h265.mp4',\n 'D:/tt_video_data/videos-2023-09-08 19_43_04.376095/rgbCam.h265.mp4',\n 'D:/tt_video_data/videos-2023-09-08 19_45_37.622749/rgbCam.h265.mp4',\n 'D:/tt_video_data/videos-2023-09-08 19_46_24.135592/rgbCam.h265.mp4',\n 'D:/tt_video_data/videos-2023-09-08 19_48_21.355915/rgbCam.h265.mp4',\n 'D:/tt_video_data/videos-2023-09-08 19_49_13.297929/rgbCam.h265.mp4',\n 'D:/tt_video_data/videos-2023-09-08 19_56_04.827392/rgbCam.h265.mp4',\n 'D:/tt_video_data/videos-2023-09-08 20_02_55.707109/rgbCam.h265.mp4',\n 'D:/tt_video_data/videos-2023-09-08 20_03_47.437114/rgbCam.h265.mp4',\n 'D:/tt_video_data/videos-2023-09-08 20_03_50.946017/rgbCam.h265.mp4',\n 'D:/tt_video_data/videos-2023-09-08 20_04_18.726927/rgbCam.h265.mp4',\n 'D:/tt_video_data/videos-2023-09-08 20_05_15.979967/rgbCam.h265.mp4',\n 'D:/tt_video_data/videos-2023-09-08 20_07_43.317548/rgbCam.h265.mp4',\n 'D:/tt_video_data/videos-2023-09-08 20_07_44.056956/rgbCam.h265.mp4',\n 'D:/tt_video_data/videos-2023-09-18 13_28_14.572482/rgbCam.h265.mp4',\n 'D:/tt_video_data/videos-2023-09-18 13_29_11.196579/rgbCam.h265.mp4',\n 'D:/tt_video_data/videos-2023-09-18 13_30_14.715458/rgbCam.h265.mp4',\n 'D:/tt_video_data/videos-2023-09-18 13_31_38.680342/rgbCam.h265.mp4',\n 'D:/tt_video_data/videos-2023-09-18 13_57_00.168321/rgbCam.h265.mp4',\n 'D:/tt_video_data/videos-2023-09-18 13_58_00.750016/rgbCam.h265.mp4',\n 'D:/tt_video_data/videos-2023-09-18 13_59_55.680679/rgbCam.h265.mp4',\n 'D:/tt_video_data/videos-2023-09-18 14_01_02.434198/rgbCam.h265.mp4',\n 'D:/tt_video_data/videos-2023-09-18 14_02_15.022228/rgbCam.h265.mp4',\n 'D:/tt_video_data/videos-2023-09-18 14_02_57.261139/rgbCam.h265.mp4',\n 'D:/tt_video_data/videos-2023-09-18 14_11_06.712204/rgbCam.h265.mp4',\n 'D:/tt_video_data/videos-2023-09-18 14_12_05.812233/rgbCam.h265.mp4',\n 'D:/tt_video_data/videos-2023-09-18 14_13_20.28143/rgbCam.h265.mp4',\n 'D:/tt_video_data/videos-2023-09-18 14_14_31.248598/rgbCam.h265.mp4',\n 'D:/tt_video_data/videos-2023-09-18 14_15_36.368536/rgbCam.h265.mp4',\n 'D:/tt_video_data/videos-2023-09-18 14_16_33.534175/rgbCam.h265.mp4',\n 'D:/tt_video_data/videos-2023-09-18 14_53_22.084271/rgbCam.h265.mp4',\n 'D:/tt_video_data/videos-2023-09-18 14_54_22.59875/rgbCam.h265.mp4',\n 'D:/tt_video_data/videos-2023-09-18 14_55_26.057597/rgbCam.h265.mp4',\n 'D:/tt_video_data/videos-2023-09-18 14_56_59.627645/rgbCam.h265.mp4',\n 'D:/tt_video_data/videos-2023-09-18 14_57_47.784144/rgbCam.h265.mp4',\n 'D:/tt_video_data/videos-2023-09-18 14_58_53.841434/rgbCam.h265.mp4',\n 'D:/tt_video_data/videos-2023-09-18 14_59_45.13571/rgbCam.h265.mp4',\n 'D:/tt_video_data/videos-2023-09-18 15_01_28.895904/rgbCam.h265.mp4',\n 'D:/tt_video_data/videos-2023-09-18 15_03_09.965418/rgbCam.h265.mp4',\n 'D:/tt_video_data/videos-2023-09-18 15_05_30.809805/rgbCam.h265.mp4',\n 'D:/tt_video_data/videos-2023-09-18 15_06_14.830587/rgbCam.h265.mp4',\n 'D:/tt_video_data/videos-2023-09-18 15_07_09.346999/rgbCam.h265.mp4',\n 'D:/tt_video_data/videos-2023-09-18 15_08_45.746898/rgbCam.h265.mp4',\n 'D:/tt_video_data/videos-2023-09-18 15_09_36.954687/rgbCam.h265.mp4',\n 'D:/tt_video_data/videos-2023-09-18 15_10_32.912868/rgbCam.h265.mp4',\n 'D:/tt_video_data/videos-2023-09-18 15_11_21.135448/rgbCam.h265.mp4',\n 'D:/tt_video_data/videos-2023-09-18 15_12_18.140875/rgbCam.h265.mp4',\n 'D:/tt_video_data/videos-2023-09-18 15_13_10.016419/rgbCam.h265.mp4',\n 'D:/tt_video_data/videos-2023-09-18 15_20_42.71738/rgbCam.h265.mp4',\n 'D:/tt_video_data/videos-2023-09-18 15_21_58.210555/rgbCam.h265.mp4',\n 'D:/tt_video_data/videos-2023-09-18 15_23_15.245848/rgbCam.h265.mp4',\n 'D:/tt_video_data/videos-2023-09-18 15_27_55.155402/rgbCam.h265.mp4',\n 'D:/tt_video_data/videos-2023-09-18 15_28_57.081473/rgbCam.h265.mp4',\n 'D:/tt_video_data/videos-2023-09-18 15_30_22.857281/rgbCam.h265.mp4',\n 'D:/tt_video_data/videos-2023-09-18 15_38_10.216258/rgbCam.h265.mp4',\n 'D:/tt_video_data/videos-2023-09-18 15_39_05.91613/rgbCam.h265.mp4',\n 'D:/tt_video_data/videos-2023-09-18 15_42_32.77483/rgbCam.h265.mp4',\n 'D:/tt_video_data/videos-2023-09-18 15_56_46.493459/rgbCam.h265.mp4',\n 'D:/tt_video_data/videos-2023-09-18 15_57_32.186492/rgbCam.h265.mp4']"
     },
     "execution_count": 15,
     "metadata": {},
     "output_type": "execute_result"
    }
   ],
   "source": [
    "trigger_file_path_list"
   ],
   "metadata": {
    "collapsed": false,
    "ExecuteTime": {
     "end_time": "2023-10-01T07:10:51.185465300Z",
     "start_time": "2023-10-01T07:10:51.162289800Z"
    }
   }
  },
  {
   "cell_type": "code",
   "execution_count": 16,
   "outputs": [
    {
     "data": {
      "text/plain": "['D:/tt_video_data/videos-2023-09-18 13_23_20.718099/rgbCam.h265.mp4',\n 'D:/tt_video_data/videos-2023-09-18 13_24_13.346946/rgbCam.h265.mp4',\n 'D:/tt_video_data/videos-2023-09-18 13_26_02.170698/rgbCam.h265.mp4',\n 'D:/tt_video_data/videos-2023-09-18 13_26_50.579833/rgbCam.h265.mp4',\n 'D:/tt_video_data/videos-2023-09-18 13_35_56.665269/rgbCam.h265.mp4',\n 'D:/tt_video_data/videos-2023-09-18 13_37_12.229218/rgbCam.h265.mp4',\n 'D:/tt_video_data/videos-2023-09-18 13_38_23.01515/rgbCam.h265.mp4',\n 'D:/tt_video_data/videos-2023-09-18 13_39_49.382423/rgbCam.h265.mp4',\n 'D:/tt_video_data/videos-2023-09-18 13_41_09.870865/rgbCam.h265.mp4',\n 'D:/tt_video_data/videos-2023-09-18 13_44_29.648522/rgbCam.h265.mp4',\n 'D:/tt_video_data/videos-2023-09-18 13_48_23.247632/rgbCam.h265.mp4',\n 'D:/tt_video_data/videos-2023-09-18 13_49_18.154482/rgbCam.h265.mp4',\n 'D:/tt_video_data/videos-2023-09-18 13_50_50.445568/rgbCam.h265.mp4',\n 'D:/tt_video_data/videos-2023-09-18 13_52_10.52593/rgbCam.h265.mp4',\n 'D:/tt_video_data/videos-2023-09-18 13_53_05.352886/rgbCam.h265.mp4',\n 'D:/tt_video_data/videos-2023-09-18 13_53_55.901142/rgbCam.h265.mp4',\n 'D:/tt_video_data/videos-2023-09-18 14_21_23.425552/rgbCam.h265.mp4',\n 'D:/tt_video_data/videos-2023-09-18 14_22_07.587042/rgbCam.h265.mp4',\n 'D:/tt_video_data/videos-2023-09-18 14_23_20.528511/rgbCam.h265.mp4',\n 'D:/tt_video_data/videos-2023-09-18 14_24_47.556274/rgbCam.h265.mp4',\n 'D:/tt_video_data/videos-2023-09-18 14_25_57.723227/rgbCam.h265.mp4',\n 'D:/tt_video_data/videos-2023-09-18 14_27_23.438496/rgbCam.h265.mp4',\n 'D:/tt_video_data/videos-2023-09-18 14_28_21.584766/rgbCam.h265.mp4',\n 'D:/tt_video_data/videos-2023-09-18 14_29_26.458659/rgbCam.h265.mp4',\n 'D:/tt_video_data/videos-2023-09-18 14_30_48.831813/rgbCam.h265.mp4',\n 'D:/tt_video_data/videos-2023-09-18 14_31_23.844265/rgbCam.h265.mp4',\n 'D:/tt_video_data/videos-2023-09-18 14_33_10.236129/rgbCam.h265.mp4',\n 'D:/tt_video_data/videos-2023-09-18 14_33_53.589624/rgbCam.h265.mp4',\n 'D:/tt_video_data/videos-2023-09-18 14_35_00.851865/rgbCam.h265.mp4',\n 'D:/tt_video_data/videos-2023-09-18 14_35_14.652751/rgbCam.h265.mp4',\n 'D:/tt_video_data/videos-2023-09-18 14_41_47.827746/rgbCam.h265.mp4',\n 'D:/tt_video_data/videos-2023-09-18 14_43_50.64396/rgbCam.h265.mp4',\n 'D:/tt_video_data/videos-2023-09-18 14_45_08.634137/rgbCam.h265.mp4',\n 'D:/tt_video_data/videos-2023-09-18 14_46_52.174437/rgbCam.h265.mp4',\n 'D:/tt_video_data/videos-2023-09-18 14_48_05.630079/rgbCam.h265.mp4',\n 'D:/tt_video_data/videos-2023-09-18 14_49_04.090605/rgbCam.h265.mp4',\n 'D:/tt_video_data/videos-2023-09-18 14_50_34.511529/rgbCam.h265.mp4',\n 'D:/tt_video_data/videos-2023-09-18 14_51_15.543078/rgbCam.h265.mp4',\n 'D:/tt_video_data/videos-2023-09-18 15_16_34.607767/rgbCam.h265.mp4',\n 'D:/tt_video_data/videos-2023-09-18 15_16_57.9662/rgbCam.h265.mp4',\n 'D:/tt_video_data/videos-2023-09-18 15_17_35.85227/rgbCam.h265.mp4',\n 'D:/tt_video_data/videos-2023-09-18 15_18_51.565559/rgbCam.h265.mp4',\n 'D:/tt_video_data/videos-2023-09-18 15_25_16.739483/rgbCam.h265.mp4',\n 'D:/tt_video_data/videos-2023-09-18 15_26_27.294507/rgbCam.h265.mp4',\n 'D:/tt_video_data/videos-2023-09-18 15_33_50.90865/rgbCam.h265.mp4',\n 'D:/tt_video_data/videos-2023-09-18 15_34_23.429987/rgbCam.h265.mp4',\n 'D:/tt_video_data/videos-2023-09-18 15_35_25.93515/rgbCam.h265.mp4',\n 'D:/tt_video_data/videos-2023-09-18 15_37_12.091862/rgbCam.h265.mp4',\n 'D:/tt_video_data/videos-2023-09-18 15_43_57.869961/rgbCam.h265.mp4',\n 'D:/tt_video_data/videos-2023-09-18 15_45_23.298781/rgbCam.h265.mp4',\n 'D:/tt_video_data/videos-2023-09-18 15_50_53.902822/rgbCam.h265.mp4',\n 'D:/tt_video_data/videos-2023-09-18 15_52_59.607825/rgbCam.h265.mp4',\n 'D:/tt_video_data/videos-2023-09-18 15_54_08.421279/rgbCam.h265.mp4',\n 'D:/tt_video_data/videos-2023-09-18 15_55_05.638256/rgbCam.h265.mp4']"
     },
     "execution_count": 16,
     "metadata": {},
     "output_type": "execute_result"
    }
   ],
   "source": [
    "buoballs_file_path_list"
   ],
   "metadata": {
    "collapsed": false,
    "ExecuteTime": {
     "end_time": "2023-10-01T07:10:52.448837800Z",
     "start_time": "2023-10-01T07:10:52.433852300Z"
    }
   }
  },
  {
   "cell_type": "code",
   "execution_count": null,
   "outputs": [],
   "source": [],
   "metadata": {
    "collapsed": false,
    "ExecuteTime": {
     "start_time": "2023-10-01T07:10:36.656905800Z"
    }
   }
  }
 ],
 "metadata": {
  "kernelspec": {
   "display_name": "Python 3",
   "language": "python",
   "name": "python3"
  },
  "language_info": {
   "codemirror_mode": {
    "name": "ipython",
    "version": 2
   },
   "file_extension": ".py",
   "mimetype": "text/x-python",
   "name": "python",
   "nbconvert_exporter": "python",
   "pygments_lexer": "ipython2",
   "version": "2.7.6"
  }
 },
 "nbformat": 4,
 "nbformat_minor": 0
}
