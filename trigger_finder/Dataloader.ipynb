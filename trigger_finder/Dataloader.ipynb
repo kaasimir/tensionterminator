{
 "cells": [
  {
   "cell_type": "code",
   "execution_count": 29,
   "metadata": {
    "ExecuteTime": {
     "end_time": "2023-10-01T10:57:20.571073700Z",
     "start_time": "2023-10-01T10:57:20.547082700Z"
    },
    "collapsed": true
   },
   "outputs": [],
   "source": [
    "import DB_Handler as dbh\n",
    "import os\n",
    "import matplotlib.pyplot as plt\n",
    "import numpy as np\n",
    "import cv2\n",
    "import calendar\n",
    "import time\n",
    "from torchvision import transforms\n",
    "from tqdm import tqdm\n",
    "from dotenv import load_dotenv"
   ]
  },
  {
   "cell_type": "code",
   "execution_count": 30,
   "metadata": {
    "ExecuteTime": {
     "end_time": "2023-10-01T10:57:20.603212Z",
     "start_time": "2023-10-01T10:57:20.571073700Z"
    },
    "collapsed": false
   },
   "outputs": [],
   "source": [
    "load_dotenv()\n",
    "\n",
    "db_params = {\n",
    "    'user': 'postgres',\n",
    "    'password': os.getenv('PASSWORT'),  # enter your DB password\n",
    "    'host': 'localhost',  # 'localhost' or IP address\n",
    "    'port': '5432',  # '5432'\n",
    "    'database': 'bigblock', #tensionTerminator\n",
    "}"
   ]
  },
  {
   "cell_type": "code",
   "execution_count": 33,
   "metadata": {
    "ExecuteTime": {
     "end_time": "2023-10-01T10:57:20.688772400Z",
     "start_time": "2023-10-01T10:57:20.576138900Z"
    },
    "collapsed": false
   },
   "outputs": [
    {
     "name": "stdout",
     "output_type": "stream",
     "text": [
      "Connected to PostgreSQL, DB: bigblock\n",
      "2023-11-05 16:58:04,445 INFO sqlalchemy.engine.Engine select pg_catalog.version()\n",
      "2023-11-05 16:58:04,445 INFO sqlalchemy.engine.Engine [raw sql] {}\n",
      "2023-11-05 16:58:04,445 INFO sqlalchemy.engine.Engine select current_schema()\n",
      "2023-11-05 16:58:04,445 INFO sqlalchemy.engine.Engine [raw sql] {}\n",
      "2023-11-05 16:58:04,445 INFO sqlalchemy.engine.Engine show standard_conforming_strings\n",
      "2023-11-05 16:58:04,445 INFO sqlalchemy.engine.Engine [raw sql] {}\n",
      "2023-11-05 16:58:04,445 INFO sqlalchemy.engine.Engine BEGIN (implicit)\n",
      "2023-11-05 16:58:04,453 INFO sqlalchemy.engine.Engine SELECT loop.id AS loop_id, loop.timestamp AS loop_timestamp, loop.session_length AS loop_session_length, loop.location AS loop_location, loop.human_labeled AS loop_human_labeled, loop.user_id AS loop_user_id \n",
      "FROM loop JOIN tools_loop_association ON loop.id = tools_loop_association.loop_id \n",
      "WHERE loop.human_labeled = true AND tools_loop_association.tool_id = %(tool_id_1)s\n",
      "2023-11-05 16:58:04,453 INFO sqlalchemy.engine.Engine [generated in 0.00064s] {'tool_id_1': 1}\n",
      "2023-11-05 16:58:04,457 INFO sqlalchemy.engine.Engine SELECT video.id AS video_id, video.device AS video_device, video.file_path AS video_file_path, video.loop_id AS video_loop_id \n",
      "FROM video JOIN loop ON video.loop_id = loop.id \n",
      "WHERE video.device = %(device_1)s AND loop.id IN (%(id_1_1)s, %(id_1_2)s, %(id_1_3)s, %(id_1_4)s, %(id_1_5)s, %(id_1_6)s, %(id_1_7)s, %(id_1_8)s, %(id_1_9)s, %(id_1_10)s, %(id_1_11)s, %(id_1_12)s, %(id_1_13)s, %(id_1_14)s, %(id_1_15)s, %(id_1_16)s, %(id_1_17)s, %(id_1_18)s, %(id_1_19)s, %(id_1_20)s, %(id_1_21)s, %(id_1_22)s, %(id_1_23)s, %(id_1_24)s, %(id_1_25)s, %(id_1_26)s, %(id_1_27)s, %(id_1_28)s, %(id_1_29)s, %(id_1_30)s, %(id_1_31)s, %(id_1_32)s, %(id_1_33)s, %(id_1_34)s, %(id_1_35)s, %(id_1_36)s, %(id_1_37)s, %(id_1_38)s, %(id_1_39)s, %(id_1_40)s, %(id_1_41)s, %(id_1_42)s, %(id_1_43)s, %(id_1_44)s, %(id_1_45)s, %(id_1_46)s, %(id_1_47)s, %(id_1_48)s, %(id_1_49)s, %(id_1_50)s, %(id_1_51)s, %(id_1_52)s, %(id_1_53)s, %(id_1_54)s, %(id_1_55)s, %(id_1_56)s, %(id_1_57)s, %(id_1_58)s, %(id_1_59)s, %(id_1_60)s, %(id_1_61)s, %(id_1_62)s, %(id_1_63)s, %(id_1_64)s, %(id_1_65)s, %(id_1_66)s, %(id_1_67)s, %(id_1_68)s, %(id_1_69)s, %(id_1_70)s, %(id_1_71)s, %(id_1_72)s, %(id_1_73)s, %(id_1_74)s)\n",
      "2023-11-05 16:58:04,457 INFO sqlalchemy.engine.Engine [generated in 0.00101s] {'device_1': 'rgbCam', 'id_1_1': 1, 'id_1_2': 2, 'id_1_3': 3, 'id_1_4': 4, 'id_1_5': 5, 'id_1_6': 6, 'id_1_7': 7, 'id_1_8': 8, 'id_1_9': 9, 'id_1_10': 10, 'id_1_11': 11, 'id_1_12': 12, 'id_1_13': 13, 'id_1_14': 14, 'id_1_15': 15, 'id_1_16': 16, 'id_1_17': 17, 'id_1_18': 18, 'id_1_19': 19, 'id_1_20': 20, 'id_1_21': 21, 'id_1_22': 22, 'id_1_23': 23, 'id_1_24': 24, 'id_1_25': 25, 'id_1_26': 26, 'id_1_27': 27, 'id_1_28': 28, 'id_1_29': 29, 'id_1_30': 34, 'id_1_31': 35, 'id_1_32': 36, 'id_1_33': 37, 'id_1_34': 50, 'id_1_35': 51, 'id_1_36': 52, 'id_1_37': 53, 'id_1_38': 54, 'id_1_39': 55, 'id_1_40': 56, 'id_1_41': 57, 'id_1_42': 58, 'id_1_43': 59, 'id_1_44': 60, 'id_1_45': 61, 'id_1_46': 84, 'id_1_47': 85, 'id_1_48': 86, 'id_1_49': 87, 'id_1_50': 88, 'id_1_51': 89, 'id_1_52': 90, 'id_1_53': 91, 'id_1_54': 92, 'id_1_55': 93, 'id_1_56': 94, 'id_1_57': 95, 'id_1_58': 96, 'id_1_59': 97, 'id_1_60': 98, 'id_1_61': 99, 'id_1_62': 100, 'id_1_63': 101, 'id_1_64': 106, 'id_1_65': 107, 'id_1_66': 108, 'id_1_67': 111, 'id_1_68': 112, 'id_1_69': 113, 'id_1_70': 118, 'id_1_71': 119, 'id_1_72': 120, 'id_1_73': 127, 'id_1_74': 128}\n",
      "!!!!!! ['./tt_video_data/videos-2023-09-08 19_12_12.778376/rgbCam.h265.mp4', './tt_video_data/videos-2023-09-08 19_15_23.051845/rgbCam.h265.mp4', './tt_video_data/videos-2023-09-08 19_20_38.981489/rgbCam.h265.mp4', './tt_video_data/videos-2023-09-08 19_21_18.026639/rgbCam.h265.mp4', './tt_video_data/videos-2023-09-08 19_23_23.087926/rgbCam.h265.mp4', './tt_video_data/videos-2023-09-08 19_26_59.787451/rgbCam.h265.mp4', './tt_video_data/videos-2023-09-08 19_27_26.236903/rgbCam.h265.mp4', './tt_video_data/videos-2023-09-08 19_29_42.842763/rgbCam.h265.mp4', './tt_video_data/videos-2023-09-08 19_30_59.265265/rgbCam.h265.mp4', './tt_video_data/videos-2023-09-08 19_31_24.806689/rgbCam.h265.mp4', './tt_video_data/videos-2023-09-08 19_33_59.031174/rgbCam.h265.mp4', './tt_video_data/videos-2023-09-08 19_35_40.898982/rgbCam.h265.mp4', './tt_video_data/videos-2023-09-08 19_37_26.155858/rgbCam.h265.mp4', './tt_video_data/videos-2023-09-08 19_39_06.519723/rgbCam.h265.mp4', './tt_video_data/videos-2023-09-08 19_41_38.818464/rgbCam.h265.mp4', './tt_video_data/videos-2023-09-08 19_42_32.521634/rgbCam.h265.mp4', './tt_video_data/videos-2023-09-08 19_43_04.376095/rgbCam.h265.mp4', './tt_video_data/videos-2023-09-08 19_45_37.622749/rgbCam.h265.mp4', './tt_video_data/videos-2023-09-08 19_46_24.135592/rgbCam.h265.mp4', './tt_video_data/videos-2023-09-08 19_48_21.355915/rgbCam.h265.mp4', './tt_video_data/videos-2023-09-08 19_49_13.297929/rgbCam.h265.mp4', './tt_video_data/videos-2023-09-08 19_56_04.827392/rgbCam.h265.mp4', './tt_video_data/videos-2023-09-08 20_02_55.707109/rgbCam.h265.mp4', './tt_video_data/videos-2023-09-08 20_03_47.437114/rgbCam.h265.mp4', './tt_video_data/videos-2023-09-08 20_03_50.946017/rgbCam.h265.mp4', './tt_video_data/videos-2023-09-08 20_04_18.726927/rgbCam.h265.mp4', './tt_video_data/videos-2023-09-08 20_05_15.979967/rgbCam.h265.mp4', './tt_video_data/videos-2023-09-08 20_07_43.317548/rgbCam.h265.mp4', './tt_video_data/videos-2023-09-08 20_07_44.056956/rgbCam.h265.mp4', './tt_video_data/videos-2023-09-18 13_28_14.572482/rgbCam.h265.mp4', './tt_video_data/videos-2023-09-18 13_29_11.196579/rgbCam.h265.mp4', './tt_video_data/videos-2023-09-18 13_30_14.715458/rgbCam.h265.mp4', './tt_video_data/videos-2023-09-18 13_31_38.680342/rgbCam.h265.mp4', './tt_video_data/videos-2023-09-18 13_57_00.168321/rgbCam.h265.mp4', './tt_video_data/videos-2023-09-18 13_58_00.750016/rgbCam.h265.mp4', './tt_video_data/videos-2023-09-18 13_59_55.680679/rgbCam.h265.mp4', './tt_video_data/videos-2023-09-18 14_01_02.434198/rgbCam.h265.mp4', './tt_video_data/videos-2023-09-18 14_02_15.022228/rgbCam.h265.mp4', './tt_video_data/videos-2023-09-18 14_02_57.261139/rgbCam.h265.mp4', './tt_video_data/videos-2023-09-18 14_11_06.712204/rgbCam.h265.mp4', './tt_video_data/videos-2023-09-18 14_12_05.812233/rgbCam.h265.mp4', './tt_video_data/videos-2023-09-18 14_13_20.28143/rgbCam.h265.mp4', './tt_video_data/videos-2023-09-18 14_14_31.248598/rgbCam.h265.mp4', './tt_video_data/videos-2023-09-18 14_15_36.368536/rgbCam.h265.mp4', './tt_video_data/videos-2023-09-18 14_16_33.534175/rgbCam.h265.mp4', './tt_video_data/videos-2023-09-18 14_53_22.084271/rgbCam.h265.mp4', './tt_video_data/videos-2023-09-18 14_54_22.59875/rgbCam.h265.mp4', './tt_video_data/videos-2023-09-18 14_55_26.057597/rgbCam.h265.mp4', './tt_video_data/videos-2023-09-18 14_56_59.627645/rgbCam.h265.mp4', './tt_video_data/videos-2023-09-18 14_57_47.784144/rgbCam.h265.mp4', './tt_video_data/videos-2023-09-18 14_58_53.841434/rgbCam.h265.mp4', './tt_video_data/videos-2023-09-18 14_59_45.13571/rgbCam.h265.mp4', './tt_video_data/videos-2023-09-18 15_01_28.895904/rgbCam.h265.mp4', './tt_video_data/videos-2023-09-18 15_03_09.965418/rgbCam.h265.mp4', './tt_video_data/videos-2023-09-18 15_05_30.809805/rgbCam.h265.mp4', './tt_video_data/videos-2023-09-18 15_06_14.830587/rgbCam.h265.mp4', './tt_video_data/videos-2023-09-18 15_07_09.346999/rgbCam.h265.mp4', './tt_video_data/videos-2023-09-18 15_08_45.746898/rgbCam.h265.mp4', './tt_video_data/videos-2023-09-18 15_09_36.954687/rgbCam.h265.mp4', './tt_video_data/videos-2023-09-18 15_10_32.912868/rgbCam.h265.mp4', './tt_video_data/videos-2023-09-18 15_11_21.135448/rgbCam.h265.mp4', './tt_video_data/videos-2023-09-18 15_12_18.140875/rgbCam.h265.mp4', './tt_video_data/videos-2023-09-18 15_13_10.016419/rgbCam.h265.mp4', './tt_video_data/videos-2023-09-18 15_20_42.71738/rgbCam.h265.mp4', './tt_video_data/videos-2023-09-18 15_21_58.210555/rgbCam.h265.mp4', './tt_video_data/videos-2023-09-18 15_23_15.245848/rgbCam.h265.mp4', './tt_video_data/videos-2023-09-18 15_27_55.155402/rgbCam.h265.mp4', './tt_video_data/videos-2023-09-18 15_28_57.081473/rgbCam.h265.mp4', './tt_video_data/videos-2023-09-18 15_30_22.857281/rgbCam.h265.mp4', './tt_video_data/videos-2023-09-18 15_38_10.216258/rgbCam.h265.mp4', './tt_video_data/videos-2023-09-18 15_39_05.91613/rgbCam.h265.mp4', './tt_video_data/videos-2023-09-18 15_42_32.77483/rgbCam.h265.mp4', './tt_video_data/videos-2023-09-18 15_56_46.493459/rgbCam.h265.mp4', './tt_video_data/videos-2023-09-18 15_57_32.186492/rgbCam.h265.mp4']\n",
      "2023-11-05 16:58:04,467 INFO sqlalchemy.engine.Engine SELECT loop.id AS loop_id, loop.timestamp AS loop_timestamp, loop.session_length AS loop_session_length, loop.location AS loop_location, loop.human_labeled AS loop_human_labeled, loop.user_id AS loop_user_id \n",
      "FROM loop JOIN tools_loop_association ON loop.id = tools_loop_association.loop_id \n",
      "WHERE loop.human_labeled = true AND tools_loop_association.tool_id != %(tool_id_1)s\n",
      "2023-11-05 16:58:04,467 INFO sqlalchemy.engine.Engine [generated in 0.00094s] {'tool_id_1': 1}\n",
      "2023-11-05 16:58:04,467 INFO sqlalchemy.engine.Engine SELECT video.id AS video_id, video.device AS video_device, video.file_path AS video_file_path, video.loop_id AS video_loop_id \n",
      "FROM video JOIN loop ON video.loop_id = loop.id \n",
      "WHERE video.device = %(device_1)s AND loop.id IN (%(id_1_1)s, %(id_1_2)s, %(id_1_3)s, %(id_1_4)s, %(id_1_5)s, %(id_1_6)s, %(id_1_7)s, %(id_1_8)s, %(id_1_9)s, %(id_1_10)s, %(id_1_11)s, %(id_1_12)s, %(id_1_13)s, %(id_1_14)s, %(id_1_15)s, %(id_1_16)s, %(id_1_17)s, %(id_1_18)s, %(id_1_19)s, %(id_1_20)s, %(id_1_21)s, %(id_1_22)s, %(id_1_23)s, %(id_1_24)s, %(id_1_25)s, %(id_1_26)s, %(id_1_27)s, %(id_1_28)s, %(id_1_29)s, %(id_1_30)s, %(id_1_31)s, %(id_1_32)s, %(id_1_33)s, %(id_1_34)s, %(id_1_35)s, %(id_1_36)s, %(id_1_37)s, %(id_1_38)s, %(id_1_39)s, %(id_1_40)s, %(id_1_41)s, %(id_1_42)s, %(id_1_43)s, %(id_1_44)s, %(id_1_45)s, %(id_1_46)s, %(id_1_47)s, %(id_1_48)s, %(id_1_49)s, %(id_1_50)s, %(id_1_51)s, %(id_1_52)s, %(id_1_53)s, %(id_1_54)s)\n",
      "2023-11-05 16:58:04,467 INFO sqlalchemy.engine.Engine [cached since 0.01095s ago] {'device_1': 'rgbCam', 'id_1_1': 30, 'id_1_2': 31, 'id_1_3': 32, 'id_1_4': 33, 'id_1_5': 38, 'id_1_6': 39, 'id_1_7': 40, 'id_1_8': 41, 'id_1_9': 42, 'id_1_10': 43, 'id_1_11': 44, 'id_1_12': 45, 'id_1_13': 46, 'id_1_14': 47, 'id_1_15': 48, 'id_1_16': 49, 'id_1_17': 62, 'id_1_18': 63, 'id_1_19': 64, 'id_1_20': 65, 'id_1_21': 66, 'id_1_22': 67, 'id_1_23': 68, 'id_1_24': 69, 'id_1_25': 70, 'id_1_26': 71, 'id_1_27': 72, 'id_1_28': 73, 'id_1_29': 74, 'id_1_30': 75, 'id_1_31': 76, 'id_1_32': 77, 'id_1_33': 78, 'id_1_34': 79, 'id_1_35': 80, 'id_1_36': 81, 'id_1_37': 82, 'id_1_38': 83, 'id_1_39': 102, 'id_1_40': 103, 'id_1_41': 104, 'id_1_42': 105, 'id_1_43': 109, 'id_1_44': 110, 'id_1_45': 114, 'id_1_46': 115, 'id_1_47': 116, 'id_1_48': 117, 'id_1_49': 121, 'id_1_50': 122, 'id_1_51': 123, 'id_1_52': 124, 'id_1_53': 125, 'id_1_54': 126}\n",
      "2023-11-05 16:58:04,474 INFO sqlalchemy.engine.Engine ROLLBACK\n",
      "Connection to bigblock closed\n"
     ]
    }
   ],
   "source": [
    "toolcheck = dbh.DB_Conn(db_params)\n",
    "toolcheck.connect()\n",
    "filepath_with_trigger = toolcheck.get_filepath_with_trigger()\n",
    "print(\"!!!!!!\", filepath_with_trigger)\n",
    "filepath_with_duoballs = toolcheck.get_filepath_with_duoballs()\n",
    "toolcheck.disconnect()"
   ]
  },
  {
   "cell_type": "code",
   "execution_count": 17,
   "metadata": {
    "ExecuteTime": {
     "end_time": "2023-10-01T10:57:20.689773700Z",
     "start_time": "2023-10-01T10:57:20.671768600Z"
    },
    "collapsed": false
   },
   "outputs": [],
   "source": [
    "#filepath_with_trigger"
   ]
  },
  {
   "cell_type": "code",
   "execution_count": 18,
   "metadata": {
    "ExecuteTime": {
     "end_time": "2023-10-01T10:57:20.733211300Z",
     "start_time": "2023-10-01T10:57:20.687757Z"
    },
    "collapsed": false
   },
   "outputs": [],
   "source": [
    "#filepath_with_duoballs"
   ]
  },
  {
   "cell_type": "code",
   "execution_count": 26,
   "metadata": {
    "ExecuteTime": {
     "end_time": "2023-10-01T10:57:20.733716900Z",
     "start_time": "2023-10-01T10:57:20.704765Z"
    },
    "collapsed": false
   },
   "outputs": [],
   "source": [
    "def trigger_crop(image):\n",
    "    crop_box = (400, 450, 550, 550)\n",
    "    cropped_image = transforms.functional.crop(image, *crop_box)\n",
    "    return cropped_image"
   ]
  },
  {
   "cell_type": "code",
   "execution_count": 27,
   "metadata": {
    "ExecuteTime": {
     "end_time": "2023-10-01T10:57:20.733716900Z",
     "start_time": "2023-10-01T10:57:20.721209400Z"
    },
    "collapsed": false
   },
   "outputs": [],
   "source": [
    "def videoToImageConverter(source_path: str, output_path: str):\n",
    "    vidcap = cv2.VideoCapture(source_path)\n",
    "    os.makedirs(output_path, exist_ok=True)\n",
    "    count = 0\n",
    "\n",
    "    total_frames = int(vidcap.get(cv2.CAP_PROP_FRAME_COUNT))\n",
    "    fps = int(vidcap.get(cv2.CAP_PROP_FPS))\n",
    "    fps = 1\n",
    "\n",
    "    while count < total_frames:\n",
    "        success, image = vidcap.read()\n",
    "\n",
    "        if count % int(fps) == 0:\n",
    "            if not image is None and not image.size == 0:\n",
    "                transform_test = transforms.ToPILImage()\n",
    "                image = transform_test(image)\n",
    "                image = trigger_crop(image)\n",
    "                image = np.asarray(image)\n",
    "                cv2.imwrite(f\"{output_path}/{count}.png\", image)  # save frame as PNG file\n",
    "\n",
    "        count += 1\n",
    "\n",
    "    vidcap.release()\n",
    "    cv2.destroyAllWindows()"
   ]
  },
  {
   "cell_type": "code",
   "execution_count": 34,
   "metadata": {
    "ExecuteTime": {
     "end_time": "2023-10-01T11:21:55.948471100Z",
     "start_time": "2023-10-01T10:57:20.735723500Z"
    },
    "collapsed": false
   },
   "outputs": [
    {
     "name": "stderr",
     "output_type": "stream",
     "text": [
      "100%|██████████| 74/74 [27:58<00:00, 22.69s/it] \n"
     ]
    }
   ],
   "source": [
    "for x in tqdm(filepath_with_trigger):\n",
    "    videoToImageConverter(x, './data/test_03/trigger')"
   ]
  },
  {
   "cell_type": "code",
   "execution_count": 35,
   "metadata": {
    "ExecuteTime": {
     "end_time": "2023-10-01T11:33:51.046294100Z",
     "start_time": "2023-10-01T11:21:55.948471100Z"
    },
    "collapsed": false
   },
   "outputs": [
    {
     "name": "stderr",
     "output_type": "stream",
     "text": [
      "100%|██████████| 54/54 [13:23<00:00, 14.88s/it]\n"
     ]
    }
   ],
   "source": [
    "for x in tqdm(filepath_with_duoballs):\n",
    "    videoToImageConverter(x, './data/test_03/duoballs')"
   ]
  }
 ],
 "metadata": {
  "kernelspec": {
   "display_name": "Python 3",
   "language": "python",
   "name": "python3"
  },
  "language_info": {
   "codemirror_mode": {
    "name": "ipython",
    "version": 3
   },
   "file_extension": ".py",
   "mimetype": "text/x-python",
   "name": "python",
   "nbconvert_exporter": "python",
   "pygments_lexer": "ipython3",
   "version": "3.11.4"
  }
 },
 "nbformat": 4,
 "nbformat_minor": 0
}
